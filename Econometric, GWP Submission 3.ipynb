{
 "cells": [
  {
   "cell_type": "markdown",
   "id": "opening-spoke",
   "metadata": {},
   "source": [
    "# Introduction"
   ]
  },
  {
   "cell_type": "markdown",
   "id": "pharmaceutical-liability",
   "metadata": {},
   "source": [
    "\n",
    "For gold ETF, we choose SPDR Gold Shares ETF, with symbol GLD.\n",
    "\n",
    "For equity ETF outside US, we choose iShares MSCI India ETF, with symbol INDA.\n",
    "\n",
    "For bitcoin, we choose Grayscale Bitcoin Trust, with symbol GBTC\n",
    "\n",
    "All prices are in USD Data source: https://finance.yahoo.com"
   ]
  },
  {
   "cell_type": "markdown",
   "id": "adverse-andorra",
   "metadata": {},
   "source": [
    "# Packages and Libraries"
   ]
  },
  {
   "cell_type": "code",
   "execution_count": 1,
   "id": "received-latitude",
   "metadata": {},
   "outputs": [],
   "source": [
    "import arch\n",
    "import yfinance as yf\n",
    "import pandas as pd\n",
    "import numpy as np\n",
    "from array import array\n",
    "from scipy.stats import kurtosis\n",
    "from sklearn.cluster import MeanShift\n",
    "from copulalib.copulalib import Copula\n",
    "from statsmodels.tsa.arima.model import ARIMA\n",
    "from statsmodels.tsa.stattools import coint\n",
    "from statsmodels.tsa.vector_ar.vecm import VECM\n",
    "import matplotlib.pyplot as plt\n",
    "%matplotlib inline"
   ]
  },
  {
   "cell_type": "markdown",
   "id": "detected-kinase",
   "metadata": {},
   "source": [
    "# 0. Building Trading Strategies During COVID"
   ]
  },
  {
   "cell_type": "code",
   "execution_count": null,
   "id": "charming-terrorism",
   "metadata": {},
   "outputs": [],
   "source": []
  },
  {
   "cell_type": "raw",
   "id": "minute-reporter",
   "metadata": {},
   "source": [
    "Downloading SPDR Gold Shares (GLD)- NYSEArca - NYSEArca Delayed Price. Currency in USD, iShares MSCI India ETF (INDA) BATS - BATS Delayed Price. Currency in USD, and Grayscale Bitcoin Trust (BTC) (GBTC) Other OTC - Other OTC Delayed Price. Currency in USD"
   ]
  },
  {
   "cell_type": "markdown",
   "id": "reliable-version",
   "metadata": {},
   "source": [
    "# 1. Data Importing"
   ]
  },
  {
   "cell_type": "raw",
   "id": "resistant-commonwealth",
   "metadata": {},
   "source": [
    "We have to import closing prices for the entire year of 2020 for  your GOLD ETF, your equity ETF, and bitcoin.\n"
   ]
  },
  {
   "cell_type": "raw",
   "id": "horizontal-whale",
   "metadata": {},
   "source": [
    "                          <<<<Downloading the data"
   ]
  },
  {
   "cell_type": "code",
   "execution_count": 2,
   "id": "latter-beaver",
   "metadata": {},
   "outputs": [
    {
     "name": "stdout",
     "output_type": "stream",
     "text": [
      "[*********************100%***********************]  1 of 1 completed\n",
      "[*********************100%***********************]  1 of 1 completed\n",
      "[*********************100%***********************]  1 of 1 completed\n"
     ]
    }
   ],
   "source": [
    "gold_df = yf.download(\"GLD\", start=\"2020-4-1\", end=\"2020-12-31\")\n",
    "india_df = yf.download(\"INDA\", start=\"2020-4-1\", end=\"2020-12-31\")\n",
    "bitcoin_df= yf.download(\"GBTC\", start=\"2020-4-1\", end=\"2020-12-31\")"
   ]
  },
  {
   "cell_type": "raw",
   "id": "selective-parking",
   "metadata": {},
   "source": [
    "                          <<<< Available data"
   ]
  },
  {
   "cell_type": "code",
   "execution_count": 3,
   "id": "fantastic-scratch",
   "metadata": {},
   "outputs": [
    {
     "data": {
      "text/html": [
       "<div>\n",
       "<style scoped>\n",
       "    .dataframe tbody tr th:only-of-type {\n",
       "        vertical-align: middle;\n",
       "    }\n",
       "\n",
       "    .dataframe tbody tr th {\n",
       "        vertical-align: top;\n",
       "    }\n",
       "\n",
       "    .dataframe thead th {\n",
       "        text-align: right;\n",
       "    }\n",
       "</style>\n",
       "<table border=\"1\" class=\"dataframe\">\n",
       "  <thead>\n",
       "    <tr style=\"text-align: right;\">\n",
       "      <th></th>\n",
       "      <th>Open</th>\n",
       "      <th>High</th>\n",
       "      <th>Low</th>\n",
       "      <th>Close</th>\n",
       "      <th>Adj Close</th>\n",
       "      <th>Volume</th>\n",
       "    </tr>\n",
       "    <tr>\n",
       "      <th>Date</th>\n",
       "      <th></th>\n",
       "      <th></th>\n",
       "      <th></th>\n",
       "      <th></th>\n",
       "      <th></th>\n",
       "      <th></th>\n",
       "    </tr>\n",
       "  </thead>\n",
       "  <tbody>\n",
       "    <tr>\n",
       "      <th>2020-03-31</th>\n",
       "      <td>151.360001</td>\n",
       "      <td>151.800003</td>\n",
       "      <td>147.970001</td>\n",
       "      <td>148.050003</td>\n",
       "      <td>148.050003</td>\n",
       "      <td>13319500</td>\n",
       "    </tr>\n",
       "    <tr>\n",
       "      <th>2020-04-01</th>\n",
       "      <td>148.199997</td>\n",
       "      <td>150.080002</td>\n",
       "      <td>147.850006</td>\n",
       "      <td>149.449997</td>\n",
       "      <td>149.449997</td>\n",
       "      <td>11827400</td>\n",
       "    </tr>\n",
       "    <tr>\n",
       "      <th>2020-04-02</th>\n",
       "      <td>151.199997</td>\n",
       "      <td>152.500000</td>\n",
       "      <td>150.699997</td>\n",
       "      <td>151.899994</td>\n",
       "      <td>151.899994</td>\n",
       "      <td>9188300</td>\n",
       "    </tr>\n",
       "    <tr>\n",
       "      <th>2020-04-03</th>\n",
       "      <td>152.229996</td>\n",
       "      <td>153.089996</td>\n",
       "      <td>151.660004</td>\n",
       "      <td>152.649994</td>\n",
       "      <td>152.649994</td>\n",
       "      <td>8469100</td>\n",
       "    </tr>\n",
       "    <tr>\n",
       "      <th>2020-04-06</th>\n",
       "      <td>154.160004</td>\n",
       "      <td>157.220001</td>\n",
       "      <td>153.960007</td>\n",
       "      <td>156.880005</td>\n",
       "      <td>156.880005</td>\n",
       "      <td>14739300</td>\n",
       "    </tr>\n",
       "  </tbody>\n",
       "</table>\n",
       "</div>"
      ],
      "text/plain": [
       "                  Open        High         Low       Close   Adj Close  \\\n",
       "Date                                                                     \n",
       "2020-03-31  151.360001  151.800003  147.970001  148.050003  148.050003   \n",
       "2020-04-01  148.199997  150.080002  147.850006  149.449997  149.449997   \n",
       "2020-04-02  151.199997  152.500000  150.699997  151.899994  151.899994   \n",
       "2020-04-03  152.229996  153.089996  151.660004  152.649994  152.649994   \n",
       "2020-04-06  154.160004  157.220001  153.960007  156.880005  156.880005   \n",
       "\n",
       "              Volume  \n",
       "Date                  \n",
       "2020-03-31  13319500  \n",
       "2020-04-01  11827400  \n",
       "2020-04-02   9188300  \n",
       "2020-04-03   8469100  \n",
       "2020-04-06  14739300  "
      ]
     },
     "execution_count": 3,
     "metadata": {},
     "output_type": "execute_result"
    }
   ],
   "source": [
    "gold_df.head()"
   ]
  },
  {
   "cell_type": "code",
   "execution_count": 4,
   "id": "julian-soccer",
   "metadata": {},
   "outputs": [
    {
     "data": {
      "text/html": [
       "<div>\n",
       "<style scoped>\n",
       "    .dataframe tbody tr th:only-of-type {\n",
       "        vertical-align: middle;\n",
       "    }\n",
       "\n",
       "    .dataframe tbody tr th {\n",
       "        vertical-align: top;\n",
       "    }\n",
       "\n",
       "    .dataframe thead th {\n",
       "        text-align: right;\n",
       "    }\n",
       "</style>\n",
       "<table border=\"1\" class=\"dataframe\">\n",
       "  <thead>\n",
       "    <tr style=\"text-align: right;\">\n",
       "      <th></th>\n",
       "      <th>Open</th>\n",
       "      <th>High</th>\n",
       "      <th>Low</th>\n",
       "      <th>Close</th>\n",
       "      <th>Adj Close</th>\n",
       "      <th>Volume</th>\n",
       "    </tr>\n",
       "    <tr>\n",
       "      <th>Date</th>\n",
       "      <th></th>\n",
       "      <th></th>\n",
       "      <th></th>\n",
       "      <th></th>\n",
       "      <th></th>\n",
       "      <th></th>\n",
       "    </tr>\n",
       "  </thead>\n",
       "  <tbody>\n",
       "    <tr>\n",
       "      <th>2020-12-23</th>\n",
       "      <td>175.100006</td>\n",
       "      <td>176.210007</td>\n",
       "      <td>175.059998</td>\n",
       "      <td>175.649994</td>\n",
       "      <td>175.649994</td>\n",
       "      <td>6542800</td>\n",
       "    </tr>\n",
       "    <tr>\n",
       "      <th>2020-12-24</th>\n",
       "      <td>175.550003</td>\n",
       "      <td>176.369995</td>\n",
       "      <td>175.509995</td>\n",
       "      <td>176.350006</td>\n",
       "      <td>176.350006</td>\n",
       "      <td>3695400</td>\n",
       "    </tr>\n",
       "    <tr>\n",
       "      <th>2020-12-28</th>\n",
       "      <td>177.259995</td>\n",
       "      <td>177.910004</td>\n",
       "      <td>175.630005</td>\n",
       "      <td>175.710007</td>\n",
       "      <td>175.710007</td>\n",
       "      <td>7778700</td>\n",
       "    </tr>\n",
       "    <tr>\n",
       "      <th>2020-12-29</th>\n",
       "      <td>176.250000</td>\n",
       "      <td>176.970001</td>\n",
       "      <td>175.570007</td>\n",
       "      <td>176.350006</td>\n",
       "      <td>176.350006</td>\n",
       "      <td>5983700</td>\n",
       "    </tr>\n",
       "    <tr>\n",
       "      <th>2020-12-30</th>\n",
       "      <td>176.440002</td>\n",
       "      <td>177.720001</td>\n",
       "      <td>176.440002</td>\n",
       "      <td>177.699997</td>\n",
       "      <td>177.699997</td>\n",
       "      <td>5914000</td>\n",
       "    </tr>\n",
       "  </tbody>\n",
       "</table>\n",
       "</div>"
      ],
      "text/plain": [
       "                  Open        High         Low       Close   Adj Close  \\\n",
       "Date                                                                     \n",
       "2020-12-23  175.100006  176.210007  175.059998  175.649994  175.649994   \n",
       "2020-12-24  175.550003  176.369995  175.509995  176.350006  176.350006   \n",
       "2020-12-28  177.259995  177.910004  175.630005  175.710007  175.710007   \n",
       "2020-12-29  176.250000  176.970001  175.570007  176.350006  176.350006   \n",
       "2020-12-30  176.440002  177.720001  176.440002  177.699997  177.699997   \n",
       "\n",
       "             Volume  \n",
       "Date                 \n",
       "2020-12-23  6542800  \n",
       "2020-12-24  3695400  \n",
       "2020-12-28  7778700  \n",
       "2020-12-29  5983700  \n",
       "2020-12-30  5914000  "
      ]
     },
     "execution_count": 4,
     "metadata": {},
     "output_type": "execute_result"
    }
   ],
   "source": [
    "gold_df.tail()"
   ]
  },
  {
   "cell_type": "code",
   "execution_count": 5,
   "id": "naked-guide",
   "metadata": {},
   "outputs": [
    {
     "data": {
      "text/html": [
       "<div>\n",
       "<style scoped>\n",
       "    .dataframe tbody tr th:only-of-type {\n",
       "        vertical-align: middle;\n",
       "    }\n",
       "\n",
       "    .dataframe tbody tr th {\n",
       "        vertical-align: top;\n",
       "    }\n",
       "\n",
       "    .dataframe thead th {\n",
       "        text-align: right;\n",
       "    }\n",
       "</style>\n",
       "<table border=\"1\" class=\"dataframe\">\n",
       "  <thead>\n",
       "    <tr style=\"text-align: right;\">\n",
       "      <th></th>\n",
       "      <th>Open</th>\n",
       "      <th>High</th>\n",
       "      <th>Low</th>\n",
       "      <th>Close</th>\n",
       "      <th>Adj Close</th>\n",
       "      <th>Volume</th>\n",
       "    </tr>\n",
       "    <tr>\n",
       "      <th>Date</th>\n",
       "      <th></th>\n",
       "      <th></th>\n",
       "      <th></th>\n",
       "      <th></th>\n",
       "      <th></th>\n",
       "      <th></th>\n",
       "    </tr>\n",
       "  </thead>\n",
       "  <tbody>\n",
       "    <tr>\n",
       "      <th>2020-03-31</th>\n",
       "      <td>24.090000</td>\n",
       "      <td>24.469999</td>\n",
       "      <td>23.870001</td>\n",
       "      <td>24.110001</td>\n",
       "      <td>24.002792</td>\n",
       "      <td>10298500</td>\n",
       "    </tr>\n",
       "    <tr>\n",
       "      <th>2020-04-01</th>\n",
       "      <td>22.830000</td>\n",
       "      <td>22.910000</td>\n",
       "      <td>22.330000</td>\n",
       "      <td>22.330000</td>\n",
       "      <td>22.230707</td>\n",
       "      <td>7727500</td>\n",
       "    </tr>\n",
       "    <tr>\n",
       "      <th>2020-04-02</th>\n",
       "      <td>22.709999</td>\n",
       "      <td>23.150000</td>\n",
       "      <td>22.480000</td>\n",
       "      <td>22.910000</td>\n",
       "      <td>22.808126</td>\n",
       "      <td>9119300</td>\n",
       "    </tr>\n",
       "    <tr>\n",
       "      <th>2020-04-03</th>\n",
       "      <td>22.610001</td>\n",
       "      <td>22.690001</td>\n",
       "      <td>21.920000</td>\n",
       "      <td>22.010000</td>\n",
       "      <td>21.912128</td>\n",
       "      <td>4746600</td>\n",
       "    </tr>\n",
       "    <tr>\n",
       "      <th>2020-04-06</th>\n",
       "      <td>22.990000</td>\n",
       "      <td>23.680000</td>\n",
       "      <td>22.920000</td>\n",
       "      <td>23.670000</td>\n",
       "      <td>23.564747</td>\n",
       "      <td>8111000</td>\n",
       "    </tr>\n",
       "  </tbody>\n",
       "</table>\n",
       "</div>"
      ],
      "text/plain": [
       "                 Open       High        Low      Close  Adj Close    Volume\n",
       "Date                                                                       \n",
       "2020-03-31  24.090000  24.469999  23.870001  24.110001  24.002792  10298500\n",
       "2020-04-01  22.830000  22.910000  22.330000  22.330000  22.230707   7727500\n",
       "2020-04-02  22.709999  23.150000  22.480000  22.910000  22.808126   9119300\n",
       "2020-04-03  22.610001  22.690001  21.920000  22.010000  21.912128   4746600\n",
       "2020-04-06  22.990000  23.680000  22.920000  23.670000  23.564747   8111000"
      ]
     },
     "execution_count": 5,
     "metadata": {},
     "output_type": "execute_result"
    }
   ],
   "source": [
    "india_df.head()"
   ]
  },
  {
   "cell_type": "code",
   "execution_count": 6,
   "id": "minimal-nelson",
   "metadata": {},
   "outputs": [
    {
     "data": {
      "text/html": [
       "<div>\n",
       "<style scoped>\n",
       "    .dataframe tbody tr th:only-of-type {\n",
       "        vertical-align: middle;\n",
       "    }\n",
       "\n",
       "    .dataframe tbody tr th {\n",
       "        vertical-align: top;\n",
       "    }\n",
       "\n",
       "    .dataframe thead th {\n",
       "        text-align: right;\n",
       "    }\n",
       "</style>\n",
       "<table border=\"1\" class=\"dataframe\">\n",
       "  <thead>\n",
       "    <tr style=\"text-align: right;\">\n",
       "      <th></th>\n",
       "      <th>Open</th>\n",
       "      <th>High</th>\n",
       "      <th>Low</th>\n",
       "      <th>Close</th>\n",
       "      <th>Adj Close</th>\n",
       "      <th>Volume</th>\n",
       "    </tr>\n",
       "    <tr>\n",
       "      <th>Date</th>\n",
       "      <th></th>\n",
       "      <th></th>\n",
       "      <th></th>\n",
       "      <th></th>\n",
       "      <th></th>\n",
       "      <th></th>\n",
       "    </tr>\n",
       "  </thead>\n",
       "  <tbody>\n",
       "    <tr>\n",
       "      <th>2020-12-23</th>\n",
       "      <td>38.990002</td>\n",
       "      <td>39.029999</td>\n",
       "      <td>38.919998</td>\n",
       "      <td>38.959999</td>\n",
       "      <td>38.923748</td>\n",
       "      <td>4906100</td>\n",
       "    </tr>\n",
       "    <tr>\n",
       "      <th>2020-12-24</th>\n",
       "      <td>39.230000</td>\n",
       "      <td>39.369999</td>\n",
       "      <td>39.230000</td>\n",
       "      <td>39.360001</td>\n",
       "      <td>39.323380</td>\n",
       "      <td>2924800</td>\n",
       "    </tr>\n",
       "    <tr>\n",
       "      <th>2020-12-28</th>\n",
       "      <td>39.759998</td>\n",
       "      <td>39.779999</td>\n",
       "      <td>39.580002</td>\n",
       "      <td>39.720001</td>\n",
       "      <td>39.683044</td>\n",
       "      <td>4541800</td>\n",
       "    </tr>\n",
       "    <tr>\n",
       "      <th>2020-12-29</th>\n",
       "      <td>39.840000</td>\n",
       "      <td>39.980000</td>\n",
       "      <td>39.740002</td>\n",
       "      <td>39.869999</td>\n",
       "      <td>39.832901</td>\n",
       "      <td>6577000</td>\n",
       "    </tr>\n",
       "    <tr>\n",
       "      <th>2020-12-30</th>\n",
       "      <td>40.110001</td>\n",
       "      <td>40.220001</td>\n",
       "      <td>40.060001</td>\n",
       "      <td>40.099998</td>\n",
       "      <td>40.062687</td>\n",
       "      <td>6492800</td>\n",
       "    </tr>\n",
       "  </tbody>\n",
       "</table>\n",
       "</div>"
      ],
      "text/plain": [
       "                 Open       High        Low      Close  Adj Close   Volume\n",
       "Date                                                                      \n",
       "2020-12-23  38.990002  39.029999  38.919998  38.959999  38.923748  4906100\n",
       "2020-12-24  39.230000  39.369999  39.230000  39.360001  39.323380  2924800\n",
       "2020-12-28  39.759998  39.779999  39.580002  39.720001  39.683044  4541800\n",
       "2020-12-29  39.840000  39.980000  39.740002  39.869999  39.832901  6577000\n",
       "2020-12-30  40.110001  40.220001  40.060001  40.099998  40.062687  6492800"
      ]
     },
     "execution_count": 6,
     "metadata": {},
     "output_type": "execute_result"
    }
   ],
   "source": [
    "india_df.tail()"
   ]
  },
  {
   "cell_type": "code",
   "execution_count": 7,
   "id": "greater-cover",
   "metadata": {},
   "outputs": [
    {
     "data": {
      "text/html": [
       "<div>\n",
       "<style scoped>\n",
       "    .dataframe tbody tr th:only-of-type {\n",
       "        vertical-align: middle;\n",
       "    }\n",
       "\n",
       "    .dataframe tbody tr th {\n",
       "        vertical-align: top;\n",
       "    }\n",
       "\n",
       "    .dataframe thead th {\n",
       "        text-align: right;\n",
       "    }\n",
       "</style>\n",
       "<table border=\"1\" class=\"dataframe\">\n",
       "  <thead>\n",
       "    <tr style=\"text-align: right;\">\n",
       "      <th></th>\n",
       "      <th>Open</th>\n",
       "      <th>High</th>\n",
       "      <th>Low</th>\n",
       "      <th>Close</th>\n",
       "      <th>Adj Close</th>\n",
       "      <th>Volume</th>\n",
       "    </tr>\n",
       "    <tr>\n",
       "      <th>Date</th>\n",
       "      <th></th>\n",
       "      <th></th>\n",
       "      <th></th>\n",
       "      <th></th>\n",
       "      <th></th>\n",
       "      <th></th>\n",
       "    </tr>\n",
       "  </thead>\n",
       "  <tbody>\n",
       "    <tr>\n",
       "      <th>2020-03-31</th>\n",
       "      <td>7.070</td>\n",
       "      <td>7.14</td>\n",
       "      <td>6.94</td>\n",
       "      <td>7.120</td>\n",
       "      <td>7.120</td>\n",
       "      <td>2675500</td>\n",
       "    </tr>\n",
       "    <tr>\n",
       "      <th>2020-04-01</th>\n",
       "      <td>6.800</td>\n",
       "      <td>6.90</td>\n",
       "      <td>6.41</td>\n",
       "      <td>6.495</td>\n",
       "      <td>6.495</td>\n",
       "      <td>4274800</td>\n",
       "    </tr>\n",
       "    <tr>\n",
       "      <th>2020-04-02</th>\n",
       "      <td>7.000</td>\n",
       "      <td>7.87</td>\n",
       "      <td>6.98</td>\n",
       "      <td>7.720</td>\n",
       "      <td>7.720</td>\n",
       "      <td>7980600</td>\n",
       "    </tr>\n",
       "    <tr>\n",
       "      <th>2020-04-03</th>\n",
       "      <td>7.940</td>\n",
       "      <td>7.94</td>\n",
       "      <td>7.25</td>\n",
       "      <td>7.480</td>\n",
       "      <td>7.480</td>\n",
       "      <td>3059800</td>\n",
       "    </tr>\n",
       "    <tr>\n",
       "      <th>2020-04-06</th>\n",
       "      <td>7.824</td>\n",
       "      <td>8.06</td>\n",
       "      <td>7.71</td>\n",
       "      <td>7.950</td>\n",
       "      <td>7.950</td>\n",
       "      <td>4910400</td>\n",
       "    </tr>\n",
       "  </tbody>\n",
       "</table>\n",
       "</div>"
      ],
      "text/plain": [
       "             Open  High   Low  Close  Adj Close   Volume\n",
       "Date                                                    \n",
       "2020-03-31  7.070  7.14  6.94  7.120      7.120  2675500\n",
       "2020-04-01  6.800  6.90  6.41  6.495      6.495  4274800\n",
       "2020-04-02  7.000  7.87  6.98  7.720      7.720  7980600\n",
       "2020-04-03  7.940  7.94  7.25  7.480      7.480  3059800\n",
       "2020-04-06  7.824  8.06  7.71  7.950      7.950  4910400"
      ]
     },
     "execution_count": 7,
     "metadata": {},
     "output_type": "execute_result"
    }
   ],
   "source": [
    "bitcoin_df.head()"
   ]
  },
  {
   "cell_type": "code",
   "execution_count": 8,
   "id": "large-forge",
   "metadata": {},
   "outputs": [
    {
     "data": {
      "text/html": [
       "<div>\n",
       "<style scoped>\n",
       "    .dataframe tbody tr th:only-of-type {\n",
       "        vertical-align: middle;\n",
       "    }\n",
       "\n",
       "    .dataframe tbody tr th {\n",
       "        vertical-align: top;\n",
       "    }\n",
       "\n",
       "    .dataframe thead th {\n",
       "        text-align: right;\n",
       "    }\n",
       "</style>\n",
       "<table border=\"1\" class=\"dataframe\">\n",
       "  <thead>\n",
       "    <tr style=\"text-align: right;\">\n",
       "      <th></th>\n",
       "      <th>Open</th>\n",
       "      <th>High</th>\n",
       "      <th>Low</th>\n",
       "      <th>Close</th>\n",
       "      <th>Adj Close</th>\n",
       "      <th>Volume</th>\n",
       "    </tr>\n",
       "    <tr>\n",
       "      <th>Date</th>\n",
       "      <th></th>\n",
       "      <th></th>\n",
       "      <th></th>\n",
       "      <th></th>\n",
       "      <th></th>\n",
       "      <th></th>\n",
       "    </tr>\n",
       "  </thead>\n",
       "  <tbody>\n",
       "    <tr>\n",
       "      <th>2020-12-23</th>\n",
       "      <td>30.500000</td>\n",
       "      <td>30.850000</td>\n",
       "      <td>28.820000</td>\n",
       "      <td>28.879999</td>\n",
       "      <td>28.879999</td>\n",
       "      <td>11054700</td>\n",
       "    </tr>\n",
       "    <tr>\n",
       "      <th>2020-12-24</th>\n",
       "      <td>28.700001</td>\n",
       "      <td>28.709999</td>\n",
       "      <td>26.450001</td>\n",
       "      <td>27.350000</td>\n",
       "      <td>27.350000</td>\n",
       "      <td>12591200</td>\n",
       "    </tr>\n",
       "    <tr>\n",
       "      <th>2020-12-28</th>\n",
       "      <td>33.330002</td>\n",
       "      <td>33.340000</td>\n",
       "      <td>30.120001</td>\n",
       "      <td>30.450001</td>\n",
       "      <td>30.450001</td>\n",
       "      <td>19499400</td>\n",
       "    </tr>\n",
       "    <tr>\n",
       "      <th>2020-12-29</th>\n",
       "      <td>31.110001</td>\n",
       "      <td>31.150000</td>\n",
       "      <td>28.500000</td>\n",
       "      <td>30.080000</td>\n",
       "      <td>30.080000</td>\n",
       "      <td>16651800</td>\n",
       "    </tr>\n",
       "    <tr>\n",
       "      <th>2020-12-30</th>\n",
       "      <td>31.299999</td>\n",
       "      <td>33.000000</td>\n",
       "      <td>31.000000</td>\n",
       "      <td>32.900002</td>\n",
       "      <td>32.900002</td>\n",
       "      <td>18116500</td>\n",
       "    </tr>\n",
       "  </tbody>\n",
       "</table>\n",
       "</div>"
      ],
      "text/plain": [
       "                 Open       High        Low      Close  Adj Close    Volume\n",
       "Date                                                                       \n",
       "2020-12-23  30.500000  30.850000  28.820000  28.879999  28.879999  11054700\n",
       "2020-12-24  28.700001  28.709999  26.450001  27.350000  27.350000  12591200\n",
       "2020-12-28  33.330002  33.340000  30.120001  30.450001  30.450001  19499400\n",
       "2020-12-29  31.110001  31.150000  28.500000  30.080000  30.080000  16651800\n",
       "2020-12-30  31.299999  33.000000  31.000000  32.900002  32.900002  18116500"
      ]
     },
     "execution_count": 8,
     "metadata": {},
     "output_type": "execute_result"
    }
   ],
   "source": [
    "bitcoin_df.tail()"
   ]
  },
  {
   "cell_type": "markdown",
   "id": "functioning-leeds",
   "metadata": {},
   "source": [
    "# 2. Data Processing"
   ]
  },
  {
   "cell_type": "raw",
   "id": "bridal-polyester",
   "metadata": {},
   "source": [
    "The daily returns of your Gold ETF, your Equity ETF, and bitcoin of April 2020 through Dec 2020\n",
    "\n",
    "All daily returns are applied on Adjusted Close prices"
   ]
  },
  {
   "cell_type": "code",
   "execution_count": 9,
   "id": "monthly-danger",
   "metadata": {},
   "outputs": [
    {
     "data": {
      "text/html": [
       "<div>\n",
       "<style scoped>\n",
       "    .dataframe tbody tr th:only-of-type {\n",
       "        vertical-align: middle;\n",
       "    }\n",
       "\n",
       "    .dataframe tbody tr th {\n",
       "        vertical-align: top;\n",
       "    }\n",
       "\n",
       "    .dataframe thead th {\n",
       "        text-align: right;\n",
       "    }\n",
       "</style>\n",
       "<table border=\"1\" class=\"dataframe\">\n",
       "  <thead>\n",
       "    <tr style=\"text-align: right;\">\n",
       "      <th></th>\n",
       "      <th>Open</th>\n",
       "      <th>High</th>\n",
       "      <th>Low</th>\n",
       "      <th>Close</th>\n",
       "      <th>Adj Close</th>\n",
       "      <th>Volume</th>\n",
       "      <th>Daily Return</th>\n",
       "    </tr>\n",
       "    <tr>\n",
       "      <th>Date</th>\n",
       "      <th></th>\n",
       "      <th></th>\n",
       "      <th></th>\n",
       "      <th></th>\n",
       "      <th></th>\n",
       "      <th></th>\n",
       "      <th></th>\n",
       "    </tr>\n",
       "  </thead>\n",
       "  <tbody>\n",
       "    <tr>\n",
       "      <th>2020-03-31</th>\n",
       "      <td>151.360001</td>\n",
       "      <td>151.800003</td>\n",
       "      <td>147.970001</td>\n",
       "      <td>148.050003</td>\n",
       "      <td>148.050003</td>\n",
       "      <td>13319500</td>\n",
       "      <td>NaN</td>\n",
       "    </tr>\n",
       "    <tr>\n",
       "      <th>2020-04-01</th>\n",
       "      <td>148.199997</td>\n",
       "      <td>150.080002</td>\n",
       "      <td>147.850006</td>\n",
       "      <td>149.449997</td>\n",
       "      <td>149.449997</td>\n",
       "      <td>11827400</td>\n",
       "      <td>0.009456</td>\n",
       "    </tr>\n",
       "    <tr>\n",
       "      <th>2020-04-02</th>\n",
       "      <td>151.199997</td>\n",
       "      <td>152.500000</td>\n",
       "      <td>150.699997</td>\n",
       "      <td>151.899994</td>\n",
       "      <td>151.899994</td>\n",
       "      <td>9188300</td>\n",
       "      <td>0.016393</td>\n",
       "    </tr>\n",
       "    <tr>\n",
       "      <th>2020-04-03</th>\n",
       "      <td>152.229996</td>\n",
       "      <td>153.089996</td>\n",
       "      <td>151.660004</td>\n",
       "      <td>152.649994</td>\n",
       "      <td>152.649994</td>\n",
       "      <td>8469100</td>\n",
       "      <td>0.004937</td>\n",
       "    </tr>\n",
       "    <tr>\n",
       "      <th>2020-04-06</th>\n",
       "      <td>154.160004</td>\n",
       "      <td>157.220001</td>\n",
       "      <td>153.960007</td>\n",
       "      <td>156.880005</td>\n",
       "      <td>156.880005</td>\n",
       "      <td>14739300</td>\n",
       "      <td>0.027711</td>\n",
       "    </tr>\n",
       "  </tbody>\n",
       "</table>\n",
       "</div>"
      ],
      "text/plain": [
       "                  Open        High         Low       Close   Adj Close  \\\n",
       "Date                                                                     \n",
       "2020-03-31  151.360001  151.800003  147.970001  148.050003  148.050003   \n",
       "2020-04-01  148.199997  150.080002  147.850006  149.449997  149.449997   \n",
       "2020-04-02  151.199997  152.500000  150.699997  151.899994  151.899994   \n",
       "2020-04-03  152.229996  153.089996  151.660004  152.649994  152.649994   \n",
       "2020-04-06  154.160004  157.220001  153.960007  156.880005  156.880005   \n",
       "\n",
       "              Volume  Daily Return  \n",
       "Date                                \n",
       "2020-03-31  13319500           NaN  \n",
       "2020-04-01  11827400      0.009456  \n",
       "2020-04-02   9188300      0.016393  \n",
       "2020-04-03   8469100      0.004937  \n",
       "2020-04-06  14739300      0.027711  "
      ]
     },
     "execution_count": 9,
     "metadata": {},
     "output_type": "execute_result"
    }
   ],
   "source": [
    "gold_df[\"Daily Return\"] = gold_df[\"Adj Close\"].pct_change(1)\n",
    "gold_df.head()"
   ]
  },
  {
   "cell_type": "code",
   "execution_count": 10,
   "id": "progressive-oklahoma",
   "metadata": {},
   "outputs": [
    {
     "data": {
      "text/html": [
       "<div>\n",
       "<style scoped>\n",
       "    .dataframe tbody tr th:only-of-type {\n",
       "        vertical-align: middle;\n",
       "    }\n",
       "\n",
       "    .dataframe tbody tr th {\n",
       "        vertical-align: top;\n",
       "    }\n",
       "\n",
       "    .dataframe thead th {\n",
       "        text-align: right;\n",
       "    }\n",
       "</style>\n",
       "<table border=\"1\" class=\"dataframe\">\n",
       "  <thead>\n",
       "    <tr style=\"text-align: right;\">\n",
       "      <th></th>\n",
       "      <th>Open</th>\n",
       "      <th>High</th>\n",
       "      <th>Low</th>\n",
       "      <th>Close</th>\n",
       "      <th>Adj Close</th>\n",
       "      <th>Volume</th>\n",
       "      <th>Daily Return</th>\n",
       "    </tr>\n",
       "    <tr>\n",
       "      <th>Date</th>\n",
       "      <th></th>\n",
       "      <th></th>\n",
       "      <th></th>\n",
       "      <th></th>\n",
       "      <th></th>\n",
       "      <th></th>\n",
       "      <th></th>\n",
       "    </tr>\n",
       "  </thead>\n",
       "  <tbody>\n",
       "    <tr>\n",
       "      <th>2020-03-31</th>\n",
       "      <td>24.090000</td>\n",
       "      <td>24.469999</td>\n",
       "      <td>23.870001</td>\n",
       "      <td>24.110001</td>\n",
       "      <td>24.002792</td>\n",
       "      <td>10298500</td>\n",
       "      <td>NaN</td>\n",
       "    </tr>\n",
       "    <tr>\n",
       "      <th>2020-04-01</th>\n",
       "      <td>22.830000</td>\n",
       "      <td>22.910000</td>\n",
       "      <td>22.330000</td>\n",
       "      <td>22.330000</td>\n",
       "      <td>22.230707</td>\n",
       "      <td>7727500</td>\n",
       "      <td>-0.073828</td>\n",
       "    </tr>\n",
       "    <tr>\n",
       "      <th>2020-04-02</th>\n",
       "      <td>22.709999</td>\n",
       "      <td>23.150000</td>\n",
       "      <td>22.480000</td>\n",
       "      <td>22.910000</td>\n",
       "      <td>22.808126</td>\n",
       "      <td>9119300</td>\n",
       "      <td>0.025974</td>\n",
       "    </tr>\n",
       "    <tr>\n",
       "      <th>2020-04-03</th>\n",
       "      <td>22.610001</td>\n",
       "      <td>22.690001</td>\n",
       "      <td>21.920000</td>\n",
       "      <td>22.010000</td>\n",
       "      <td>21.912128</td>\n",
       "      <td>4746600</td>\n",
       "      <td>-0.039284</td>\n",
       "    </tr>\n",
       "    <tr>\n",
       "      <th>2020-04-06</th>\n",
       "      <td>22.990000</td>\n",
       "      <td>23.680000</td>\n",
       "      <td>22.920000</td>\n",
       "      <td>23.670000</td>\n",
       "      <td>23.564747</td>\n",
       "      <td>8111000</td>\n",
       "      <td>0.075420</td>\n",
       "    </tr>\n",
       "  </tbody>\n",
       "</table>\n",
       "</div>"
      ],
      "text/plain": [
       "                 Open       High        Low      Close  Adj Close    Volume  \\\n",
       "Date                                                                          \n",
       "2020-03-31  24.090000  24.469999  23.870001  24.110001  24.002792  10298500   \n",
       "2020-04-01  22.830000  22.910000  22.330000  22.330000  22.230707   7727500   \n",
       "2020-04-02  22.709999  23.150000  22.480000  22.910000  22.808126   9119300   \n",
       "2020-04-03  22.610001  22.690001  21.920000  22.010000  21.912128   4746600   \n",
       "2020-04-06  22.990000  23.680000  22.920000  23.670000  23.564747   8111000   \n",
       "\n",
       "            Daily Return  \n",
       "Date                      \n",
       "2020-03-31           NaN  \n",
       "2020-04-01     -0.073828  \n",
       "2020-04-02      0.025974  \n",
       "2020-04-03     -0.039284  \n",
       "2020-04-06      0.075420  "
      ]
     },
     "execution_count": 10,
     "metadata": {},
     "output_type": "execute_result"
    }
   ],
   "source": [
    "india_df[\"Daily Return\"] = india_df[\"Adj Close\"].pct_change(1)\n",
    "india_df.head()"
   ]
  },
  {
   "cell_type": "code",
   "execution_count": 11,
   "id": "nuclear-container",
   "metadata": {},
   "outputs": [
    {
     "data": {
      "text/html": [
       "<div>\n",
       "<style scoped>\n",
       "    .dataframe tbody tr th:only-of-type {\n",
       "        vertical-align: middle;\n",
       "    }\n",
       "\n",
       "    .dataframe tbody tr th {\n",
       "        vertical-align: top;\n",
       "    }\n",
       "\n",
       "    .dataframe thead th {\n",
       "        text-align: right;\n",
       "    }\n",
       "</style>\n",
       "<table border=\"1\" class=\"dataframe\">\n",
       "  <thead>\n",
       "    <tr style=\"text-align: right;\">\n",
       "      <th></th>\n",
       "      <th>Open</th>\n",
       "      <th>High</th>\n",
       "      <th>Low</th>\n",
       "      <th>Close</th>\n",
       "      <th>Adj Close</th>\n",
       "      <th>Volume</th>\n",
       "      <th>Daily Return</th>\n",
       "    </tr>\n",
       "    <tr>\n",
       "      <th>Date</th>\n",
       "      <th></th>\n",
       "      <th></th>\n",
       "      <th></th>\n",
       "      <th></th>\n",
       "      <th></th>\n",
       "      <th></th>\n",
       "      <th></th>\n",
       "    </tr>\n",
       "  </thead>\n",
       "  <tbody>\n",
       "    <tr>\n",
       "      <th>2020-03-31</th>\n",
       "      <td>7.070</td>\n",
       "      <td>7.14</td>\n",
       "      <td>6.94</td>\n",
       "      <td>7.120</td>\n",
       "      <td>7.120</td>\n",
       "      <td>2675500</td>\n",
       "      <td>NaN</td>\n",
       "    </tr>\n",
       "    <tr>\n",
       "      <th>2020-04-01</th>\n",
       "      <td>6.800</td>\n",
       "      <td>6.90</td>\n",
       "      <td>6.41</td>\n",
       "      <td>6.495</td>\n",
       "      <td>6.495</td>\n",
       "      <td>4274800</td>\n",
       "      <td>-0.087781</td>\n",
       "    </tr>\n",
       "    <tr>\n",
       "      <th>2020-04-02</th>\n",
       "      <td>7.000</td>\n",
       "      <td>7.87</td>\n",
       "      <td>6.98</td>\n",
       "      <td>7.720</td>\n",
       "      <td>7.720</td>\n",
       "      <td>7980600</td>\n",
       "      <td>0.188607</td>\n",
       "    </tr>\n",
       "    <tr>\n",
       "      <th>2020-04-03</th>\n",
       "      <td>7.940</td>\n",
       "      <td>7.94</td>\n",
       "      <td>7.25</td>\n",
       "      <td>7.480</td>\n",
       "      <td>7.480</td>\n",
       "      <td>3059800</td>\n",
       "      <td>-0.031088</td>\n",
       "    </tr>\n",
       "    <tr>\n",
       "      <th>2020-04-06</th>\n",
       "      <td>7.824</td>\n",
       "      <td>8.06</td>\n",
       "      <td>7.71</td>\n",
       "      <td>7.950</td>\n",
       "      <td>7.950</td>\n",
       "      <td>4910400</td>\n",
       "      <td>0.062834</td>\n",
       "    </tr>\n",
       "  </tbody>\n",
       "</table>\n",
       "</div>"
      ],
      "text/plain": [
       "             Open  High   Low  Close  Adj Close   Volume  Daily Return\n",
       "Date                                                                  \n",
       "2020-03-31  7.070  7.14  6.94  7.120      7.120  2675500           NaN\n",
       "2020-04-01  6.800  6.90  6.41  6.495      6.495  4274800     -0.087781\n",
       "2020-04-02  7.000  7.87  6.98  7.720      7.720  7980600      0.188607\n",
       "2020-04-03  7.940  7.94  7.25  7.480      7.480  3059800     -0.031088\n",
       "2020-04-06  7.824  8.06  7.71  7.950      7.950  4910400      0.062834"
      ]
     },
     "execution_count": 11,
     "metadata": {},
     "output_type": "execute_result"
    }
   ],
   "source": [
    "bitcoin_df[\"Daily Return\"] = bitcoin_df[\"Adj Close\"].pct_change(1)\n",
    "bitcoin_df.head()"
   ]
  },
  {
   "cell_type": "markdown",
   "id": "detected-yield",
   "metadata": {},
   "source": [
    "# 3. Data Summaries.  Extreme Values"
   ]
  },
  {
   "cell_type": "markdown",
   "id": "mathematical-blowing",
   "metadata": {},
   "source": [
    "# Returns from January"
   ]
  },
  {
   "cell_type": "code",
   "execution_count": 12,
   "id": "removed-admission",
   "metadata": {},
   "outputs": [
    {
     "name": "stdout",
     "output_type": "stream",
     "text": [
      "[*********************100%***********************]  1 of 1 completed\n",
      "[*********************100%***********************]  1 of 1 completed\n",
      "[*********************100%***********************]  1 of 1 completed\n"
     ]
    }
   ],
   "source": [
    "GOLD_DF = yf.download(\"GLD\", start=\"2020-1-1\", end=\"2020-12-31\")\n",
    "INDIA_DF = yf.download(\"INDA\", start=\"2020-1-1\", end=\"2020-12-31\")\n",
    "BITCOIN_DF= yf.download(\"GBTC\", start=\"2020-1-1\", end=\"2020-12-31\")"
   ]
  },
  {
   "cell_type": "code",
   "execution_count": 13,
   "id": "fatty-timothy",
   "metadata": {},
   "outputs": [
    {
     "data": {
      "text/html": [
       "<div>\n",
       "<style scoped>\n",
       "    .dataframe tbody tr th:only-of-type {\n",
       "        vertical-align: middle;\n",
       "    }\n",
       "\n",
       "    .dataframe tbody tr th {\n",
       "        vertical-align: top;\n",
       "    }\n",
       "\n",
       "    .dataframe thead th {\n",
       "        text-align: right;\n",
       "    }\n",
       "</style>\n",
       "<table border=\"1\" class=\"dataframe\">\n",
       "  <thead>\n",
       "    <tr style=\"text-align: right;\">\n",
       "      <th></th>\n",
       "      <th>Open</th>\n",
       "      <th>High</th>\n",
       "      <th>Low</th>\n",
       "      <th>Close</th>\n",
       "      <th>Adj Close</th>\n",
       "      <th>Volume</th>\n",
       "      <th>Daily Return</th>\n",
       "    </tr>\n",
       "    <tr>\n",
       "      <th>Date</th>\n",
       "      <th></th>\n",
       "      <th></th>\n",
       "      <th></th>\n",
       "      <th></th>\n",
       "      <th></th>\n",
       "      <th></th>\n",
       "      <th></th>\n",
       "    </tr>\n",
       "  </thead>\n",
       "  <tbody>\n",
       "    <tr>\n",
       "      <th>2019-12-31</th>\n",
       "      <td>143.309998</td>\n",
       "      <td>143.600006</td>\n",
       "      <td>142.800003</td>\n",
       "      <td>142.899994</td>\n",
       "      <td>142.899994</td>\n",
       "      <td>5313500</td>\n",
       "      <td>NaN</td>\n",
       "    </tr>\n",
       "    <tr>\n",
       "      <th>2020-01-02</th>\n",
       "      <td>143.860001</td>\n",
       "      <td>144.210007</td>\n",
       "      <td>143.399994</td>\n",
       "      <td>143.949997</td>\n",
       "      <td>143.949997</td>\n",
       "      <td>7733800</td>\n",
       "      <td>0.007348</td>\n",
       "    </tr>\n",
       "    <tr>\n",
       "      <th>2020-01-03</th>\n",
       "      <td>145.750000</td>\n",
       "      <td>146.320007</td>\n",
       "      <td>145.399994</td>\n",
       "      <td>145.860001</td>\n",
       "      <td>145.860001</td>\n",
       "      <td>12272800</td>\n",
       "      <td>0.013269</td>\n",
       "    </tr>\n",
       "    <tr>\n",
       "      <th>2020-01-06</th>\n",
       "      <td>148.440002</td>\n",
       "      <td>148.479996</td>\n",
       "      <td>146.949997</td>\n",
       "      <td>147.389999</td>\n",
       "      <td>147.389999</td>\n",
       "      <td>14403300</td>\n",
       "      <td>0.010490</td>\n",
       "    </tr>\n",
       "    <tr>\n",
       "      <th>2020-01-07</th>\n",
       "      <td>147.570007</td>\n",
       "      <td>148.139999</td>\n",
       "      <td>147.429993</td>\n",
       "      <td>147.970001</td>\n",
       "      <td>147.970001</td>\n",
       "      <td>7978500</td>\n",
       "      <td>0.003935</td>\n",
       "    </tr>\n",
       "  </tbody>\n",
       "</table>\n",
       "</div>"
      ],
      "text/plain": [
       "                  Open        High         Low       Close   Adj Close  \\\n",
       "Date                                                                     \n",
       "2019-12-31  143.309998  143.600006  142.800003  142.899994  142.899994   \n",
       "2020-01-02  143.860001  144.210007  143.399994  143.949997  143.949997   \n",
       "2020-01-03  145.750000  146.320007  145.399994  145.860001  145.860001   \n",
       "2020-01-06  148.440002  148.479996  146.949997  147.389999  147.389999   \n",
       "2020-01-07  147.570007  148.139999  147.429993  147.970001  147.970001   \n",
       "\n",
       "              Volume  Daily Return  \n",
       "Date                                \n",
       "2019-12-31   5313500           NaN  \n",
       "2020-01-02   7733800      0.007348  \n",
       "2020-01-03  12272800      0.013269  \n",
       "2020-01-06  14403300      0.010490  \n",
       "2020-01-07   7978500      0.003935  "
      ]
     },
     "execution_count": 13,
     "metadata": {},
     "output_type": "execute_result"
    }
   ],
   "source": [
    "GOLD_DF[\"Daily Return\"] = GOLD_DF[\"Adj Close\"].pct_change(1)\n",
    "GOLD_DF.head()"
   ]
  },
  {
   "cell_type": "code",
   "execution_count": 14,
   "id": "editorial-aspect",
   "metadata": {},
   "outputs": [
    {
     "data": {
      "text/html": [
       "<div>\n",
       "<style scoped>\n",
       "    .dataframe tbody tr th:only-of-type {\n",
       "        vertical-align: middle;\n",
       "    }\n",
       "\n",
       "    .dataframe tbody tr th {\n",
       "        vertical-align: top;\n",
       "    }\n",
       "\n",
       "    .dataframe thead th {\n",
       "        text-align: right;\n",
       "    }\n",
       "</style>\n",
       "<table border=\"1\" class=\"dataframe\">\n",
       "  <thead>\n",
       "    <tr style=\"text-align: right;\">\n",
       "      <th></th>\n",
       "      <th>Open</th>\n",
       "      <th>High</th>\n",
       "      <th>Low</th>\n",
       "      <th>Close</th>\n",
       "      <th>Adj Close</th>\n",
       "      <th>Volume</th>\n",
       "      <th>Daily Return</th>\n",
       "    </tr>\n",
       "    <tr>\n",
       "      <th>Date</th>\n",
       "      <th></th>\n",
       "      <th></th>\n",
       "      <th></th>\n",
       "      <th></th>\n",
       "      <th></th>\n",
       "      <th></th>\n",
       "      <th></th>\n",
       "    </tr>\n",
       "  </thead>\n",
       "  <tbody>\n",
       "    <tr>\n",
       "      <th>2019-12-31</th>\n",
       "      <td>35.009998</td>\n",
       "      <td>35.169998</td>\n",
       "      <td>34.959999</td>\n",
       "      <td>35.150002</td>\n",
       "      <td>34.993702</td>\n",
       "      <td>2820100</td>\n",
       "      <td>NaN</td>\n",
       "    </tr>\n",
       "    <tr>\n",
       "      <th>2020-01-02</th>\n",
       "      <td>35.480000</td>\n",
       "      <td>35.590000</td>\n",
       "      <td>35.410000</td>\n",
       "      <td>35.580002</td>\n",
       "      <td>35.421791</td>\n",
       "      <td>3880500</td>\n",
       "      <td>0.012233</td>\n",
       "    </tr>\n",
       "    <tr>\n",
       "      <th>2020-01-03</th>\n",
       "      <td>35.130001</td>\n",
       "      <td>35.160000</td>\n",
       "      <td>34.970001</td>\n",
       "      <td>34.980000</td>\n",
       "      <td>34.824455</td>\n",
       "      <td>4085000</td>\n",
       "      <td>-0.016864</td>\n",
       "    </tr>\n",
       "    <tr>\n",
       "      <th>2020-01-06</th>\n",
       "      <td>34.439999</td>\n",
       "      <td>34.619999</td>\n",
       "      <td>34.369999</td>\n",
       "      <td>34.570000</td>\n",
       "      <td>34.416275</td>\n",
       "      <td>4516100</td>\n",
       "      <td>-0.011721</td>\n",
       "    </tr>\n",
       "    <tr>\n",
       "      <th>2020-01-07</th>\n",
       "      <td>34.520000</td>\n",
       "      <td>34.630001</td>\n",
       "      <td>34.490002</td>\n",
       "      <td>34.520000</td>\n",
       "      <td>34.366501</td>\n",
       "      <td>2940200</td>\n",
       "      <td>-0.001446</td>\n",
       "    </tr>\n",
       "  </tbody>\n",
       "</table>\n",
       "</div>"
      ],
      "text/plain": [
       "                 Open       High        Low      Close  Adj Close   Volume  \\\n",
       "Date                                                                         \n",
       "2019-12-31  35.009998  35.169998  34.959999  35.150002  34.993702  2820100   \n",
       "2020-01-02  35.480000  35.590000  35.410000  35.580002  35.421791  3880500   \n",
       "2020-01-03  35.130001  35.160000  34.970001  34.980000  34.824455  4085000   \n",
       "2020-01-06  34.439999  34.619999  34.369999  34.570000  34.416275  4516100   \n",
       "2020-01-07  34.520000  34.630001  34.490002  34.520000  34.366501  2940200   \n",
       "\n",
       "            Daily Return  \n",
       "Date                      \n",
       "2019-12-31           NaN  \n",
       "2020-01-02      0.012233  \n",
       "2020-01-03     -0.016864  \n",
       "2020-01-06     -0.011721  \n",
       "2020-01-07     -0.001446  "
      ]
     },
     "execution_count": 14,
     "metadata": {},
     "output_type": "execute_result"
    }
   ],
   "source": [
    "INDIA_DF[\"Daily Return\"] = INDIA_DF[\"Adj Close\"].pct_change(1)\n",
    "INDIA_DF.head()"
   ]
  },
  {
   "cell_type": "code",
   "execution_count": 15,
   "id": "successful-lancaster",
   "metadata": {},
   "outputs": [
    {
     "data": {
      "text/html": [
       "<div>\n",
       "<style scoped>\n",
       "    .dataframe tbody tr th:only-of-type {\n",
       "        vertical-align: middle;\n",
       "    }\n",
       "\n",
       "    .dataframe tbody tr th {\n",
       "        vertical-align: top;\n",
       "    }\n",
       "\n",
       "    .dataframe thead th {\n",
       "        text-align: right;\n",
       "    }\n",
       "</style>\n",
       "<table border=\"1\" class=\"dataframe\">\n",
       "  <thead>\n",
       "    <tr style=\"text-align: right;\">\n",
       "      <th></th>\n",
       "      <th>Open</th>\n",
       "      <th>High</th>\n",
       "      <th>Low</th>\n",
       "      <th>Close</th>\n",
       "      <th>Adj Close</th>\n",
       "      <th>Volume</th>\n",
       "      <th>Daily Return</th>\n",
       "    </tr>\n",
       "    <tr>\n",
       "      <th>Date</th>\n",
       "      <th></th>\n",
       "      <th></th>\n",
       "      <th></th>\n",
       "      <th></th>\n",
       "      <th></th>\n",
       "      <th></th>\n",
       "      <th></th>\n",
       "    </tr>\n",
       "  </thead>\n",
       "  <tbody>\n",
       "    <tr>\n",
       "      <th>2019-12-31</th>\n",
       "      <td>8.47</td>\n",
       "      <td>8.47</td>\n",
       "      <td>8.15</td>\n",
       "      <td>8.19</td>\n",
       "      <td>8.19</td>\n",
       "      <td>3093800</td>\n",
       "      <td>NaN</td>\n",
       "    </tr>\n",
       "    <tr>\n",
       "      <th>2020-01-02</th>\n",
       "      <td>8.18</td>\n",
       "      <td>8.34</td>\n",
       "      <td>7.91</td>\n",
       "      <td>7.98</td>\n",
       "      <td>7.98</td>\n",
       "      <td>3377600</td>\n",
       "      <td>-0.025641</td>\n",
       "    </tr>\n",
       "    <tr>\n",
       "      <th>2020-01-03</th>\n",
       "      <td>8.28</td>\n",
       "      <td>8.59</td>\n",
       "      <td>8.13</td>\n",
       "      <td>8.59</td>\n",
       "      <td>8.59</td>\n",
       "      <td>3858800</td>\n",
       "      <td>0.076441</td>\n",
       "    </tr>\n",
       "    <tr>\n",
       "      <th>2020-01-06</th>\n",
       "      <td>8.98</td>\n",
       "      <td>9.03</td>\n",
       "      <td>8.92</td>\n",
       "      <td>8.99</td>\n",
       "      <td>8.99</td>\n",
       "      <td>3450500</td>\n",
       "      <td>0.046566</td>\n",
       "    </tr>\n",
       "    <tr>\n",
       "      <th>2020-01-07</th>\n",
       "      <td>9.48</td>\n",
       "      <td>10.10</td>\n",
       "      <td>9.26</td>\n",
       "      <td>10.10</td>\n",
       "      <td>10.10</td>\n",
       "      <td>7787400</td>\n",
       "      <td>0.123471</td>\n",
       "    </tr>\n",
       "  </tbody>\n",
       "</table>\n",
       "</div>"
      ],
      "text/plain": [
       "            Open   High   Low  Close  Adj Close   Volume  Daily Return\n",
       "Date                                                                  \n",
       "2019-12-31  8.47   8.47  8.15   8.19       8.19  3093800           NaN\n",
       "2020-01-02  8.18   8.34  7.91   7.98       7.98  3377600     -0.025641\n",
       "2020-01-03  8.28   8.59  8.13   8.59       8.59  3858800      0.076441\n",
       "2020-01-06  8.98   9.03  8.92   8.99       8.99  3450500      0.046566\n",
       "2020-01-07  9.48  10.10  9.26  10.10      10.10  7787400      0.123471"
      ]
     },
     "execution_count": 15,
     "metadata": {},
     "output_type": "execute_result"
    }
   ],
   "source": [
    "BITCOIN_DF[\"Daily Return\"] = BITCOIN_DF[\"Adj Close\"].pct_change(1)\n",
    "BITCOIN_DF.head()"
   ]
  },
  {
   "cell_type": "markdown",
   "id": "spread-support",
   "metadata": {},
   "source": [
    "# Kurtosis from January"
   ]
  },
  {
   "cell_type": "raw",
   "id": "forced-appointment",
   "metadata": {},
   "source": [
    "                                   <<<< Kurtosis for Gold data set from January"
   ]
  },
  {
   "cell_type": "code",
   "execution_count": 16,
   "id": "surface-palmer",
   "metadata": {},
   "outputs": [
    {
     "data": {
      "text/plain": [
       "3.4339654102514876"
      ]
     },
     "execution_count": 16,
     "metadata": {},
     "output_type": "execute_result"
    }
   ],
   "source": [
    "kurtosis(GOLD_DF[\"Daily Return\"].dropna())"
   ]
  },
  {
   "cell_type": "raw",
   "id": "social-lucas",
   "metadata": {},
   "source": [
    "                                   <<<< Kurtosis for India data set from January"
   ]
  },
  {
   "cell_type": "code",
   "execution_count": 17,
   "id": "still-class",
   "metadata": {},
   "outputs": [
    {
     "data": {
      "text/plain": [
       "9.130359470180705"
      ]
     },
     "execution_count": 17,
     "metadata": {},
     "output_type": "execute_result"
    }
   ],
   "source": [
    "kurtosis(INDIA_DF[\"Daily Return\"].dropna())"
   ]
  },
  {
   "cell_type": "raw",
   "id": "floating-leone",
   "metadata": {},
   "source": [
    "                                   <<<< Kurtosis for Bitcoin data set from January"
   ]
  },
  {
   "cell_type": "code",
   "execution_count": 18,
   "id": "olive-postage",
   "metadata": {},
   "outputs": [
    {
     "data": {
      "text/plain": [
       "2.8001670933759515"
      ]
     },
     "execution_count": 18,
     "metadata": {},
     "output_type": "execute_result"
    }
   ],
   "source": [
    "kurtosis(BITCOIN_DF[\"Daily Return\"].dropna())"
   ]
  },
  {
   "cell_type": "markdown",
   "id": "mineral-parallel",
   "metadata": {},
   "source": [
    "# Extreme Values (Outliers Clustering)"
   ]
  },
  {
   "cell_type": "raw",
   "id": "asian-benchmark",
   "metadata": {},
   "source": [
    "We have used MeanShift() Model.\n",
    "\n",
    "\n",
    "Mean shift clustering involves finding and adapting centroids based on the density of examples in the feature space.\n",
    "\n",
    "Mean shift is a non-parametric feature-space analysis technique for locating the maxima of a density function, a so-called mode-seeking algorithm.[1] Application domains include cluster analysis"
   ]
  },
  {
   "cell_type": "code",
   "execution_count": 19,
   "id": "billion-quantum",
   "metadata": {},
   "outputs": [],
   "source": [
    "GOLD_EXT= pd.concat([GOLD_DF[\"Daily Return\"] , GOLD_DF[\"Adj Close\"]], axis=1, keys=['Close', 'Daily Return']).fillna(0).values\n",
    "INDIA_EXT= pd.concat([INDIA_DF[\"Daily Return\"] , INDIA_DF[\"Adj Close\"]], axis=1, keys=['Close', 'Daily Return']).fillna(0).values\n",
    "BITCOIN_EXT= pd.concat([BITCOIN_DF[\"Daily Return\"] , BITCOIN_DF[\"Adj Close\"]], axis=1, keys=['Close', 'Daily Return']).fillna(0).values"
   ]
  },
  {
   "cell_type": "raw",
   "id": "inside-least",
   "metadata": {},
   "source": [
    "                                   <<<< Meanshift Clustering for data series from January"
   ]
  },
  {
   "cell_type": "code",
   "execution_count": 20,
   "id": "printable-novelty",
   "metadata": {},
   "outputs": [],
   "source": [
    "GOLD_CLUST = MeanShift(bandwidth=2).fit(GOLD_EXT)\n",
    "INDIA_CLUST = MeanShift(bandwidth=2).fit(INDIA_EXT)\n",
    "BITCOIN_CLUST = MeanShift(bandwidth=2).fit(BITCOIN_EXT)"
   ]
  },
  {
   "cell_type": "raw",
   "id": "imperial-breeding",
   "metadata": {},
   "source": [
    "                                   <<<< Meanshift Array for GOLD data  from January"
   ]
  },
  {
   "cell_type": "code",
   "execution_count": 21,
   "id": "rational-blade",
   "metadata": {},
   "outputs": [
    {
     "data": {
      "text/plain": [
       "array([10, 10,  2,  2,  2,  2,  2,  2,  2,  2,  2,  2,  2,  2,  2,  2,  2,\n",
       "        2,  2,  2,  2,  8,  2,  2,  2,  2,  2,  2,  2,  2,  2,  2,  8,  8,\n",
       "        5,  5,  9,  5,  5,  5,  2,  8,  5,  5,  9,  9,  9,  5,  5,  2, 10,\n",
       "       10, 10, 10, 13, 13,  2,  5,  8,  5,  5,  5,  2,  8,  8,  5,  9,  9,\n",
       "        5,  9,  1,  1,  1,  1,  9,  1,  9,  1,  1,  1,  1,  1,  1,  9,  1,\n",
       "        1,  1,  9,  1,  1,  1,  1,  1,  1,  7,  1,  7,  7,  1,  1,  1,  1,\n",
       "        1,  1,  7,  1,  1,  1,  9,  1,  1,  1,  1,  1,  1,  1,  1,  1,  7,\n",
       "        7,  6,  7,  7,  6,  6,  6,  6,  6,  6,  6,  4,  4,  4,  4,  4,  4,\n",
       "        6,  4,  4,  4,  0,  0,  0,  3,  3,  3,  3,  3,  3, 11, 11, 12, 11,\n",
       "       11,  3,  0,  3,  3, 11, 11,  3,  3,  3,  3,  3,  3,  3,  3,  3,  3,\n",
       "        3,  3,  3,  3,  3,  3,  3,  3,  3,  3,  3,  3,  0,  0,  0,  0,  0,\n",
       "        0,  0,  0,  0,  0,  0,  0,  0,  0,  3,  3,  0,  0,  0,  0,  0,  0,\n",
       "        3,  0,  0,  0,  0,  0,  0,  0,  0,  0,  0,  3,  3,  0,  0,  0,  0,\n",
       "        0,  0,  0,  0,  0,  0,  4,  4,  4,  6,  6,  4,  4,  4,  4,  0,  0,\n",
       "        4,  4,  4,  4,  0,  0,  0,  0,  0,  0,  0,  0,  0,  0,  0],\n",
       "      dtype=int64)"
      ]
     },
     "execution_count": 21,
     "metadata": {},
     "output_type": "execute_result"
    }
   ],
   "source": [
    "GOLD_CLUST.labels_"
   ]
  },
  {
   "cell_type": "raw",
   "id": "pleasant-hearts",
   "metadata": {},
   "source": [
    "                                   <<<< Meanshift Array for INDIA data  from January"
   ]
  },
  {
   "cell_type": "code",
   "execution_count": 22,
   "id": "liquid-brook",
   "metadata": {},
   "outputs": [
    {
     "data": {
      "text/plain": [
       "array([0, 0, 0, 0, 0, 0, 0, 0, 0, 0, 0, 0, 0, 0, 0, 0, 0, 0, 0, 0, 0, 0,\n",
       "       0, 0, 0, 0, 0, 0, 0, 0, 0, 0, 0, 0, 0, 0, 0, 0, 0, 0, 0, 0, 2, 0,\n",
       "       2, 2, 2, 2, 2, 1, 2, 1, 1, 1, 1, 1, 1, 1, 1, 1, 1, 1, 1, 1, 1, 1,\n",
       "       1, 1, 1, 1, 1, 1, 1, 1, 1, 1, 1, 1, 1, 1, 1, 1, 1, 1, 1, 1, 1, 1,\n",
       "       1, 1, 1, 1, 1, 1, 1, 1, 1, 1, 1, 1, 1, 1, 1, 1, 2, 2, 2, 2, 2, 2,\n",
       "       2, 2, 1, 2, 2, 1, 2, 2, 2, 2, 2, 2, 2, 2, 2, 2, 2, 2, 2, 2, 2, 2,\n",
       "       2, 2, 2, 2, 2, 2, 0, 0, 0, 0, 0, 0, 0, 0, 0, 0, 2, 0, 0, 0, 0, 0,\n",
       "       0, 0, 0, 0, 0, 0, 0, 0, 0, 0, 0, 0, 0, 0, 0, 0, 0, 0, 0, 0, 0, 0,\n",
       "       0, 0, 0, 0, 0, 0, 0, 0, 0, 0, 0, 0, 0, 0, 0, 0, 0, 0, 0, 0, 0, 0,\n",
       "       0, 0, 0, 0, 0, 0, 0, 0, 0, 0, 0, 0, 0, 0, 0, 0, 0, 0, 0, 0, 0, 0,\n",
       "       0, 0, 0, 0, 0, 0, 0, 0, 0, 0, 0, 0, 0, 0, 0, 0, 0, 0, 0, 0, 0, 0,\n",
       "       0, 0, 0, 0, 0, 0, 0, 0, 0, 0, 0], dtype=int64)"
      ]
     },
     "execution_count": 22,
     "metadata": {},
     "output_type": "execute_result"
    }
   ],
   "source": [
    "INDIA_CLUST.labels_"
   ]
  },
  {
   "cell_type": "raw",
   "id": "nutritional-edwards",
   "metadata": {},
   "source": [
    "                                   <<<< Meanshift Array for INDIA data  from January"
   ]
  },
  {
   "cell_type": "code",
   "execution_count": 23,
   "id": "controlling-tenant",
   "metadata": {},
   "outputs": [
    {
     "data": {
      "text/plain": [
       "array([0, 0, 0, 0, 0, 0, 0, 0, 0, 0, 0, 0, 0, 0, 0, 0, 0, 0, 0, 0, 0, 0,\n",
       "       0, 0, 0, 0, 0, 0, 0, 0, 0, 0, 0, 0, 0, 0, 0, 0, 0, 0, 0, 0, 0, 0,\n",
       "       0, 0, 0, 0, 0, 0, 0, 0, 0, 0, 0, 0, 0, 0, 0, 0, 0, 0, 0, 0, 0, 0,\n",
       "       0, 0, 0, 0, 0, 0, 0, 0, 0, 0, 0, 0, 0, 0, 0, 0, 0, 0, 0, 0, 0, 0,\n",
       "       0, 0, 0, 0, 0, 0, 0, 0, 0, 0, 0, 0, 0, 0, 0, 0, 0, 0, 0, 0, 0, 0,\n",
       "       0, 0, 0, 0, 0, 0, 0, 0, 0, 0, 0, 0, 0, 0, 0, 0, 0, 0, 0, 0, 0, 0,\n",
       "       0, 0, 0, 0, 0, 0, 0, 0, 0, 0, 0, 0, 0, 0, 0, 0, 0, 0, 0, 0, 0, 0,\n",
       "       0, 0, 0, 0, 2, 0, 0, 0, 0, 0, 0, 0, 0, 0, 0, 0, 0, 0, 0, 0, 0, 0,\n",
       "       0, 0, 0, 0, 0, 0, 0, 0, 0, 0, 0, 0, 0, 0, 0, 0, 0, 0, 0, 0, 0, 0,\n",
       "       0, 0, 0, 0, 0, 0, 0, 2, 0, 0, 2, 2, 2, 2, 2, 2, 2, 2, 2, 2, 2, 2,\n",
       "       2, 2, 2, 1, 2, 1, 1, 1, 1, 1, 2, 1, 1, 1, 1, 1, 1, 1, 1, 1, 1, 1,\n",
       "       1, 3, 3, 3, 3, 3, 3, 3, 3, 3, 4], dtype=int64)"
      ]
     },
     "execution_count": 23,
     "metadata": {},
     "output_type": "execute_result"
    }
   ],
   "source": [
    "BITCOIN_CLUST.labels_"
   ]
  },
  {
   "cell_type": "markdown",
   "id": "centered-shepherd",
   "metadata": {},
   "source": [
    "# 4. Data Comparison { Copulas }"
   ]
  },
  {
   "cell_type": "code",
   "execution_count": 24,
   "id": "mounted-discovery",
   "metadata": {},
   "outputs": [
    {
     "name": "stdout",
     "output_type": "stream",
     "text": [
      "****************************************\n",
      "NON_GAUSSIAN COPULA FOR GOLD DATA\n",
      "****************************************\n",
      "****************************************\n"
     ]
    },
    {
     "data": {
      "image/png": "[encoded data removed]",
      "text/plain": [
       "<Figure size 432x288 with 3 Axes>"
      ]
     },
     "metadata": {
      "needs_background": "light"
     },
     "output_type": "display_data"
    }
   ],
   "source": [
    "def CopulaGraph():\n",
    "    x = (GOLD_DF[\"Adj Close\"]).fillna(0).values\n",
    "    y = (GOLD_DF['Daily Return']).fillna(0).values\n",
    "    fig = plt.figure()\n",
    "    fig.add_subplot(2,2,1)\n",
    "    plt.hist(x,bins=20,color='green',alpha=0.8,align='mid')\n",
    "    plt.title('X variables')\n",
    "    fig.add_subplot(2,2,3)\n",
    "    plt.scatter(x,y,marker=\"o\",alpha=0.8)\n",
    "    fig.add_subplot(2,2,4)\n",
    "    plt.title('Joint X,Y')\n",
    "    plt.hist(y,bins=20,orientation='horizontal',color='red',alpha=0.8,align='mid')\n",
    "    plt.title('Y Variables')\n",
    "    print(\"*\"*40)\n",
    "    print(\"NON_GAUSSIAN COPULA FOR GOLD DATA\")\n",
    "    print(\"*\"*40)\n",
    "    print(\"*\"*40)\n",
    "    plt.show()\n",
    "\n",
    "def Copulas():\n",
    "    x = array((GOLD_DF[\"Adj Close\"]).fillna(0).values.tolist())\n",
    "    y = array((GOLD_DF['Daily Return']).fillna(0).values.tolist())\n",
    "    fig = plt.figure()\n",
    "\n",
    "    clayton = Copula(x,y,family='clayton')\n",
    "    uc,vc = clayton.generate_uv(1000)\n",
    "    fig.add_subplot(2,2,2)\n",
    "    plt.scatter(uc,vc,marker='.',color='red')\n",
    "    plt.ylim(0,1)\n",
    "    plt.xlim(0,1)\n",
    "    plt.title('Clayton copula')\n",
    "    plt.show()\n",
    "CopulaGraph()"
   ]
  },
  {
   "cell_type": "code",
   "execution_count": 25,
   "id": "italic-screen",
   "metadata": {},
   "outputs": [
    {
     "name": "stdout",
     "output_type": "stream",
     "text": [
      "****************************************\n",
      "NON_GAUSSIAN COPULA FOR BITCOIN DATA\n",
      "****************************************\n",
      "****************************************\n"
     ]
    },
    {
     "data": {
      "image/png": "[encoded data removed]",
      "text/plain": [
       "<Figure size 432x288 with 3 Axes>"
      ]
     },
     "metadata": {
      "needs_background": "light"
     },
     "output_type": "display_data"
    }
   ],
   "source": [
    "def CopulaGraph():\n",
    "    x = (BITCOIN_DF[\"Adj Close\"]).fillna(0).values\n",
    "    y = (BITCOIN_DF['Daily Return']).fillna(0).values\n",
    "    fig = plt.figure()\n",
    "    fig.add_subplot(2,2,1)\n",
    "    plt.hist(x,bins=20,color='green',alpha=0.8,align='mid')\n",
    "    plt.title('X Variables')\n",
    "    fig.add_subplot(2,2,3)\n",
    "    plt.scatter(x,y,marker=\"o\",alpha=0.8)\n",
    "    fig.add_subplot(2,2,4)\n",
    "    plt.title('Joint X,Y')\n",
    "    plt.hist(y,bins=20,orientation='horizontal',color='red',alpha=0.8,align='mid')\n",
    "    plt.title('Y Variables')\n",
    "    print(\"*\"*40)\n",
    "    print(\"NON_GAUSSIAN COPULA FOR BITCOIN DATA\")\n",
    "    print(\"*\"*40)\n",
    "    print(\"*\"*40)\n",
    "    plt.show()\n",
    "\n",
    "def Copulas():\n",
    "    x = array((BITCOIN_DF[\"Adj Close\"]).fillna(0).values.tolist())\n",
    "    y = array((BITCOIN_DF['Daily Return']).fillna(0).values.tolist())\n",
    "    fig = plt.figure()\n",
    "\n",
    "    clayton = Copula(x,y,family='clayton')\n",
    "    uc,vc = clayton.generate_uv(1000)\n",
    "    fig.add_subplot(2,2,2)\n",
    "    plt.scatter(uc,vc,marker='.',color='red')\n",
    "    plt.ylim(0,1)\n",
    "    plt.xlim(0,1)\n",
    "    plt.title('Clayton copula')\n",
    "    plt.show()\n",
    "CopulaGraph()"
   ]
  },
  {
   "cell_type": "markdown",
   "id": "fallen-objective",
   "metadata": {},
   "source": [
    "# 5. Category 1 Model"
   ]
  },
  {
   "cell_type": "raw",
   "id": "settled-apple",
   "metadata": {},
   "source": [
    "                        <<<<<<<<<Important functions"
   ]
  },
  {
   "cell_type": "code",
   "execution_count": 26,
   "id": "increasing-madison",
   "metadata": {},
   "outputs": [],
   "source": [
    "df_names = {0: \"GOLD DATA\", 1: \"INDIA DATA\", 2: \"BITCOIN\"}\n",
    "dfs = [GOLD_DF, INDIA_DF, BITCOIN_DF]\n",
    "def get_data(df, month_start, month_end, column=None):\n",
    "    data = df[(df.index >= f\"2020-{month_start:02d}-01\") & (df.index < f\"2020-{month_end:02d}-01\")]\n",
    "    if column:\n",
    "        data = data[column]\n",
    "    return data\n",
    "def summarize_data(df):\n",
    "    data = get_data(df, 3, 12, \"Adj Close\")\n",
    "    moving_avg = data.rolling(20, min_periods=1).mean()\n",
    "    return get_data(moving_avg, 4, 12)\n",
    "def get_data(df, month_start, month_end, column):\n",
    "    return df[(df.index >= f\"2020-{month_start:02d}-01\") & (df.index < f\"2020-{month_end:02d}-01\")][column]\n",
    "def fit_arima(data, exog= None):\n",
    "    model = ARIMA(data, exog=exog, order=(2,0,2))\n",
    "    model_fit = model.fit()\n",
    "    return model_fit\n",
    "def fit_garch(data, garch_type=\"GARCH\"):\n",
    "    if garch_type == \"TARCH\":\n",
    "        garch = arch.arch_model(data, vol='TGARCH', p=1, o=1, q=1, power=1)\n",
    "    else:\n",
    "        garch = arch.arch_model(data, vol=garch_type, p=1, o=0, q=1)\n",
    "    garch_fitted = garch.fit()\n",
    "    print(garch_fitted.summary())\n",
    "    if garch_type != \"FIGARCH\":\n",
    "        omega = garch_fitted.params[\"omega\"]\n",
    "        alpha = garch_fitted.params[\"alpha[1]\"]\n",
    "        beta = garch_fitted.params[\"beta[1]\"]\n",
    "        print(f\"Unconditional variance: {omega/(1 - alpha - beta)}\")\n",
    "    return garch_fitted"
   ]
  },
  {
   "cell_type": "markdown",
   "id": "physical-rapid",
   "metadata": {},
   "source": [
    "# Data Estimation and Performance Evaluation"
   ]
  },
  {
   "cell_type": "code",
   "execution_count": 27,
   "id": "drawn-replica",
   "metadata": {},
   "outputs": [],
   "source": [
    "GOLD_Q2 = get_data(GOLD_DF, 4, 6, \"Daily Return\")\n",
    "GOLD_Q3 = get_data(GOLD_DF, 7, 9, \"Daily Return\")\n",
    "GOLD_Q4 = get_data(GOLD_DF, 10, 12, \"Daily Return\")\n",
    "\n",
    "\n",
    "INDIA_Q2 = get_data(INDIA_DF, 4, 6, \"Daily Return\")\n",
    "INDIA_Q3 = get_data(INDIA_DF, 7, 9, \"Daily Return\")\n",
    "INDIA_Q4 = get_data(INDIA_DF, 10, 12, \"Daily Return\")\n",
    "\n",
    "BITCOIN_Q2 = get_data(BITCOIN_DF, 4, 6, \"Daily Return\")\n",
    "BITCOIN_Q3 = get_data(BITCOIN_DF, 7, 9, \"Daily Return\")\n",
    "BITCOIN_Q4 = get_data(BITCOIN_DF, 10, 12, \"Daily Return\")"
   ]
  },
  {
   "cell_type": "code",
   "execution_count": 28,
   "id": "intelligent-quarterly",
   "metadata": {},
   "outputs": [
    {
     "data": {
      "text/plain": [
       "(41,)"
      ]
     },
     "execution_count": 28,
     "metadata": {},
     "output_type": "execute_result"
    }
   ],
   "source": [
    "GOLD_Q2.shape"
   ]
  },
  {
   "cell_type": "code",
   "execution_count": 29,
   "id": "republican-contemporary",
   "metadata": {},
   "outputs": [
    {
     "data": {
      "text/plain": [
       "(43,)"
      ]
     },
     "execution_count": 29,
     "metadata": {},
     "output_type": "execute_result"
    }
   ],
   "source": [
    "INDIA_Q3.shape"
   ]
  },
  {
   "cell_type": "code",
   "execution_count": 30,
   "id": "sudden-runner",
   "metadata": {},
   "outputs": [
    {
     "data": {
      "text/plain": [
       "(42,)"
      ]
     },
     "execution_count": 30,
     "metadata": {},
     "output_type": "execute_result"
    }
   ],
   "source": [
    "BITCOIN_Q4.shape"
   ]
  },
  {
   "cell_type": "code",
   "execution_count": 31,
   "id": "finished-dealer",
   "metadata": {},
   "outputs": [
    {
     "name": "stderr",
     "output_type": "stream",
     "text": [
      "C:\\Users\\M1\\anaconda3\\lib\\site-packages\\statsmodels\\tsa\\base\\tsa_model.py:581: ValueWarning: A date index has been provided, but it has no associated frequency information and so will be ignored when e.g. forecasting.\n",
      "  warnings.warn('A date index has been provided, but it has no'\n",
      "C:\\Users\\M1\\anaconda3\\lib\\site-packages\\statsmodels\\tsa\\base\\tsa_model.py:581: ValueWarning: A date index has been provided, but it has no associated frequency information and so will be ignored when e.g. forecasting.\n",
      "  warnings.warn('A date index has been provided, but it has no'\n",
      "C:\\Users\\M1\\anaconda3\\lib\\site-packages\\statsmodels\\tsa\\base\\tsa_model.py:581: ValueWarning: A date index has been provided, but it has no associated frequency information and so will be ignored when e.g. forecasting.\n",
      "  warnings.warn('A date index has been provided, but it has no'\n",
      "C:\\Users\\M1\\anaconda3\\lib\\site-packages\\statsmodels\\base\\model.py:566: ConvergenceWarning: Maximum Likelihood optimization failed to converge. Check mle_retvals\n",
      "  warnings.warn(\"Maximum Likelihood optimization failed to \"\n",
      "C:\\Users\\M1\\anaconda3\\lib\\site-packages\\statsmodels\\tsa\\base\\tsa_model.py:376: ValueWarning: No supported index is available. Prediction results will be given with an integer index beginning at `start`.\n",
      "  warnings.warn('No supported index is available.'\n"
     ]
    },
    {
     "data": {
      "text/plain": [
       "0.14989665893405557"
      ]
     },
     "execution_count": 31,
     "metadata": {},
     "output_type": "execute_result"
    }
   ],
   "source": [
    "model = fit_arima(INDIA_Q2)\n",
    "return_pred = model.predict(start=INDIA_Q2.shape[0], end=INDIA_Q2.shape[0] + INDIA_Q3.shape[0] - 1).values\n",
    "signal = np.where(return_pred > 0, 1, -1)\n",
    "return_q3 = np.product(INDIA_Q3* signal + 1) - 1\n",
    "return_q3"
   ]
  },
  {
   "cell_type": "code",
   "execution_count": 32,
   "id": "ceramic-soldier",
   "metadata": {},
   "outputs": [
    {
     "name": "stderr",
     "output_type": "stream",
     "text": [
      "C:\\Users\\M1\\anaconda3\\lib\\site-packages\\statsmodels\\tsa\\base\\tsa_model.py:581: ValueWarning: A date index has been provided, but it has no associated frequency information and so will be ignored when e.g. forecasting.\n",
      "  warnings.warn('A date index has been provided, but it has no'\n",
      "C:\\Users\\M1\\anaconda3\\lib\\site-packages\\statsmodels\\tsa\\base\\tsa_model.py:581: ValueWarning: A date index has been provided, but it has no associated frequency information and so will be ignored when e.g. forecasting.\n",
      "  warnings.warn('A date index has been provided, but it has no'\n",
      "C:\\Users\\M1\\anaconda3\\lib\\site-packages\\statsmodels\\tsa\\base\\tsa_model.py:581: ValueWarning: A date index has been provided, but it has no associated frequency information and so will be ignored when e.g. forecasting.\n",
      "  warnings.warn('A date index has been provided, but it has no'\n",
      "C:\\Users\\M1\\anaconda3\\lib\\site-packages\\statsmodels\\tsa\\statespace\\sarimax.py:966: UserWarning: Non-stationary starting autoregressive parameters found. Using zeros as starting parameters.\n",
      "  warn('Non-stationary starting autoregressive parameters'\n",
      "C:\\Users\\M1\\anaconda3\\lib\\site-packages\\statsmodels\\tsa\\statespace\\sarimax.py:978: UserWarning: Non-invertible starting MA parameters found. Using zeros as starting parameters.\n",
      "  warn('Non-invertible starting MA parameters found.'\n",
      "C:\\Users\\M1\\anaconda3\\lib\\site-packages\\statsmodels\\base\\model.py:566: ConvergenceWarning: Maximum Likelihood optimization failed to converge. Check mle_retvals\n",
      "  warnings.warn(\"Maximum Likelihood optimization failed to \"\n",
      "C:\\Users\\M1\\anaconda3\\lib\\site-packages\\statsmodels\\tsa\\base\\tsa_model.py:376: ValueWarning: No supported index is available. Prediction results will be given with an integer index beginning at `start`.\n",
      "  warnings.warn('No supported index is available.'\n"
     ]
    },
    {
     "data": {
      "text/plain": [
       "0.06651242709821337"
      ]
     },
     "execution_count": 32,
     "metadata": {},
     "output_type": "execute_result"
    }
   ],
   "source": [
    "model = fit_arima(INDIA_Q3)\n",
    "return_pred = model.predict(start=INDIA_Q3.shape[0], end=INDIA_Q3.shape[0] + INDIA_Q4.shape[0] - 1).values\n",
    "signal = np.where(return_pred >0, 1, -1)\n",
    "return_q4 = np.product(INDIA_Q4 * signal + 1) - 1\n",
    "return_q4"
   ]
  },
  {
   "cell_type": "code",
   "execution_count": 33,
   "id": "coupled-shakespeare",
   "metadata": {},
   "outputs": [
    {
     "data": {
      "text/plain": [
       "0.22637907663188606"
      ]
     },
     "execution_count": 33,
     "metadata": {},
     "output_type": "execute_result"
    }
   ],
   "source": [
    "(1 + return_q3) * (1 + return_q4) - 1"
   ]
  },
  {
   "cell_type": "raw",
   "id": "lesser-program",
   "metadata": {},
   "source": [
    "******* ARMA model is given high priority for  it is an ease  model with a decent return"
   ]
  },
  {
   "cell_type": "markdown",
   "id": "classical-column",
   "metadata": {},
   "source": [
    "# 6. Category 2 Model"
   ]
  },
  {
   "cell_type": "code",
   "execution_count": 34,
   "id": "natural-denver",
   "metadata": {},
   "outputs": [
    {
     "name": "stderr",
     "output_type": "stream",
     "text": [
      "C:\\Users\\M1\\anaconda3\\lib\\site-packages\\statsmodels\\tsa\\base\\tsa_model.py:581: ValueWarning: A date index has been provided, but it has no associated frequency information and so will be ignored when e.g. forecasting.\n",
      "  warnings.warn('A date index has been provided, but it has no'\n",
      "C:\\Users\\M1\\anaconda3\\lib\\site-packages\\statsmodels\\tsa\\base\\tsa_model.py:581: ValueWarning: A date index has been provided, but it has no associated frequency information and so will be ignored when e.g. forecasting.\n",
      "  warnings.warn('A date index has been provided, but it has no'\n",
      "C:\\Users\\M1\\anaconda3\\lib\\site-packages\\statsmodels\\tsa\\base\\tsa_model.py:581: ValueWarning: A date index has been provided, but it has no associated frequency information and so will be ignored when e.g. forecasting.\n",
      "  warnings.warn('A date index has been provided, but it has no'\n",
      "C:\\Users\\M1\\anaconda3\\lib\\site-packages\\statsmodels\\base\\model.py:566: ConvergenceWarning: Maximum Likelihood optimization failed to converge. Check mle_retvals\n",
      "  warnings.warn(\"Maximum Likelihood optimization failed to \"\n",
      "C:\\Users\\M1\\anaconda3\\lib\\site-packages\\statsmodels\\tsa\\base\\tsa_model.py:376: ValueWarning: No supported index is available. Prediction results will be given with an integer index beginning at `start`.\n",
      "  warnings.warn('No supported index is available.'\n"
     ]
    },
    {
     "data": {
      "text/plain": [
       "0.09906197236515357"
      ]
     },
     "execution_count": 34,
     "metadata": {},
     "output_type": "execute_result"
    }
   ],
   "source": [
    "model = fit_arima(GOLD_Q2, INDIA_Q2)\n",
    "return_pred = model.predict(exog=INDIA_Q3, start=GOLD_Q2.shape[0], end=GOLD_Q2.shape[0] + GOLD_Q3.shape[0] - 1).values\n",
    "signal = np.where(return_pred > 0, 1, -1)\n",
    "return_q3 = np.product(GOLD_Q3 * signal + 1) - 1\n",
    "return_q3"
   ]
  },
  {
   "cell_type": "code",
   "execution_count": 35,
   "id": "industrial-collaboration",
   "metadata": {},
   "outputs": [
    {
     "name": "stderr",
     "output_type": "stream",
     "text": [
      "C:\\Users\\M1\\anaconda3\\lib\\site-packages\\statsmodels\\tsa\\base\\tsa_model.py:581: ValueWarning: A date index has been provided, but it has no associated frequency information and so will be ignored when e.g. forecasting.\n",
      "  warnings.warn('A date index has been provided, but it has no'\n",
      "C:\\Users\\M1\\anaconda3\\lib\\site-packages\\statsmodels\\tsa\\base\\tsa_model.py:581: ValueWarning: A date index has been provided, but it has no associated frequency information and so will be ignored when e.g. forecasting.\n",
      "  warnings.warn('A date index has been provided, but it has no'\n",
      "C:\\Users\\M1\\anaconda3\\lib\\site-packages\\statsmodels\\tsa\\base\\tsa_model.py:581: ValueWarning: A date index has been provided, but it has no associated frequency information and so will be ignored when e.g. forecasting.\n",
      "  warnings.warn('A date index has been provided, but it has no'\n",
      "C:\\Users\\M1\\anaconda3\\lib\\site-packages\\statsmodels\\base\\model.py:566: ConvergenceWarning: Maximum Likelihood optimization failed to converge. Check mle_retvals\n",
      "  warnings.warn(\"Maximum Likelihood optimization failed to \"\n",
      "C:\\Users\\M1\\anaconda3\\lib\\site-packages\\statsmodels\\tsa\\base\\tsa_model.py:376: ValueWarning: No supported index is available. Prediction results will be given with an integer index beginning at `start`.\n",
      "  warnings.warn('No supported index is available.'\n"
     ]
    },
    {
     "data": {
      "text/plain": [
       "-0.011220591357070764"
      ]
     },
     "execution_count": 35,
     "metadata": {},
     "output_type": "execute_result"
    }
   ],
   "source": [
    "model = fit_arima(GOLD_Q3, INDIA_Q3)\n",
    "return_pred = model.predict(exog=INDIA_Q4, start=GOLD_Q3.shape[0], end=GOLD_Q3.shape[0] + GOLD_Q4.shape[0] - 1).values\n",
    "signal = np.where(return_pred > 0, 1, -1)\n",
    "return_q4 = np.product(GOLD_Q4 * signal + 1) - 1\n",
    "return_q4"
   ]
  },
  {
   "cell_type": "code",
   "execution_count": 36,
   "id": "encouraging-services",
   "metadata": {},
   "outputs": [
    {
     "data": {
      "text/plain": [
       "0.08672984709714804"
      ]
     },
     "execution_count": 36,
     "metadata": {},
     "output_type": "execute_result"
    }
   ],
   "source": [
    "(1 + return_q3) * (1 + return_q4) - 1"
   ]
  },
  {
   "cell_type": "raw",
   "id": "removable-session",
   "metadata": {},
   "source": [
    "********* VAR is better for two time series are influencing each other."
   ]
  },
  {
   "cell_type": "markdown",
   "id": "fabulous-guarantee",
   "metadata": {},
   "source": [
    "# 7. Category 3 Model"
   ]
  },
  {
   "cell_type": "code",
   "execution_count": 37,
   "id": "infrared-supplement",
   "metadata": {},
   "outputs": [
    {
     "name": "stderr",
     "output_type": "stream",
     "text": [
      "C:\\Users\\M1\\anaconda3\\lib\\site-packages\\statsmodels\\tsa\\base\\tsa_model.py:581: ValueWarning: A date index has been provided, but it has no associated frequency information and so will be ignored when e.g. forecasting.\n",
      "  warnings.warn('A date index has been provided, but it has no'\n",
      "C:\\Users\\M1\\anaconda3\\lib\\site-packages\\statsmodels\\tsa\\base\\tsa_model.py:581: ValueWarning: A date index has been provided, but it has no associated frequency information and so will be ignored when e.g. forecasting.\n",
      "  warnings.warn('A date index has been provided, but it has no'\n",
      "C:\\Users\\M1\\anaconda3\\lib\\site-packages\\statsmodels\\tsa\\base\\tsa_model.py:581: ValueWarning: A date index has been provided, but it has no associated frequency information and so will be ignored when e.g. forecasting.\n",
      "  warnings.warn('A date index has been provided, but it has no'\n",
      "C:\\Users\\M1\\anaconda3\\lib\\site-packages\\statsmodels\\base\\model.py:566: ConvergenceWarning: Maximum Likelihood optimization failed to converge. Check mle_retvals\n",
      "  warnings.warn(\"Maximum Likelihood optimization failed to \"\n",
      "C:\\Users\\M1\\anaconda3\\lib\\site-packages\\statsmodels\\tsa\\base\\tsa_model.py:376: ValueWarning: No supported index is available. Prediction results will be given with an integer index beginning at `start`.\n",
      "  warnings.warn('No supported index is available.'\n"
     ]
    },
    {
     "data": {
      "text/plain": [
       "1.5162649880292265"
      ]
     },
     "execution_count": 37,
     "metadata": {},
     "output_type": "execute_result"
    }
   ],
   "source": [
    "model = fit_arima(BITCOIN_Q2, pd.concat([INDIA_Q2, GOLD_Q2], axis=1))\n",
    "return_pred = model.predict(exog=pd.concat([INDIA_Q3, GOLD_Q3], axis=1), start=BITCOIN_Q2.shape[0], end=BITCOIN_Q2.shape[0] + BITCOIN_Q3.shape[0] - 1).values\n",
    "signal = np.where(return_pred > 0, 1, -1)\n",
    "return_q3 = np.product(BITCOIN_Q3 * signal + 1) - 1\n",
    "return_q3"
   ]
  },
  {
   "cell_type": "code",
   "execution_count": 38,
   "id": "civic-calibration",
   "metadata": {},
   "outputs": [
    {
     "name": "stderr",
     "output_type": "stream",
     "text": [
      "C:\\Users\\M1\\anaconda3\\lib\\site-packages\\statsmodels\\tsa\\base\\tsa_model.py:581: ValueWarning: A date index has been provided, but it has no associated frequency information and so will be ignored when e.g. forecasting.\n",
      "  warnings.warn('A date index has been provided, but it has no'\n",
      "C:\\Users\\M1\\anaconda3\\lib\\site-packages\\statsmodels\\tsa\\base\\tsa_model.py:581: ValueWarning: A date index has been provided, but it has no associated frequency information and so will be ignored when e.g. forecasting.\n",
      "  warnings.warn('A date index has been provided, but it has no'\n",
      "C:\\Users\\M1\\anaconda3\\lib\\site-packages\\statsmodels\\tsa\\base\\tsa_model.py:581: ValueWarning: A date index has been provided, but it has no associated frequency information and so will be ignored when e.g. forecasting.\n",
      "  warnings.warn('A date index has been provided, but it has no'\n",
      "C:\\Users\\M1\\anaconda3\\lib\\site-packages\\statsmodels\\base\\model.py:566: ConvergenceWarning: Maximum Likelihood optimization failed to converge. Check mle_retvals\n",
      "  warnings.warn(\"Maximum Likelihood optimization failed to \"\n",
      "C:\\Users\\M1\\anaconda3\\lib\\site-packages\\statsmodels\\tsa\\base\\tsa_model.py:376: ValueWarning: No supported index is available. Prediction results will be given with an integer index beginning at `start`.\n",
      "  warnings.warn('No supported index is available.'\n"
     ]
    },
    {
     "data": {
      "text/plain": [
       "0.1732775319466513"
      ]
     },
     "execution_count": 38,
     "metadata": {},
     "output_type": "execute_result"
    }
   ],
   "source": [
    "model = fit_arima(BITCOIN_Q3, pd.concat([INDIA_Q3, GOLD_Q3], axis=1))\n",
    "return_pred = model.predict(exog=pd.concat([INDIA_Q4, GOLD_Q4], axis=1), start=BITCOIN_Q3.shape[0], end=BITCOIN_Q3.shape[0] + BITCOIN_Q4.shape[0] - 1).values\n",
    "signal = np.where(return_pred > 0, 1, -1)\n",
    "return_q4 = np.product(BITCOIN_Q4 * signal + 1) - 1\n",
    "return_q4"
   ]
  },
  {
   "cell_type": "code",
   "execution_count": 39,
   "id": "useful-region",
   "metadata": {},
   "outputs": [
    {
     "data": {
      "text/plain": [
       "1.952277174878701"
      ]
     },
     "execution_count": 39,
     "metadata": {},
     "output_type": "execute_result"
    }
   ],
   "source": [
    "(1 + return_q3) * (1 + return_q4) - 1"
   ]
  },
  {
   "cell_type": "markdown",
   "id": "unsigned-declaration",
   "metadata": {},
   "source": [
    "# Existance of Cointegration"
   ]
  },
  {
   "cell_type": "raw",
   "id": "sealed-standing",
   "metadata": {},
   "source": [
    "<<<<<<<<<<< Getting Data"
   ]
  },
  {
   "cell_type": "code",
   "execution_count": 40,
   "id": "absent-inspiration",
   "metadata": {},
   "outputs": [],
   "source": [
    "GOLD_DATA = get_data(GOLD_DF, 4, 6, \"Daily Return\").values\n",
    "INDIA_DATA = get_data(INDIA_DF, 4, 6, \"Daily Return\").values\n",
    "BITCOIN_DATA = get_data(BITCOIN_DF, 4, 6, \"Daily Return\").values"
   ]
  },
  {
   "cell_type": "code",
   "execution_count": 41,
   "id": "dietary-exemption",
   "metadata": {},
   "outputs": [
    {
     "data": {
      "text/plain": [
       "(-6.565747916371132,\n",
       " 4.322682923961853e-07,\n",
       " array([-4.67463073, -3.96108528, -3.60986125]))"
      ]
     },
     "execution_count": 41,
     "metadata": {},
     "output_type": "execute_result"
    }
   ],
   "source": [
    "coint(GOLD_DATA, np.array([INDIA_DATA, BITCOIN_DATA]).T)"
   ]
  },
  {
   "cell_type": "code",
   "execution_count": 42,
   "id": "sexual-botswana",
   "metadata": {},
   "outputs": [
    {
     "data": {
      "text/plain": [
       "(-4.988541436908666,\n",
       " 0.0008060777558728423,\n",
       " array([-4.67463073, -3.96108528, -3.60986125]))"
      ]
     },
     "execution_count": 42,
     "metadata": {},
     "output_type": "execute_result"
    }
   ],
   "source": [
    "coint(INDIA_DATA, np.array([GOLD_DATA, BITCOIN_DATA]).T)"
   ]
  },
  {
   "cell_type": "code",
   "execution_count": 43,
   "id": "affiliated-shoulder",
   "metadata": {},
   "outputs": [
    {
     "data": {
      "text/plain": [
       "(-5.454046045702774,\n",
       " 0.00011149058020115203,\n",
       " array([-4.67463073, -3.96108528, -3.60986125]))"
      ]
     },
     "execution_count": 43,
     "metadata": {},
     "output_type": "execute_result"
    }
   ],
   "source": [
    "coint(BITCOIN_DATA, np.array([GOLD_DATA, INDIA_DATA]).T)"
   ]
  },
  {
   "cell_type": "markdown",
   "id": "equipped-acceptance",
   "metadata": {},
   "source": [
    "# VECM Model"
   ]
  },
  {
   "cell_type": "code",
   "execution_count": 44,
   "id": "static-cooperative",
   "metadata": {},
   "outputs": [
    {
     "data": {
      "text/plain": [
       "array([[0.12314599, 0.46467365, 0.41218037],\n",
       "       [0.16420781, 0.28384783, 0.55194436],\n",
       "       [0.14118757, 0.32668707, 0.53212536],\n",
       "       [0.15574039, 0.37318813, 0.47107148],\n",
       "       [0.14778397, 0.37228896, 0.47992707],\n",
       "       [0.15183342, 0.35621036, 0.49195622],\n",
       "       [0.14939737, 0.35490377, 0.49569886],\n",
       "       [0.15073002, 0.35876472, 0.49050526],\n",
       "       [0.15009218, 0.35997075, 0.48993708],\n",
       "       [0.15041549, 0.35898925, 0.49059526],\n",
       "       [0.15023708, 0.35848538, 0.49127753],\n",
       "       [0.1503176 , 0.3587085 , 0.4909739 ],\n",
       "       [0.15028821, 0.35886374, 0.49084804],\n",
       "       [0.15029962, 0.35884583, 0.49085455],\n",
       "       [0.15029638, 0.35878171, 0.49092192],\n",
       "       [0.15029473, 0.35878893, 0.49091634],\n",
       "       [0.15029761, 0.35879991, 0.49090248],\n",
       "       [0.15029518, 0.35880535, 0.49089947],\n",
       "       [0.15029715, 0.35879925, 0.49090359],\n",
       "       [0.15029558, 0.3587992 , 0.49090522],\n",
       "       [0.15029669, 0.35879936, 0.49090395],\n",
       "       [0.15029596, 0.35880039, 0.49090365],\n",
       "       [0.15029645, 0.3587999 , 0.49090365],\n",
       "       [0.15029612, 0.3587999 , 0.49090398],\n",
       "       [0.15029633, 0.35879981, 0.49090386],\n",
       "       [0.1502962 , 0.35879994, 0.49090386],\n",
       "       [0.15029628, 0.3587999 , 0.49090382],\n",
       "       [0.15029623, 0.35879991, 0.49090386],\n",
       "       [0.15029626, 0.35879989, 0.49090385],\n",
       "       [0.15029624, 0.3587999 , 0.49090385],\n",
       "       [0.15029626, 0.3587999 , 0.49090385],\n",
       "       [0.15029625, 0.3587999 , 0.49090385],\n",
       "       [0.15029625, 0.3587999 , 0.49090385],\n",
       "       [0.15029625, 0.3587999 , 0.49090385],\n",
       "       [0.15029625, 0.3587999 , 0.49090385],\n",
       "       [0.15029625, 0.3587999 , 0.49090385],\n",
       "       [0.15029625, 0.3587999 , 0.49090385],\n",
       "       [0.15029625, 0.3587999 , 0.49090385],\n",
       "       [0.15029625, 0.3587999 , 0.49090385],\n",
       "       [0.15029625, 0.3587999 , 0.49090385],\n",
       "       [0.15029625, 0.3587999 , 0.49090385],\n",
       "       [0.15029625, 0.3587999 , 0.49090385],\n",
       "       [0.15029625, 0.3587999 , 0.49090385]])"
      ]
     },
     "execution_count": 44,
     "metadata": {},
     "output_type": "execute_result"
    }
   ],
   "source": [
    "data_q2 = np.array([GOLD_DATA, INDIA_DATA, BITCOIN_DATA]).T\n",
    "model = VECM(data_q2, coint_rank=1)\n",
    "vecm_res = model.fit()\n",
    "res = vecm_res.predict(steps=43)\n",
    "row_sums = res.sum(axis=1)\n",
    "weights = res / row_sums[:, np.newaxis]\n",
    "weights"
   ]
  },
  {
   "cell_type": "code",
   "execution_count": 45,
   "id": "consistent-utility",
   "metadata": {},
   "outputs": [
    {
     "data": {
      "text/plain": [
       "0.274253294322615"
      ]
     },
     "execution_count": 45,
     "metadata": {},
     "output_type": "execute_result"
    }
   ],
   "source": [
    "GOLD_DATA = get_data(GOLD_DF, 7, 9, \"Daily Return\").values\n",
    "INDIA_DATA = get_data(INDIA_DF, 7, 9, \"Daily Return\").values\n",
    "BITCOIN_DATA = get_data(BITCOIN_DF, 7, 9, \"Daily Return\").values\n",
    "data_q3 = np.array([GOLD_DATA, INDIA_DATA, BITCOIN_DATA]).T\n",
    "\n",
    "return_q3 = weights * data_q3\n",
    "total_return_q3 = return_q3.sum(axis=1)\n",
    "portfolio_return_q3 = np.product(total_return_q3 + 1) - 1\n",
    "portfolio_return_q3"
   ]
  },
  {
   "cell_type": "markdown",
   "id": "visible-flooring",
   "metadata": {},
   "source": [
    "# Cointegrations"
   ]
  },
  {
   "cell_type": "code",
   "execution_count": 46,
   "id": "liked-techno",
   "metadata": {},
   "outputs": [
    {
     "data": {
      "text/plain": [
       "(-6.696293904299751,\n",
       " 2.1032695070960866e-07,\n",
       " array([-4.6556178 , -3.95031996, -3.60224723]))"
      ]
     },
     "execution_count": 46,
     "metadata": {},
     "output_type": "execute_result"
    }
   ],
   "source": [
    "coint(GOLD_DATA, np.array([INDIA_DATA, BITCOIN_DATA]).T)"
   ]
  },
  {
   "cell_type": "code",
   "execution_count": 47,
   "id": "initial-alias",
   "metadata": {},
   "outputs": [
    {
     "data": {
      "text/plain": [
       "(-3.3064742898341692,\n",
       " 0.13647697202193737,\n",
       " array([-4.6556178 , -3.95031996, -3.60224723]))"
      ]
     },
     "execution_count": 47,
     "metadata": {},
     "output_type": "execute_result"
    }
   ],
   "source": [
    "coint(INDIA_DATA, np.array([GOLD_DATA, BITCOIN_DATA]).T)"
   ]
  },
  {
   "cell_type": "code",
   "execution_count": 48,
   "id": "conscious-dispute",
   "metadata": {},
   "outputs": [
    {
     "data": {
      "text/plain": [
       "(-9.705465731863168,\n",
       " 8.051645340566347e-16,\n",
       " array([-4.6556178 , -3.95031996, -3.60224723]))"
      ]
     },
     "execution_count": 48,
     "metadata": {},
     "output_type": "execute_result"
    }
   ],
   "source": [
    "coint(BITCOIN_DATA, np.array([GOLD_DATA, INDIA_DATA]).T)"
   ]
  },
  {
   "cell_type": "code",
   "execution_count": 49,
   "id": "wooden-crown",
   "metadata": {},
   "outputs": [
    {
     "data": {
      "text/plain": [
       "array([[ 0.33395541, -0.23182584,  0.89787043],\n",
       "       [-1.23224651,  2.70986015, -0.47761363],\n",
       "       [ 0.38009374, -0.48087207,  1.10077833],\n",
       "       [ 1.23177796, -2.21234452,  1.98056656],\n",
       "       [ 0.52573832, -0.7358105 ,  1.21007218],\n",
       "       [ 0.78678214, -1.30205807,  1.51527593],\n",
       "       [ 0.58704716, -0.87287153,  1.28582437],\n",
       "       [ 0.70301319, -1.11725382,  1.41424063],\n",
       "       [ 0.62248351, -0.94831979,  1.32583628],\n",
       "       [ 0.67083537, -1.05016266,  1.3793273 ],\n",
       "       [ 0.63909211, -0.98303148,  1.34393938],\n",
       "       [ 0.6590018 , -1.0251707 ,  1.3661689 ],\n",
       "       [ 0.64602491, -0.99773865,  1.35171374],\n",
       "       [ 0.65429163, -1.01519603,  1.3609044 ],\n",
       "       [ 0.6489613 , -1.00394036,  1.35497905],\n",
       "       [ 0.65236465, -1.0111296 ,  1.35876495],\n",
       "       [ 0.650178  , -1.00650946,  1.35633146],\n",
       "       [ 0.65157843, -1.00946835,  1.35788992],\n",
       "       [ 0.65067926, -1.00756874,  1.35688948],\n",
       "       [ 0.65125562, -1.00878631,  1.35753069],\n",
       "       [ 0.65088587, -1.00800518,  1.35711932],\n",
       "       [ 0.65112292, -1.008506  ,  1.35738307],\n",
       "       [ 0.65097087, -1.00818477,  1.3572139 ],\n",
       "       [ 0.65106838, -1.00839076,  1.35732238],\n",
       "       [ 0.65100584, -1.00825864,  1.3572528 ],\n",
       "       [ 0.65104594, -1.00834337,  1.35729742],\n",
       "       [ 0.65102022, -1.00828903,  1.35726881],\n",
       "       [ 0.65103672, -1.00832388,  1.35728716],\n",
       "       [ 0.65102614, -1.00830153,  1.35727539],\n",
       "       [ 0.65103292, -1.00831586,  1.35728294],\n",
       "       [ 0.65102857, -1.00830667,  1.3572781 ],\n",
       "       [ 0.65103136, -1.00831256,  1.3572812 ],\n",
       "       [ 0.65102957, -1.00830878,  1.35727921],\n",
       "       [ 0.65103072, -1.00831121,  1.35728049],\n",
       "       [ 0.65102999, -1.00830965,  1.35727967],\n",
       "       [ 0.65103046, -1.00831065,  1.35728019],\n",
       "       [ 0.65103016, -1.00831001,  1.35727986],\n",
       "       [ 0.65103035, -1.00831042,  1.35728007],\n",
       "       [ 0.65103022, -1.00831016,  1.35727993],\n",
       "       [ 0.6510303 , -1.00831033,  1.35728002],\n",
       "       [ 0.65103025, -1.00831022,  1.35727997],\n",
       "       [ 0.65103029, -1.00831029,  1.35728   ]])"
      ]
     },
     "execution_count": 49,
     "metadata": {},
     "output_type": "execute_result"
    }
   ],
   "source": [
    "model = VECM(data_q3, coint_rank=1)\n",
    "vecm_res = model.fit()\n",
    "res = vecm_res.predict(steps=42)\n",
    "row_sums = res.sum(axis=1)\n",
    "weights = res / row_sums[:, np.newaxis]\n",
    "weights"
   ]
  },
  {
   "cell_type": "code",
   "execution_count": 50,
   "id": "billion-immunology",
   "metadata": {},
   "outputs": [
    {
     "data": {
      "text/plain": [
       "1.2983171820897255"
      ]
     },
     "execution_count": 50,
     "metadata": {},
     "output_type": "execute_result"
    }
   ],
   "source": [
    "GOLD_DATA = get_data(GOLD_DF, 10, 12, \"Daily Return\").values\n",
    "INDIA_DATA = get_data(INDIA_DF, 10, 12, \"Daily Return\").values\n",
    "BITCOIN_DATA = get_data(BITCOIN_DF, 10, 12, \"Daily Return\").values\n",
    "data_q4 = np.array([GOLD_DATA, INDIA_DATA, BITCOIN_DATA]).T\n",
    "\n",
    "return_q4 = weights * data_q4\n",
    "total_return_q4 = return_q4.sum(axis=1)\n",
    "portfolio_return_q4 = np.product(total_return_q4 + 1) - 1\n",
    "portfolio_return_q4"
   ]
  },
  {
   "cell_type": "code",
   "execution_count": 51,
   "id": "distinguished-public",
   "metadata": {},
   "outputs": [
    {
     "data": {
      "text/plain": [
       "1.928638240676102"
      ]
     },
     "execution_count": 51,
     "metadata": {},
     "output_type": "execute_result"
    }
   ],
   "source": [
    "(1 + portfolio_return_q3) * (1 + portfolio_return_q4) - 1"
   ]
  },
  {
   "cell_type": "raw",
   "id": "conservative-retailer",
   "metadata": {},
   "source": [
    "********** VARMA is considered inasmuch as it has a good return"
   ]
  },
  {
   "cell_type": "markdown",
   "id": "smaller-gathering",
   "metadata": {},
   "source": [
    "# 8. Combining the Models\n",
    "\n"
   ]
  },
  {
   "cell_type": "markdown",
   "id": "historical-neighborhood",
   "metadata": {
    "pycharm": {
     "name": "#%% md\n"
    }
   },
   "source": [
    "Both two VARMA models has the better returns than the rest, so we would like to combine two models."
   ]
  },
  {
   "cell_type": "markdown",
   "id": "foster-fitting",
   "metadata": {
    "pycharm": {
     "name": "#%% md\n"
    }
   },
   "source": [
    "For maximum diversification, we will assign each model 50% of the capital.\n",
    "Considering the return of each quarter above, we dont need to rebalance the weight."
   ]
  },
  {
   "cell_type": "markdown",
   "id": "musical-extra",
   "metadata": {
    "pycharm": {
     "name": "#%% md\n"
    }
   },
   "source": [
    "Because of the same weight for each model, the return of combine model can be predicted to be weighted return of the 2.\n",
    "In our case, it would be 100.5%\n",
    "\n"
   ]
  }
 ],
 "metadata": {
  "kernelspec": {
   "display_name": "Python 3",
   "language": "python",
   "name": "python3"
  },
  "language_info": {
   "codemirror_mode": {
    "name": "ipython",
    "version": 3
   },
   "file_extension": ".py",
   "mimetype": "text/x-python",
   "name": "python",
   "nbconvert_exporter": "python",
   "pygments_lexer": "ipython3",
   "version": "3.7.8"
  }
 },
 "nbformat": 4,
 "nbformat_minor": 5
}
