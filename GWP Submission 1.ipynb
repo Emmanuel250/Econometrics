{
 "cells": [
  {
   "cell_type": "markdown",
   "metadata": {},
   "source": [
    "# 0. Data set selection\n",
    "\n",
    "For gold ETF, we choose SPDR Gold Shares ETF, symbol `GLD`\n",
    "For equity ETF outside US, we choose iShares MSCI India ETF, symbol `INDA`\n",
    "\n",
    "\n",
    "Data source: https://finance.yahoo.com"
   ]
  },
  {
   "cell_type": "markdown",
   "metadata": {
    "pycharm": {
     "name": "#%% md\n"
    }
   },
   "source": [
    "# 1. Data Importing"
   ]
  },
  {
   "cell_type": "code",
   "execution_count": 1,
   "metadata": {
    "pycharm": {
     "name": "#%%\n"
    }
   },
   "outputs": [
    {
     "name": "stderr",
     "output_type": "stream",
     "text": [
      "/Users/nguynha/.asdf/installs/python/3.8.6/lib/python3.8/site-packages/pandas/compat/__init__.py:97: UserWarning: Could not import the lzma module. Your installed Python is incomplete. Attempting to use lzma compression will result in a RuntimeError.\n",
      "  warnings.warn(msg)\n"
     ]
    }
   ],
   "source": [
    "import arch\n",
    "import pandas as pd\n",
    "import numpy as np\n",
    "import matplotlib.pyplot as plt\n",
    "from statsmodels.tsa.arima.model import ARIMA\n",
    "from scipy import stats\n",
    "from nelson_siegel_svensson import NelsonSiegelSvenssonCurve\n",
    "from nelson_siegel_svensson.calibrate import calibrate_nss_ols\n",
    "%matplotlib inline\n"
   ]
  },
  {
   "cell_type": "markdown",
   "metadata": {},
   "source": [
    "Load data from CSV into Panda's dataframe"
   ]
  },
  {
   "cell_type": "code",
   "execution_count": 2,
   "metadata": {},
   "outputs": [],
   "source": [
    "gold_df = pd.read_csv('SPDR_GOLD.csv')\n",
    "india_df = pd.read_csv('INDA.csv')\n",
    "treasury_df = pd.read_csv('Treasury.csv')"
   ]
  },
  {
   "cell_type": "markdown",
   "metadata": {
    "pycharm": {
     "name": "#%% md\n"
    }
   },
   "source": [
    "Convert the data into the datetime format and index it for easier query.\n"
   ]
  },
  {
   "cell_type": "code",
   "execution_count": 3,
   "metadata": {
    "pycharm": {
     "name": "#%%\n"
    }
   },
   "outputs": [],
   "source": [
    "gold_df[\"Date\"] = pd.to_datetime(gold_df[\"Date\"], format=\"%m/%d/%Y\")\n",
    "gold_df.set_index(\"Date\", inplace=True)\n",
    "india_df[\"Date\"] = pd.to_datetime(india_df[\"Date\"], format=\"%m/%d/%Y\")\n",
    "india_df.set_index(\"Date\", inplace=True)"
   ]
  },
  {
   "cell_type": "markdown",
   "metadata": {},
   "source": [
    "Verify that the time range is correct."
   ]
  },
  {
   "cell_type": "code",
   "execution_count": 4,
   "metadata": {
    "pycharm": {
     "name": "#%%\n"
    }
   },
   "outputs": [
    {
     "data": {
      "text/html": [
       "<div>\n",
       "<style scoped>\n",
       "    .dataframe tbody tr th:only-of-type {\n",
       "        vertical-align: middle;\n",
       "    }\n",
       "\n",
       "    .dataframe tbody tr th {\n",
       "        vertical-align: top;\n",
       "    }\n",
       "\n",
       "    .dataframe thead th {\n",
       "        text-align: right;\n",
       "    }\n",
       "</style>\n",
       "<table border=\"1\" class=\"dataframe\">\n",
       "  <thead>\n",
       "    <tr style=\"text-align: right;\">\n",
       "      <th></th>\n",
       "      <th>Open</th>\n",
       "      <th>High_Value</th>\n",
       "      <th>Low_Value</th>\n",
       "      <th>Close</th>\n",
       "      <th>Volume</th>\n",
       "      <th>Adjusted_Price</th>\n",
       "    </tr>\n",
       "    <tr>\n",
       "      <th>Date</th>\n",
       "      <th></th>\n",
       "      <th></th>\n",
       "      <th></th>\n",
       "      <th></th>\n",
       "      <th></th>\n",
       "      <th></th>\n",
       "    </tr>\n",
       "  </thead>\n",
       "  <tbody>\n",
       "    <tr>\n",
       "      <th>2019-10-01</th>\n",
       "      <td>138.070007</td>\n",
       "      <td>140.190002</td>\n",
       "      <td>137.800003</td>\n",
       "      <td>139.630005</td>\n",
       "      <td>12476200</td>\n",
       "      <td>139.630005</td>\n",
       "    </tr>\n",
       "    <tr>\n",
       "      <th>2019-10-02</th>\n",
       "      <td>140.789993</td>\n",
       "      <td>141.880005</td>\n",
       "      <td>140.460007</td>\n",
       "      <td>141.259995</td>\n",
       "      <td>11914300</td>\n",
       "      <td>141.259995</td>\n",
       "    </tr>\n",
       "    <tr>\n",
       "      <th>2019-10-03</th>\n",
       "      <td>141.360001</td>\n",
       "      <td>143.250000</td>\n",
       "      <td>141.289993</td>\n",
       "      <td>141.899994</td>\n",
       "      <td>12396100</td>\n",
       "      <td>141.899994</td>\n",
       "    </tr>\n",
       "    <tr>\n",
       "      <th>2019-10-04</th>\n",
       "      <td>141.479996</td>\n",
       "      <td>142.309998</td>\n",
       "      <td>141.139999</td>\n",
       "      <td>141.899994</td>\n",
       "      <td>9651000</td>\n",
       "      <td>141.899994</td>\n",
       "    </tr>\n",
       "    <tr>\n",
       "      <th>2019-10-07</th>\n",
       "      <td>141.160004</td>\n",
       "      <td>141.770004</td>\n",
       "      <td>140.240005</td>\n",
       "      <td>140.690002</td>\n",
       "      <td>6127200</td>\n",
       "      <td>140.690002</td>\n",
       "    </tr>\n",
       "  </tbody>\n",
       "</table>\n",
       "</div>"
      ],
      "text/plain": [
       "                  Open  High_Value   Low_Value       Close    Volume  \\\n",
       "Date                                                                   \n",
       "2019-10-01  138.070007  140.190002  137.800003  139.630005  12476200   \n",
       "2019-10-02  140.789993  141.880005  140.460007  141.259995  11914300   \n",
       "2019-10-03  141.360001  143.250000  141.289993  141.899994  12396100   \n",
       "2019-10-04  141.479996  142.309998  141.139999  141.899994   9651000   \n",
       "2019-10-07  141.160004  141.770004  140.240005  140.690002   6127200   \n",
       "\n",
       "            Adjusted_Price  \n",
       "Date                        \n",
       "2019-10-01      139.630005  \n",
       "2019-10-02      141.259995  \n",
       "2019-10-03      141.899994  \n",
       "2019-10-04      141.899994  \n",
       "2019-10-07      140.690002  "
      ]
     },
     "execution_count": 4,
     "metadata": {},
     "output_type": "execute_result"
    }
   ],
   "source": [
    "gold_df.head()"
   ]
  },
  {
   "cell_type": "code",
   "execution_count": 5,
   "metadata": {
    "pycharm": {
     "name": "#%%\n"
    }
   },
   "outputs": [
    {
     "data": {
      "text/html": [
       "<div>\n",
       "<style scoped>\n",
       "    .dataframe tbody tr th:only-of-type {\n",
       "        vertical-align: middle;\n",
       "    }\n",
       "\n",
       "    .dataframe tbody tr th {\n",
       "        vertical-align: top;\n",
       "    }\n",
       "\n",
       "    .dataframe thead th {\n",
       "        text-align: right;\n",
       "    }\n",
       "</style>\n",
       "<table border=\"1\" class=\"dataframe\">\n",
       "  <thead>\n",
       "    <tr style=\"text-align: right;\">\n",
       "      <th></th>\n",
       "      <th>Open</th>\n",
       "      <th>High_Value</th>\n",
       "      <th>Low_Value</th>\n",
       "      <th>Close</th>\n",
       "      <th>Volume</th>\n",
       "      <th>Adjusted_Price</th>\n",
       "    </tr>\n",
       "    <tr>\n",
       "      <th>Date</th>\n",
       "      <th></th>\n",
       "      <th></th>\n",
       "      <th></th>\n",
       "      <th></th>\n",
       "      <th></th>\n",
       "      <th></th>\n",
       "    </tr>\n",
       "  </thead>\n",
       "  <tbody>\n",
       "    <tr>\n",
       "      <th>2019-11-22</th>\n",
       "      <td>138.369995</td>\n",
       "      <td>138.460007</td>\n",
       "      <td>137.660004</td>\n",
       "      <td>137.740005</td>\n",
       "      <td>3620300</td>\n",
       "      <td>137.740005</td>\n",
       "    </tr>\n",
       "    <tr>\n",
       "      <th>2019-11-25</th>\n",
       "      <td>137.320007</td>\n",
       "      <td>137.619995</td>\n",
       "      <td>136.990005</td>\n",
       "      <td>137.080002</td>\n",
       "      <td>6415800</td>\n",
       "      <td>137.080002</td>\n",
       "    </tr>\n",
       "    <tr>\n",
       "      <th>2019-11-26</th>\n",
       "      <td>136.979996</td>\n",
       "      <td>137.800003</td>\n",
       "      <td>136.580002</td>\n",
       "      <td>137.740005</td>\n",
       "      <td>4724400</td>\n",
       "      <td>137.740005</td>\n",
       "    </tr>\n",
       "    <tr>\n",
       "      <th>2019-11-27</th>\n",
       "      <td>137.029999</td>\n",
       "      <td>137.210007</td>\n",
       "      <td>136.830002</td>\n",
       "      <td>137.009995</td>\n",
       "      <td>4111000</td>\n",
       "      <td>137.009995</td>\n",
       "    </tr>\n",
       "    <tr>\n",
       "      <th>2019-11-29</th>\n",
       "      <td>137.100006</td>\n",
       "      <td>138.130005</td>\n",
       "      <td>137.080002</td>\n",
       "      <td>137.860001</td>\n",
       "      <td>4516400</td>\n",
       "      <td>137.860001</td>\n",
       "    </tr>\n",
       "  </tbody>\n",
       "</table>\n",
       "</div>"
      ],
      "text/plain": [
       "                  Open  High_Value   Low_Value       Close   Volume  \\\n",
       "Date                                                                  \n",
       "2019-11-22  138.369995  138.460007  137.660004  137.740005  3620300   \n",
       "2019-11-25  137.320007  137.619995  136.990005  137.080002  6415800   \n",
       "2019-11-26  136.979996  137.800003  136.580002  137.740005  4724400   \n",
       "2019-11-27  137.029999  137.210007  136.830002  137.009995  4111000   \n",
       "2019-11-29  137.100006  138.130005  137.080002  137.860001  4516400   \n",
       "\n",
       "            Adjusted_Price  \n",
       "Date                        \n",
       "2019-11-22      137.740005  \n",
       "2019-11-25      137.080002  \n",
       "2019-11-26      137.740005  \n",
       "2019-11-27      137.009995  \n",
       "2019-11-29      137.860001  "
      ]
     },
     "execution_count": 5,
     "metadata": {},
     "output_type": "execute_result"
    }
   ],
   "source": [
    "gold_df.tail()"
   ]
  },
  {
   "cell_type": "code",
   "execution_count": 6,
   "metadata": {
    "pycharm": {
     "name": "#%%\n"
    }
   },
   "outputs": [
    {
     "data": {
      "text/html": [
       "<div>\n",
       "<style scoped>\n",
       "    .dataframe tbody tr th:only-of-type {\n",
       "        vertical-align: middle;\n",
       "    }\n",
       "\n",
       "    .dataframe tbody tr th {\n",
       "        vertical-align: top;\n",
       "    }\n",
       "\n",
       "    .dataframe thead th {\n",
       "        text-align: right;\n",
       "    }\n",
       "</style>\n",
       "<table border=\"1\" class=\"dataframe\">\n",
       "  <thead>\n",
       "    <tr style=\"text-align: right;\">\n",
       "      <th></th>\n",
       "      <th>Open</th>\n",
       "      <th>High</th>\n",
       "      <th>Low</th>\n",
       "      <th>Close</th>\n",
       "      <th>Adj Close</th>\n",
       "      <th>Volume</th>\n",
       "      <th>Adjusted_Price</th>\n",
       "    </tr>\n",
       "    <tr>\n",
       "      <th>Date</th>\n",
       "      <th></th>\n",
       "      <th></th>\n",
       "      <th></th>\n",
       "      <th></th>\n",
       "      <th></th>\n",
       "      <th></th>\n",
       "      <th></th>\n",
       "    </tr>\n",
       "  </thead>\n",
       "  <tbody>\n",
       "    <tr>\n",
       "      <th>2019-10-01</th>\n",
       "      <td>32.980000</td>\n",
       "      <td>32.980000</td>\n",
       "      <td>32.740002</td>\n",
       "      <td>32.779999</td>\n",
       "      <td>32.603642</td>\n",
       "      <td>4870800</td>\n",
       "      <td>32.603642</td>\n",
       "    </tr>\n",
       "    <tr>\n",
       "      <th>2019-10-02</th>\n",
       "      <td>32.599998</td>\n",
       "      <td>32.700001</td>\n",
       "      <td>32.520000</td>\n",
       "      <td>32.639999</td>\n",
       "      <td>32.464397</td>\n",
       "      <td>3958600</td>\n",
       "      <td>32.464397</td>\n",
       "    </tr>\n",
       "    <tr>\n",
       "      <th>2019-10-03</th>\n",
       "      <td>32.799999</td>\n",
       "      <td>33.020000</td>\n",
       "      <td>32.790001</td>\n",
       "      <td>32.990002</td>\n",
       "      <td>32.812511</td>\n",
       "      <td>4543200</td>\n",
       "      <td>32.812511</td>\n",
       "    </tr>\n",
       "    <tr>\n",
       "      <th>2019-10-04</th>\n",
       "      <td>32.689999</td>\n",
       "      <td>32.830002</td>\n",
       "      <td>32.599998</td>\n",
       "      <td>32.770000</td>\n",
       "      <td>32.593697</td>\n",
       "      <td>3193700</td>\n",
       "      <td>32.593697</td>\n",
       "    </tr>\n",
       "    <tr>\n",
       "      <th>2019-10-07</th>\n",
       "      <td>32.500000</td>\n",
       "      <td>32.560001</td>\n",
       "      <td>32.369999</td>\n",
       "      <td>32.389999</td>\n",
       "      <td>32.215740</td>\n",
       "      <td>4388000</td>\n",
       "      <td>32.215740</td>\n",
       "    </tr>\n",
       "  </tbody>\n",
       "</table>\n",
       "</div>"
      ],
      "text/plain": [
       "                 Open       High        Low      Close  Adj Close   Volume  \\\n",
       "Date                                                                         \n",
       "2019-10-01  32.980000  32.980000  32.740002  32.779999  32.603642  4870800   \n",
       "2019-10-02  32.599998  32.700001  32.520000  32.639999  32.464397  3958600   \n",
       "2019-10-03  32.799999  33.020000  32.790001  32.990002  32.812511  4543200   \n",
       "2019-10-04  32.689999  32.830002  32.599998  32.770000  32.593697  3193700   \n",
       "2019-10-07  32.500000  32.560001  32.369999  32.389999  32.215740  4388000   \n",
       "\n",
       "            Adjusted_Price  \n",
       "Date                        \n",
       "2019-10-01       32.603642  \n",
       "2019-10-02       32.464397  \n",
       "2019-10-03       32.812511  \n",
       "2019-10-04       32.593697  \n",
       "2019-10-07       32.215740  "
      ]
     },
     "execution_count": 6,
     "metadata": {},
     "output_type": "execute_result"
    }
   ],
   "source": [
    "india_df.head()"
   ]
  },
  {
   "cell_type": "code",
   "execution_count": 7,
   "metadata": {
    "pycharm": {
     "name": "#%%\n"
    }
   },
   "outputs": [
    {
     "data": {
      "text/html": [
       "<div>\n",
       "<style scoped>\n",
       "    .dataframe tbody tr th:only-of-type {\n",
       "        vertical-align: middle;\n",
       "    }\n",
       "\n",
       "    .dataframe tbody tr th {\n",
       "        vertical-align: top;\n",
       "    }\n",
       "\n",
       "    .dataframe thead th {\n",
       "        text-align: right;\n",
       "    }\n",
       "</style>\n",
       "<table border=\"1\" class=\"dataframe\">\n",
       "  <thead>\n",
       "    <tr style=\"text-align: right;\">\n",
       "      <th></th>\n",
       "      <th>Open</th>\n",
       "      <th>High</th>\n",
       "      <th>Low</th>\n",
       "      <th>Close</th>\n",
       "      <th>Adj Close</th>\n",
       "      <th>Volume</th>\n",
       "      <th>Adjusted_Price</th>\n",
       "    </tr>\n",
       "    <tr>\n",
       "      <th>Date</th>\n",
       "      <th></th>\n",
       "      <th></th>\n",
       "      <th></th>\n",
       "      <th></th>\n",
       "      <th></th>\n",
       "      <th></th>\n",
       "      <th></th>\n",
       "    </tr>\n",
       "  </thead>\n",
       "  <tbody>\n",
       "    <tr>\n",
       "      <th>2019-11-22</th>\n",
       "      <td>34.200001</td>\n",
       "      <td>34.270000</td>\n",
       "      <td>34.150002</td>\n",
       "      <td>34.200001</td>\n",
       "      <td>34.016003</td>\n",
       "      <td>1850600</td>\n",
       "      <td>34.016003</td>\n",
       "    </tr>\n",
       "    <tr>\n",
       "      <th>2019-11-25</th>\n",
       "      <td>34.770000</td>\n",
       "      <td>34.919998</td>\n",
       "      <td>34.709999</td>\n",
       "      <td>34.910000</td>\n",
       "      <td>34.722179</td>\n",
       "      <td>3578600</td>\n",
       "      <td>34.722179</td>\n",
       "    </tr>\n",
       "    <tr>\n",
       "      <th>2019-11-26</th>\n",
       "      <td>34.779999</td>\n",
       "      <td>34.820000</td>\n",
       "      <td>34.680000</td>\n",
       "      <td>34.790001</td>\n",
       "      <td>34.602833</td>\n",
       "      <td>5311800</td>\n",
       "      <td>34.602833</td>\n",
       "    </tr>\n",
       "    <tr>\n",
       "      <th>2019-11-27</th>\n",
       "      <td>34.959999</td>\n",
       "      <td>35.070000</td>\n",
       "      <td>34.869999</td>\n",
       "      <td>35.060001</td>\n",
       "      <td>34.871380</td>\n",
       "      <td>4053900</td>\n",
       "      <td>34.871380</td>\n",
       "    </tr>\n",
       "    <tr>\n",
       "      <th>2019-11-29</th>\n",
       "      <td>34.549999</td>\n",
       "      <td>34.619999</td>\n",
       "      <td>34.450001</td>\n",
       "      <td>34.459999</td>\n",
       "      <td>34.274605</td>\n",
       "      <td>3403700</td>\n",
       "      <td>34.274605</td>\n",
       "    </tr>\n",
       "  </tbody>\n",
       "</table>\n",
       "</div>"
      ],
      "text/plain": [
       "                 Open       High        Low      Close  Adj Close   Volume  \\\n",
       "Date                                                                         \n",
       "2019-11-22  34.200001  34.270000  34.150002  34.200001  34.016003  1850600   \n",
       "2019-11-25  34.770000  34.919998  34.709999  34.910000  34.722179  3578600   \n",
       "2019-11-26  34.779999  34.820000  34.680000  34.790001  34.602833  5311800   \n",
       "2019-11-27  34.959999  35.070000  34.869999  35.060001  34.871380  4053900   \n",
       "2019-11-29  34.549999  34.619999  34.450001  34.459999  34.274605  3403700   \n",
       "\n",
       "            Adjusted_Price  \n",
       "Date                        \n",
       "2019-11-22       34.016003  \n",
       "2019-11-25       34.722179  \n",
       "2019-11-26       34.602833  \n",
       "2019-11-27       34.871380  \n",
       "2019-11-29       34.274605  "
      ]
     },
     "execution_count": 7,
     "metadata": {},
     "output_type": "execute_result"
    }
   ],
   "source": [
    "india_df.tail()"
   ]
  },
  {
   "cell_type": "code",
   "execution_count": 8,
   "metadata": {},
   "outputs": [
    {
     "data": {
      "text/html": [
       "<div>\n",
       "<style scoped>\n",
       "    .dataframe tbody tr th:only-of-type {\n",
       "        vertical-align: middle;\n",
       "    }\n",
       "\n",
       "    .dataframe tbody tr th {\n",
       "        vertical-align: top;\n",
       "    }\n",
       "\n",
       "    .dataframe thead th {\n",
       "        text-align: right;\n",
       "    }\n",
       "</style>\n",
       "<table border=\"1\" class=\"dataframe\">\n",
       "  <thead>\n",
       "    <tr style=\"text-align: right;\">\n",
       "      <th></th>\n",
       "      <th>Date</th>\n",
       "      <th>2 Year Price</th>\n",
       "      <th>3 Year Price</th>\n",
       "      <th>5 Year Price</th>\n",
       "      <th>7 Year Price</th>\n",
       "      <th>10 Year Price</th>\n",
       "      <th>30 Year Price</th>\n",
       "    </tr>\n",
       "  </thead>\n",
       "  <tbody>\n",
       "    <tr>\n",
       "      <th>0</th>\n",
       "      <td>Oct 01, 2019</td>\n",
       "      <td>1.542</td>\n",
       "      <td>1.494</td>\n",
       "      <td>1.489</td>\n",
       "      <td>1.571</td>\n",
       "      <td>1.635</td>\n",
       "      <td>2.091</td>\n",
       "    </tr>\n",
       "    <tr>\n",
       "      <th>1</th>\n",
       "      <td>Oct 02, 2019</td>\n",
       "      <td>1.484</td>\n",
       "      <td>1.435</td>\n",
       "      <td>1.435</td>\n",
       "      <td>1.528</td>\n",
       "      <td>1.601</td>\n",
       "      <td>2.088</td>\n",
       "    </tr>\n",
       "    <tr>\n",
       "      <th>2</th>\n",
       "      <td>Oct 03, 2019</td>\n",
       "      <td>1.392</td>\n",
       "      <td>1.351</td>\n",
       "      <td>1.349</td>\n",
       "      <td>1.450</td>\n",
       "      <td>1.534</td>\n",
       "      <td>2.031</td>\n",
       "    </tr>\n",
       "    <tr>\n",
       "      <th>3</th>\n",
       "      <td>Oct 04, 2019</td>\n",
       "      <td>1.406</td>\n",
       "      <td>1.361</td>\n",
       "      <td>1.349</td>\n",
       "      <td>1.446</td>\n",
       "      <td>1.529</td>\n",
       "      <td>2.014</td>\n",
       "    </tr>\n",
       "    <tr>\n",
       "      <th>4</th>\n",
       "      <td>Oct 06, 2019</td>\n",
       "      <td>1.386</td>\n",
       "      <td>1.342</td>\n",
       "      <td>1.331</td>\n",
       "      <td>1.429</td>\n",
       "      <td>1.515</td>\n",
       "      <td>2.008</td>\n",
       "    </tr>\n",
       "  </tbody>\n",
       "</table>\n",
       "</div>"
      ],
      "text/plain": [
       "           Date   2 Year Price  3 Year Price  5 Year Price  7 Year Price  \\\n",
       "0  Oct 01, 2019          1.542         1.494         1.489         1.571   \n",
       "1  Oct 02, 2019          1.484         1.435         1.435         1.528   \n",
       "2  Oct 03, 2019          1.392         1.351         1.349         1.450   \n",
       "3  Oct 04, 2019          1.406         1.361         1.349         1.446   \n",
       "4  Oct 06, 2019          1.386         1.342         1.331         1.429   \n",
       "\n",
       "   10 Year Price  30 Year Price  \n",
       "0          1.635          2.091  \n",
       "1          1.601          2.088  \n",
       "2          1.534          2.031  \n",
       "3          1.529          2.014  \n",
       "4          1.515          2.008  "
      ]
     },
     "execution_count": 8,
     "metadata": {},
     "output_type": "execute_result"
    }
   ],
   "source": [
    "treasury_df.head()"
   ]
  },
  {
   "cell_type": "code",
   "execution_count": 9,
   "metadata": {},
   "outputs": [
    {
     "data": {
      "text/html": [
       "<div>\n",
       "<style scoped>\n",
       "    .dataframe tbody tr th:only-of-type {\n",
       "        vertical-align: middle;\n",
       "    }\n",
       "\n",
       "    .dataframe tbody tr th {\n",
       "        vertical-align: top;\n",
       "    }\n",
       "\n",
       "    .dataframe thead th {\n",
       "        text-align: right;\n",
       "    }\n",
       "</style>\n",
       "<table border=\"1\" class=\"dataframe\">\n",
       "  <thead>\n",
       "    <tr style=\"text-align: right;\">\n",
       "      <th></th>\n",
       "      <th>Date</th>\n",
       "      <th>2 Year Price</th>\n",
       "      <th>3 Year Price</th>\n",
       "      <th>5 Year Price</th>\n",
       "      <th>7 Year Price</th>\n",
       "      <th>10 Year Price</th>\n",
       "      <th>30 Year Price</th>\n",
       "    </tr>\n",
       "  </thead>\n",
       "  <tbody>\n",
       "    <tr>\n",
       "      <th>45</th>\n",
       "      <td>Nov 25, 2019</td>\n",
       "      <td>1.611</td>\n",
       "      <td>1.595</td>\n",
       "      <td>1.607</td>\n",
       "      <td>1.692</td>\n",
       "      <td>1.752</td>\n",
       "      <td>2.197</td>\n",
       "    </tr>\n",
       "    <tr>\n",
       "      <th>46</th>\n",
       "      <td>Nov 26, 2019</td>\n",
       "      <td>1.590</td>\n",
       "      <td>1.579</td>\n",
       "      <td>1.596</td>\n",
       "      <td>1.683</td>\n",
       "      <td>1.741</td>\n",
       "      <td>2.178</td>\n",
       "    </tr>\n",
       "    <tr>\n",
       "      <th>47</th>\n",
       "      <td>Nov 27, 2019</td>\n",
       "      <td>1.626</td>\n",
       "      <td>1.617</td>\n",
       "      <td>1.627</td>\n",
       "      <td>1.718</td>\n",
       "      <td>1.767</td>\n",
       "      <td>2.189</td>\n",
       "    </tr>\n",
       "    <tr>\n",
       "      <th>48</th>\n",
       "      <td>Nov 28, 2019</td>\n",
       "      <td>1.628</td>\n",
       "      <td>1.622</td>\n",
       "      <td>1.636</td>\n",
       "      <td>1.723</td>\n",
       "      <td>1.778</td>\n",
       "      <td>2.201</td>\n",
       "    </tr>\n",
       "    <tr>\n",
       "      <th>49</th>\n",
       "      <td>Nov 29, 2019</td>\n",
       "      <td>1.612</td>\n",
       "      <td>1.609</td>\n",
       "      <td>1.624</td>\n",
       "      <td>1.729</td>\n",
       "      <td>1.774</td>\n",
       "      <td>2.203</td>\n",
       "    </tr>\n",
       "  </tbody>\n",
       "</table>\n",
       "</div>"
      ],
      "text/plain": [
       "            Date   2 Year Price  3 Year Price  5 Year Price  7 Year Price  \\\n",
       "45  Nov 25, 2019          1.611         1.595         1.607         1.692   \n",
       "46  Nov 26, 2019          1.590         1.579         1.596         1.683   \n",
       "47  Nov 27, 2019          1.626         1.617         1.627         1.718   \n",
       "48  Nov 28, 2019          1.628         1.622         1.636         1.723   \n",
       "49  Nov 29, 2019          1.612         1.609         1.624         1.729   \n",
       "\n",
       "    10 Year Price  30 Year Price  \n",
       "45          1.752          2.197  \n",
       "46          1.741          2.178  \n",
       "47          1.767          2.189  \n",
       "48          1.778          2.201  \n",
       "49          1.774          2.203  "
      ]
     },
     "execution_count": 9,
     "metadata": {},
     "output_type": "execute_result"
    }
   ],
   "source": [
    "treasury_df.tail()\n"
   ]
  },
  {
   "cell_type": "markdown",
   "metadata": {},
   "source": [
    "# 2. Data Processing"
   ]
  },
  {
   "cell_type": "markdown",
   "metadata": {},
   "source": [
    "We use adjusted close prices to calculate the daily returns. Adjusted close prices are the prices that already take into account stock split and dividends, which reflex more accurate the change of the prices."
   ]
  },
  {
   "cell_type": "code",
   "execution_count": 10,
   "metadata": {
    "pycharm": {
     "name": "#%%\n"
    }
   },
   "outputs": [
    {
     "data": {
      "text/html": [
       "<div>\n",
       "<style scoped>\n",
       "    .dataframe tbody tr th:only-of-type {\n",
       "        vertical-align: middle;\n",
       "    }\n",
       "\n",
       "    .dataframe tbody tr th {\n",
       "        vertical-align: top;\n",
       "    }\n",
       "\n",
       "    .dataframe thead th {\n",
       "        text-align: right;\n",
       "    }\n",
       "</style>\n",
       "<table border=\"1\" class=\"dataframe\">\n",
       "  <thead>\n",
       "    <tr style=\"text-align: right;\">\n",
       "      <th></th>\n",
       "      <th>Open</th>\n",
       "      <th>High_Value</th>\n",
       "      <th>Low_Value</th>\n",
       "      <th>Close</th>\n",
       "      <th>Volume</th>\n",
       "      <th>Adjusted_Price</th>\n",
       "      <th>Daily Return</th>\n",
       "    </tr>\n",
       "    <tr>\n",
       "      <th>Date</th>\n",
       "      <th></th>\n",
       "      <th></th>\n",
       "      <th></th>\n",
       "      <th></th>\n",
       "      <th></th>\n",
       "      <th></th>\n",
       "      <th></th>\n",
       "    </tr>\n",
       "  </thead>\n",
       "  <tbody>\n",
       "    <tr>\n",
       "      <th>2019-10-01</th>\n",
       "      <td>138.070007</td>\n",
       "      <td>140.190002</td>\n",
       "      <td>137.800003</td>\n",
       "      <td>139.630005</td>\n",
       "      <td>12476200</td>\n",
       "      <td>139.630005</td>\n",
       "      <td>NaN</td>\n",
       "    </tr>\n",
       "    <tr>\n",
       "      <th>2019-10-02</th>\n",
       "      <td>140.789993</td>\n",
       "      <td>141.880005</td>\n",
       "      <td>140.460007</td>\n",
       "      <td>141.259995</td>\n",
       "      <td>11914300</td>\n",
       "      <td>141.259995</td>\n",
       "      <td>0.011674</td>\n",
       "    </tr>\n",
       "    <tr>\n",
       "      <th>2019-10-03</th>\n",
       "      <td>141.360001</td>\n",
       "      <td>143.250000</td>\n",
       "      <td>141.289993</td>\n",
       "      <td>141.899994</td>\n",
       "      <td>12396100</td>\n",
       "      <td>141.899994</td>\n",
       "      <td>0.004531</td>\n",
       "    </tr>\n",
       "    <tr>\n",
       "      <th>2019-10-04</th>\n",
       "      <td>141.479996</td>\n",
       "      <td>142.309998</td>\n",
       "      <td>141.139999</td>\n",
       "      <td>141.899994</td>\n",
       "      <td>9651000</td>\n",
       "      <td>141.899994</td>\n",
       "      <td>0.000000</td>\n",
       "    </tr>\n",
       "    <tr>\n",
       "      <th>2019-10-07</th>\n",
       "      <td>141.160004</td>\n",
       "      <td>141.770004</td>\n",
       "      <td>140.240005</td>\n",
       "      <td>140.690002</td>\n",
       "      <td>6127200</td>\n",
       "      <td>140.690002</td>\n",
       "      <td>-0.008527</td>\n",
       "    </tr>\n",
       "  </tbody>\n",
       "</table>\n",
       "</div>"
      ],
      "text/plain": [
       "                  Open  High_Value   Low_Value       Close    Volume  \\\n",
       "Date                                                                   \n",
       "2019-10-01  138.070007  140.190002  137.800003  139.630005  12476200   \n",
       "2019-10-02  140.789993  141.880005  140.460007  141.259995  11914300   \n",
       "2019-10-03  141.360001  143.250000  141.289993  141.899994  12396100   \n",
       "2019-10-04  141.479996  142.309998  141.139999  141.899994   9651000   \n",
       "2019-10-07  141.160004  141.770004  140.240005  140.690002   6127200   \n",
       "\n",
       "            Adjusted_Price  Daily Return  \n",
       "Date                                      \n",
       "2019-10-01      139.630005           NaN  \n",
       "2019-10-02      141.259995      0.011674  \n",
       "2019-10-03      141.899994      0.004531  \n",
       "2019-10-04      141.899994      0.000000  \n",
       "2019-10-07      140.690002     -0.008527  "
      ]
     },
     "execution_count": 10,
     "metadata": {},
     "output_type": "execute_result"
    }
   ],
   "source": [
    "gold_df[\"Daily Return\"] = gold_df[\"Adjusted_Price\"].pct_change(1)\n",
    "gold_df.head()"
   ]
  },
  {
   "cell_type": "code",
   "execution_count": 11,
   "metadata": {
    "pycharm": {
     "name": "#%%\n"
    }
   },
   "outputs": [
    {
     "data": {
      "text/html": [
       "<div>\n",
       "<style scoped>\n",
       "    .dataframe tbody tr th:only-of-type {\n",
       "        vertical-align: middle;\n",
       "    }\n",
       "\n",
       "    .dataframe tbody tr th {\n",
       "        vertical-align: top;\n",
       "    }\n",
       "\n",
       "    .dataframe thead th {\n",
       "        text-align: right;\n",
       "    }\n",
       "</style>\n",
       "<table border=\"1\" class=\"dataframe\">\n",
       "  <thead>\n",
       "    <tr style=\"text-align: right;\">\n",
       "      <th></th>\n",
       "      <th>Open</th>\n",
       "      <th>High</th>\n",
       "      <th>Low</th>\n",
       "      <th>Close</th>\n",
       "      <th>Adj Close</th>\n",
       "      <th>Volume</th>\n",
       "      <th>Adjusted_Price</th>\n",
       "      <th>Daily Return</th>\n",
       "    </tr>\n",
       "    <tr>\n",
       "      <th>Date</th>\n",
       "      <th></th>\n",
       "      <th></th>\n",
       "      <th></th>\n",
       "      <th></th>\n",
       "      <th></th>\n",
       "      <th></th>\n",
       "      <th></th>\n",
       "      <th></th>\n",
       "    </tr>\n",
       "  </thead>\n",
       "  <tbody>\n",
       "    <tr>\n",
       "      <th>2019-10-01</th>\n",
       "      <td>32.980000</td>\n",
       "      <td>32.980000</td>\n",
       "      <td>32.740002</td>\n",
       "      <td>32.779999</td>\n",
       "      <td>32.603642</td>\n",
       "      <td>4870800</td>\n",
       "      <td>32.603642</td>\n",
       "      <td>NaN</td>\n",
       "    </tr>\n",
       "    <tr>\n",
       "      <th>2019-10-02</th>\n",
       "      <td>32.599998</td>\n",
       "      <td>32.700001</td>\n",
       "      <td>32.520000</td>\n",
       "      <td>32.639999</td>\n",
       "      <td>32.464397</td>\n",
       "      <td>3958600</td>\n",
       "      <td>32.464397</td>\n",
       "      <td>-0.004271</td>\n",
       "    </tr>\n",
       "    <tr>\n",
       "      <th>2019-10-03</th>\n",
       "      <td>32.799999</td>\n",
       "      <td>33.020000</td>\n",
       "      <td>32.790001</td>\n",
       "      <td>32.990002</td>\n",
       "      <td>32.812511</td>\n",
       "      <td>4543200</td>\n",
       "      <td>32.812511</td>\n",
       "      <td>0.010723</td>\n",
       "    </tr>\n",
       "    <tr>\n",
       "      <th>2019-10-04</th>\n",
       "      <td>32.689999</td>\n",
       "      <td>32.830002</td>\n",
       "      <td>32.599998</td>\n",
       "      <td>32.770000</td>\n",
       "      <td>32.593697</td>\n",
       "      <td>3193700</td>\n",
       "      <td>32.593697</td>\n",
       "      <td>-0.006669</td>\n",
       "    </tr>\n",
       "    <tr>\n",
       "      <th>2019-10-07</th>\n",
       "      <td>32.500000</td>\n",
       "      <td>32.560001</td>\n",
       "      <td>32.369999</td>\n",
       "      <td>32.389999</td>\n",
       "      <td>32.215740</td>\n",
       "      <td>4388000</td>\n",
       "      <td>32.215740</td>\n",
       "      <td>-0.011596</td>\n",
       "    </tr>\n",
       "  </tbody>\n",
       "</table>\n",
       "</div>"
      ],
      "text/plain": [
       "                 Open       High        Low      Close  Adj Close   Volume  \\\n",
       "Date                                                                         \n",
       "2019-10-01  32.980000  32.980000  32.740002  32.779999  32.603642  4870800   \n",
       "2019-10-02  32.599998  32.700001  32.520000  32.639999  32.464397  3958600   \n",
       "2019-10-03  32.799999  33.020000  32.790001  32.990002  32.812511  4543200   \n",
       "2019-10-04  32.689999  32.830002  32.599998  32.770000  32.593697  3193700   \n",
       "2019-10-07  32.500000  32.560001  32.369999  32.389999  32.215740  4388000   \n",
       "\n",
       "            Adjusted_Price  Daily Return  \n",
       "Date                                      \n",
       "2019-10-01       32.603642           NaN  \n",
       "2019-10-02       32.464397     -0.004271  \n",
       "2019-10-03       32.812511      0.010723  \n",
       "2019-10-04       32.593697     -0.006669  \n",
       "2019-10-07       32.215740     -0.011596  "
      ]
     },
     "execution_count": 11,
     "metadata": {},
     "output_type": "execute_result"
    }
   ],
   "source": [
    "india_df[\"Daily Return\"] = india_df[\"Adjusted_Price\"].pct_change(1)\n",
    "india_df.head()\n",
    "\n",
    "# 3. Data Summaries"
   ]
  },
  {
   "cell_type": "code",
   "execution_count": 12,
   "metadata": {},
   "outputs": [
    {
     "name": "stdout",
     "output_type": "stream",
     "text": [
      "Average October Yield is \n",
      " 2 Year Price    1.551385\n",
      "3 Year Price     1.527154\n",
      "5 Year Price     1.525115\n",
      "7 Year Price     1.614000\n",
      "10 Year Price    1.701423\n",
      "30 Year Price    2.187269\n",
      "dtype: float64\n",
      "\n",
      "Average November Yield is \n",
      " 2 Year Price    1.616750\n",
      "3 Year Price     1.618042\n",
      "5 Year Price     1.641167\n",
      "7 Year Price     1.736833\n",
      "10 Year Price    1.811625\n",
      "30 Year Price    2.276708\n",
      "dtype: float64\n",
      "Standard Deviation for October Yield is \n",
      " 2 Year Price    0.079354\n",
      "3 Year Price     0.094165\n",
      "5 Year Price     0.101524\n",
      "7 Year Price     0.098831\n",
      "10 Year Price    0.102293\n",
      "30 Year Price    0.101143\n",
      "dtype: float64\n",
      "Standard Deviation for November Yield is \n",
      " 2 Year Price    0.033516\n",
      "3 Year Price     0.044156\n",
      "5 Year Price     0.054878\n",
      "7 Year Price     0.062000\n",
      "10 Year Price    0.067403\n",
      "30 Year Price    0.079564\n",
      "dtype: float64\n"
     ]
    }
   ],
   "source": [
    "df_October = treasury_df[treasury_df['Date'].str.contains(\"Oct\")]\n",
    "df_November = treasury_df[treasury_df['Date'].str.contains(\"Nov\")]\n",
    "print(\"Average October Yield is \\n{}\\n\".format(np.mean(df_October)))\n",
    "print(\"Average November Yield is \\n{}\".format(np.mean(df_November)))\n",
    "print(\"Standard Deviation for October Yield is \\n{}\".format(np.std(df_October)))\n",
    "print(\"Standard Deviation for November Yield is \\n{}\".format(np.std(df_November)))"
   ]
  },
  {
   "cell_type": "code",
   "execution_count": 13,
   "metadata": {},
   "outputs": [],
   "source": [
    "gold_df[\"High minus low\"] = gold_df[\"High_Value\"] - gold_df[\"Low_Value\"]\n",
    "india_df[\"High minus low\"] = india_df[\"High\"] - india_df[\"Low\"]"
   ]
  },
  {
   "cell_type": "code",
   "execution_count": 14,
   "metadata": {},
   "outputs": [
    {
     "data": {
      "text/html": [
       "<div>\n",
       "<style scoped>\n",
       "    .dataframe tbody tr th:only-of-type {\n",
       "        vertical-align: middle;\n",
       "    }\n",
       "\n",
       "    .dataframe tbody tr th {\n",
       "        vertical-align: top;\n",
       "    }\n",
       "\n",
       "    .dataframe thead th {\n",
       "        text-align: right;\n",
       "    }\n",
       "</style>\n",
       "<table border=\"1\" class=\"dataframe\">\n",
       "  <thead>\n",
       "    <tr style=\"text-align: right;\">\n",
       "      <th></th>\n",
       "      <th>Open</th>\n",
       "      <th>High_Value</th>\n",
       "      <th>Low_Value</th>\n",
       "      <th>Close</th>\n",
       "      <th>Volume</th>\n",
       "      <th>Adjusted_Price</th>\n",
       "      <th>Daily Return</th>\n",
       "      <th>High minus low</th>\n",
       "    </tr>\n",
       "    <tr>\n",
       "      <th>Date</th>\n",
       "      <th></th>\n",
       "      <th></th>\n",
       "      <th></th>\n",
       "      <th></th>\n",
       "      <th></th>\n",
       "      <th></th>\n",
       "      <th></th>\n",
       "      <th></th>\n",
       "    </tr>\n",
       "  </thead>\n",
       "  <tbody>\n",
       "    <tr>\n",
       "      <th>2019-10-31</th>\n",
       "      <td>140.847391</td>\n",
       "      <td>141.384349</td>\n",
       "      <td>140.303043</td>\n",
       "      <td>140.874782</td>\n",
       "      <td>7.757287e+06</td>\n",
       "      <td>140.874782</td>\n",
       "      <td>0.000921</td>\n",
       "      <td>1.081305</td>\n",
       "    </tr>\n",
       "    <tr>\n",
       "      <th>2019-11-30</th>\n",
       "      <td>138.611500</td>\n",
       "      <td>139.056000</td>\n",
       "      <td>138.083502</td>\n",
       "      <td>138.570500</td>\n",
       "      <td>6.961465e+06</td>\n",
       "      <td>138.570500</td>\n",
       "      <td>-0.001611</td>\n",
       "      <td>0.972498</td>\n",
       "    </tr>\n",
       "  </tbody>\n",
       "</table>\n",
       "</div>"
      ],
      "text/plain": [
       "                  Open  High_Value   Low_Value       Close        Volume  \\\n",
       "Date                                                                       \n",
       "2019-10-31  140.847391  141.384349  140.303043  140.874782  7.757287e+06   \n",
       "2019-11-30  138.611500  139.056000  138.083502  138.570500  6.961465e+06   \n",
       "\n",
       "            Adjusted_Price  Daily Return  High minus low  \n",
       "Date                                                      \n",
       "2019-10-31      140.874782      0.000921        1.081305  \n",
       "2019-11-30      138.570500     -0.001611        0.972498  "
      ]
     },
     "execution_count": 14,
     "metadata": {},
     "output_type": "execute_result"
    }
   ],
   "source": [
    "gold_df.resample('M').mean()"
   ]
  },
  {
   "cell_type": "code",
   "execution_count": 15,
   "metadata": {
    "pycharm": {
     "name": "#%%\n"
    }
   },
   "outputs": [
    {
     "data": {
      "text/html": [
       "<div>\n",
       "<style scoped>\n",
       "    .dataframe tbody tr th:only-of-type {\n",
       "        vertical-align: middle;\n",
       "    }\n",
       "\n",
       "    .dataframe tbody tr th {\n",
       "        vertical-align: top;\n",
       "    }\n",
       "\n",
       "    .dataframe thead th {\n",
       "        text-align: right;\n",
       "    }\n",
       "</style>\n",
       "<table border=\"1\" class=\"dataframe\">\n",
       "  <thead>\n",
       "    <tr style=\"text-align: right;\">\n",
       "      <th></th>\n",
       "      <th>Open</th>\n",
       "      <th>High</th>\n",
       "      <th>Low</th>\n",
       "      <th>Close</th>\n",
       "      <th>Adj Close</th>\n",
       "      <th>Volume</th>\n",
       "      <th>Adjusted_Price</th>\n",
       "      <th>Daily Return</th>\n",
       "      <th>High minus low</th>\n",
       "    </tr>\n",
       "    <tr>\n",
       "      <th>Date</th>\n",
       "      <th></th>\n",
       "      <th></th>\n",
       "      <th></th>\n",
       "      <th></th>\n",
       "      <th></th>\n",
       "      <th></th>\n",
       "      <th></th>\n",
       "      <th></th>\n",
       "      <th></th>\n",
       "    </tr>\n",
       "  </thead>\n",
       "  <tbody>\n",
       "    <tr>\n",
       "      <th>2019-10-31</th>\n",
       "      <td>33.388696</td>\n",
       "      <td>33.499565</td>\n",
       "      <td>33.310435</td>\n",
       "      <td>33.418261</td>\n",
       "      <td>33.238471</td>\n",
       "      <td>4.098735e+06</td>\n",
       "      <td>33.238471</td>\n",
       "      <td>0.002553</td>\n",
       "      <td>0.18913</td>\n",
       "    </tr>\n",
       "    <tr>\n",
       "      <th>2019-11-30</th>\n",
       "      <td>34.529500</td>\n",
       "      <td>34.599500</td>\n",
       "      <td>34.435500</td>\n",
       "      <td>34.511500</td>\n",
       "      <td>34.325828</td>\n",
       "      <td>3.144340e+06</td>\n",
       "      <td>34.325828</td>\n",
       "      <td>-0.000238</td>\n",
       "      <td>0.16400</td>\n",
       "    </tr>\n",
       "  </tbody>\n",
       "</table>\n",
       "</div>"
      ],
      "text/plain": [
       "                 Open       High        Low      Close  Adj Close  \\\n",
       "Date                                                                \n",
       "2019-10-31  33.388696  33.499565  33.310435  33.418261  33.238471   \n",
       "2019-11-30  34.529500  34.599500  34.435500  34.511500  34.325828   \n",
       "\n",
       "                  Volume  Adjusted_Price  Daily Return  High minus low  \n",
       "Date                                                                    \n",
       "2019-10-31  4.098735e+06       33.238471      0.002553         0.18913  \n",
       "2019-11-30  3.144340e+06       34.325828     -0.000238         0.16400  "
      ]
     },
     "execution_count": 15,
     "metadata": {},
     "output_type": "execute_result"
    }
   ],
   "source": [
    "india_df.resample('M').mean()"
   ]
  },
  {
   "cell_type": "code",
   "execution_count": 16,
   "metadata": {
    "pycharm": {
     "name": "#%%\n"
    }
   },
   "outputs": [
    {
     "data": {
      "text/html": [
       "<div>\n",
       "<style scoped>\n",
       "    .dataframe tbody tr th:only-of-type {\n",
       "        vertical-align: middle;\n",
       "    }\n",
       "\n",
       "    .dataframe tbody tr th {\n",
       "        vertical-align: top;\n",
       "    }\n",
       "\n",
       "    .dataframe thead th {\n",
       "        text-align: right;\n",
       "    }\n",
       "</style>\n",
       "<table border=\"1\" class=\"dataframe\">\n",
       "  <thead>\n",
       "    <tr style=\"text-align: right;\">\n",
       "      <th></th>\n",
       "      <th>Open</th>\n",
       "      <th>High_Value</th>\n",
       "      <th>Low_Value</th>\n",
       "      <th>Close</th>\n",
       "      <th>Volume</th>\n",
       "      <th>Adjusted_Price</th>\n",
       "      <th>Daily Return</th>\n",
       "      <th>High minus low</th>\n",
       "    </tr>\n",
       "    <tr>\n",
       "      <th>Date</th>\n",
       "      <th></th>\n",
       "      <th></th>\n",
       "      <th></th>\n",
       "      <th></th>\n",
       "      <th></th>\n",
       "      <th></th>\n",
       "      <th></th>\n",
       "      <th></th>\n",
       "    </tr>\n",
       "  </thead>\n",
       "  <tbody>\n",
       "    <tr>\n",
       "      <th>2019-10-31</th>\n",
       "      <td>0.972620</td>\n",
       "      <td>0.929309</td>\n",
       "      <td>0.950674</td>\n",
       "      <td>0.831229</td>\n",
       "      <td>2.804293e+06</td>\n",
       "      <td>0.831229</td>\n",
       "      <td>0.006173</td>\n",
       "      <td>0.479405</td>\n",
       "    </tr>\n",
       "    <tr>\n",
       "      <th>2019-11-30</th>\n",
       "      <td>1.618235</td>\n",
       "      <td>1.588269</td>\n",
       "      <td>1.585444</td>\n",
       "      <td>1.562095</td>\n",
       "      <td>2.994154e+06</td>\n",
       "      <td>1.562095</td>\n",
       "      <td>0.006188</td>\n",
       "      <td>0.492552</td>\n",
       "    </tr>\n",
       "  </tbody>\n",
       "</table>\n",
       "</div>"
      ],
      "text/plain": [
       "                Open  High_Value  Low_Value     Close        Volume  \\\n",
       "Date                                                                  \n",
       "2019-10-31  0.972620    0.929309   0.950674  0.831229  2.804293e+06   \n",
       "2019-11-30  1.618235    1.588269   1.585444  1.562095  2.994154e+06   \n",
       "\n",
       "            Adjusted_Price  Daily Return  High minus low  \n",
       "Date                                                      \n",
       "2019-10-31        0.831229      0.006173        0.479405  \n",
       "2019-11-30        1.562095      0.006188        0.492552  "
      ]
     },
     "execution_count": 16,
     "metadata": {},
     "output_type": "execute_result"
    }
   ],
   "source": [
    "gold_df.resample('M').std()"
   ]
  },
  {
   "cell_type": "code",
   "execution_count": 17,
   "metadata": {
    "pycharm": {
     "name": "#%%\n"
    }
   },
   "outputs": [
    {
     "data": {
      "text/html": [
       "<div>\n",
       "<style scoped>\n",
       "    .dataframe tbody tr th:only-of-type {\n",
       "        vertical-align: middle;\n",
       "    }\n",
       "\n",
       "    .dataframe tbody tr th {\n",
       "        vertical-align: top;\n",
       "    }\n",
       "\n",
       "    .dataframe thead th {\n",
       "        text-align: right;\n",
       "    }\n",
       "</style>\n",
       "<table border=\"1\" class=\"dataframe\">\n",
       "  <thead>\n",
       "    <tr style=\"text-align: right;\">\n",
       "      <th></th>\n",
       "      <th>Open</th>\n",
       "      <th>High</th>\n",
       "      <th>Low</th>\n",
       "      <th>Close</th>\n",
       "      <th>Adj Close</th>\n",
       "      <th>Volume</th>\n",
       "      <th>Adjusted_Price</th>\n",
       "      <th>Daily Return</th>\n",
       "      <th>High minus low</th>\n",
       "    </tr>\n",
       "    <tr>\n",
       "      <th>Date</th>\n",
       "      <th></th>\n",
       "      <th></th>\n",
       "      <th></th>\n",
       "      <th></th>\n",
       "      <th></th>\n",
       "      <th></th>\n",
       "      <th></th>\n",
       "      <th></th>\n",
       "      <th></th>\n",
       "    </tr>\n",
       "  </thead>\n",
       "  <tbody>\n",
       "    <tr>\n",
       "      <th>2019-10-31</th>\n",
       "      <td>0.758380</td>\n",
       "      <td>0.762158</td>\n",
       "      <td>0.757181</td>\n",
       "      <td>0.771802</td>\n",
       "      <td>0.76765</td>\n",
       "      <td>1.185106e+06</td>\n",
       "      <td>0.76765</td>\n",
       "      <td>0.007731</td>\n",
       "      <td>0.061490</td>\n",
       "    </tr>\n",
       "    <tr>\n",
       "      <th>2019-11-30</th>\n",
       "      <td>0.386448</td>\n",
       "      <td>0.405430</td>\n",
       "      <td>0.380325</td>\n",
       "      <td>0.406517</td>\n",
       "      <td>0.40433</td>\n",
       "      <td>1.099814e+06</td>\n",
       "      <td>0.40433</td>\n",
       "      <td>0.008771</td>\n",
       "      <td>0.037332</td>\n",
       "    </tr>\n",
       "  </tbody>\n",
       "</table>\n",
       "</div>"
      ],
      "text/plain": [
       "                Open      High       Low     Close  Adj Close        Volume  \\\n",
       "Date                                                                          \n",
       "2019-10-31  0.758380  0.762158  0.757181  0.771802    0.76765  1.185106e+06   \n",
       "2019-11-30  0.386448  0.405430  0.380325  0.406517    0.40433  1.099814e+06   \n",
       "\n",
       "            Adjusted_Price  Daily Return  High minus low  \n",
       "Date                                                      \n",
       "2019-10-31         0.76765      0.007731        0.061490  \n",
       "2019-11-30         0.40433      0.008771        0.037332  "
      ]
     },
     "execution_count": 17,
     "metadata": {},
     "output_type": "execute_result"
    }
   ],
   "source": [
    "india_df.resample('M').std()"
   ]
  },
  {
   "cell_type": "markdown",
   "metadata": {
    "pycharm": {
     "name": "#%% md\n"
    }
   },
   "source": [
    "# 4. Graphing"
   ]
  },
  {
   "cell_type": "code",
   "execution_count": 18,
   "metadata": {},
   "outputs": [
    {
     "data": {
      "text/plain": [
       "<AxesSubplot:xlabel='Date'>"
      ]
     },
     "execution_count": 18,
     "metadata": {},
     "output_type": "execute_result"
    },
    {
     "data": {
      "image/png": "[encoded data removed]",
      "text/plain": [
       "<Figure size 720x360 with 1 Axes>"
      ]
     },
     "metadata": {
      "needs_background": "light"
     },
     "output_type": "display_data"
    }
   ],
   "source": [
    "treasury_df.set_index('Date').plot(figsize=(10,5), grid=True)"
   ]
  },
  {
   "cell_type": "code",
   "execution_count": 19,
   "metadata": {},
   "outputs": [
    {
     "data": {
      "image/png": "[encoded data removed]",
      "text/plain": [
       "<Figure size 864x360 with 2 Axes>"
      ]
     },
     "metadata": {
      "needs_background": "light"
     },
     "output_type": "display_data"
    }
   ],
   "source": [
    "plt.figure(figsize=(12,5))\n",
    "plt.title('The prices of SPDR and INDA in October and November 2019')\n",
    "\n",
    "ax1 = gold_df[\"Adjusted_Price\"].plot(color='blue', grid=True, label='Gold ETF (GLD)')\n",
    "ax2 = india_df[\"Adj Close\"].plot(color='red', grid=True, secondary_y=True, label='Equity ETF (INDA)')\n",
    "\n",
    "h1, l1 = ax1.get_legend_handles_labels()\n",
    "h2, l2 = ax2.get_legend_handles_labels()\n",
    "\n",
    "plt.legend(h1+h2, l1+l2, loc=2)\n",
    "plt.show()"
   ]
  },
  {
   "cell_type": "markdown",
   "metadata": {},
   "source": [
    "# 5. Fitting the yield curve"
   ]
  },
  {
   "cell_type": "code",
   "execution_count": 20,
   "metadata": {},
   "outputs": [
    {
     "name": "stdout",
     "output_type": "stream",
     "text": [
      "NelsonSiegelSvenssonCurve(beta0=2.6300567186024466, beta1=-0.6944401715451543, beta2=-1.3188222648949588, beta3=-2.018679134498531, tau1=1.628124693574661, tau2=5.1724710548474535)\n"
     ]
    },
    {
     "data": {
      "image/png": "[encoded data removed]",
      "text/plain": [
       "<Figure size 432x288 with 1 Axes>"
      ]
     },
     "metadata": {
      "needs_background": "light"
     },
     "output_type": "display_data"
    },
    {
     "name": "stdout",
     "output_type": "stream",
     "text": [
      "NelsonSiegelSvenssonCurve(beta0=5.52340563576597, beta1=-3.629031261789744, beta2=-3.39683420720158, beta3=-9.003197383508716, tau1=2.541013822140346, tau2=14.00058811425833)\n"
     ]
    },
    {
     "data": {
      "image/png": "[encoded data removed]",
      "text/plain": [
       "<Figure size 432x288 with 1 Axes>"
      ]
     },
     "metadata": {
      "needs_background": "light"
     },
     "output_type": "display_data"
    }
   ],
   "source": [
    "t =np.array([2.0,3.0,5.0,7.0,10.0,30.0])\n",
    "#avarage yield rate for October\n",
    "y = np.array([1.551,1.527,1.525,1.614,1.701,2.18])\n",
    "\n",
    "curve_fit, status = calibrate_nss_ols(t,y)\n",
    "nss_zc = NelsonSiegelSvenssonCurve.zero(curve_fit,t)\n",
    "nss_zc\n",
    "\n",
    "curve_oct, status = calibrate_nss_ols(t,nss_zc)\n",
    "assert status.success\n",
    "print(curve_oct)\n",
    "\n",
    "t = np.linspace(0,20,100)\n",
    "plt.plot(t,curve_oct(t))\n",
    "plt.show()\n",
    "\n",
    "#avarage yield rate for November\n",
    "t =np.array([2.0,3.0,5.0,7.0,10.0,30.0])\n",
    "y = np.array([1.616,1.618,1.641,1.736,1.811,2.276])\n",
    "\n",
    "curve_fit, status = calibrate_nss_ols(t,y)\n",
    "nss_zc = NelsonSiegelSvenssonCurve.zero(curve_fit,t)\n",
    "nss_zc\n",
    "\n",
    "curve_nov, status = calibrate_nss_ols(t,nss_zc)\n",
    "assert status.success\n",
    "print(curve_nov)\n",
    "\n",
    "t = np.linspace(0,20,100)\n",
    "plt.plot(t,curve_nov(t))\n",
    "plt.show()"
   ]
  },
  {
   "cell_type": "markdown",
   "metadata": {
    "pycharm": {
     "name": "#%% md\n"
    }
   },
   "source": [
    "# 6. Modelling Prices"
   ]
  },
  {
   "cell_type": "code",
   "execution_count": 21,
   "metadata": {},
   "outputs": [],
   "source": [
    "def get_data(df, month, column):\n",
    "    return df[(df.index >= f\"2019-{month:02d}-01\") & (df.index < f\"2019-{(month+1):02d}-01\")][column]"
   ]
  },
  {
   "cell_type": "code",
   "execution_count": 22,
   "metadata": {},
   "outputs": [],
   "source": [
    "def fit_arima(data):\n",
    "    model = ARIMA(data, order=(3,0,3))\n",
    "    model_fit = model.fit()\n",
    "    print(model_fit.summary())\n",
    "    residuals = pd.DataFrame(model_fit.resid)\n",
    "    ax1 = residuals.plot(label='residual')\n",
    "    plt.title(\"Residuals during the month\")\n",
    "    ax1.get_legend().remove()\n",
    "    plt.show()\n",
    "    ax2 = residuals.plot(kind='kde')\n",
    "    plt.title(\"Kernel density estimation of the residuals\")\n",
    "    ax2.get_legend().remove()\n",
    "    plt.show()"
   ]
  },
  {
   "cell_type": "code",
   "execution_count": 23,
   "metadata": {},
   "outputs": [
    {
     "name": "stdout",
     "output_type": "stream",
     "text": [
      "--------------------------------------------------------------------------------\n",
      "ARMA model for Gold ETF (GLD) in October\n"
     ]
    },
    {
     "name": "stderr",
     "output_type": "stream",
     "text": [
      "/Users/nguynha/.asdf/installs/python/3.8.6/lib/python3.8/site-packages/statsmodels/tsa/base/tsa_model.py:524: ValueWarning: No frequency information was provided, so inferred frequency B will be used.\n",
      "  warnings.warn('No frequency information was'\n",
      "/Users/nguynha/.asdf/installs/python/3.8.6/lib/python3.8/site-packages/statsmodels/tsa/base/tsa_model.py:524: ValueWarning: No frequency information was provided, so inferred frequency B will be used.\n",
      "  warnings.warn('No frequency information was'\n",
      "/Users/nguynha/.asdf/installs/python/3.8.6/lib/python3.8/site-packages/statsmodels/tsa/base/tsa_model.py:524: ValueWarning: No frequency information was provided, so inferred frequency B will be used.\n",
      "  warnings.warn('No frequency information was'\n",
      "/Users/nguynha/.asdf/installs/python/3.8.6/lib/python3.8/site-packages/statsmodels/tsa/statespace/sarimax.py:966: UserWarning: Non-stationary starting autoregressive parameters found. Using zeros as starting parameters.\n",
      "  warn('Non-stationary starting autoregressive parameters'\n",
      "/Users/nguynha/.asdf/installs/python/3.8.6/lib/python3.8/site-packages/statsmodels/tsa/statespace/sarimax.py:978: UserWarning: Non-invertible starting MA parameters found. Using zeros as starting parameters.\n",
      "  warn('Non-invertible starting MA parameters found.'\n",
      "/Users/nguynha/.asdf/installs/python/3.8.6/lib/python3.8/site-packages/statsmodels/base/model.py:566: ConvergenceWarning: Maximum Likelihood optimization failed to converge. Check mle_retvals\n",
      "  warnings.warn(\"Maximum Likelihood optimization failed to \"\n"
     ]
    },
    {
     "name": "stdout",
     "output_type": "stream",
     "text": [
      "                               SARIMAX Results                                \n",
      "==============================================================================\n",
      "Dep. Variable:         Adjusted_Price   No. Observations:                   23\n",
      "Model:                 ARIMA(3, 0, 3)   Log Likelihood                 -21.992\n",
      "Date:                Mon, 28 Jun 2021   AIC                             59.985\n",
      "Time:                        08:58:26   BIC                             69.069\n",
      "Sample:                    10-01-2019   HQIC                            62.269\n",
      "                         - 10-31-2019                                         \n",
      "Covariance Type:                  opg                                         \n",
      "==============================================================================\n",
      "                 coef    std err          z      P>|z|      [0.025      0.975]\n",
      "------------------------------------------------------------------------------\n",
      "const        140.8067      0.109   1290.208      0.000     140.593     141.021\n",
      "ar.L1          0.0995      0.407      0.245      0.807      -0.698       0.897\n",
      "ar.L2          0.4517      0.387      1.168      0.243      -0.306       1.210\n",
      "ar.L3         -0.0435      0.533     -0.082      0.935      -1.087       1.000\n",
      "ma.L1          0.6432     48.230      0.013      0.989     -93.885      95.172\n",
      "ma.L2         -0.6501     79.057     -0.008      0.993    -155.600     154.300\n",
      "ma.L3         -0.9907     48.168     -0.021      0.984     -95.398      93.417\n",
      "sigma2         0.3061     14.797      0.021      0.983     -28.695      29.307\n",
      "===================================================================================\n",
      "Ljung-Box (L1) (Q):                   0.11   Jarque-Bera (JB):                 0.98\n",
      "Prob(Q):                              0.74   Prob(JB):                         0.61\n",
      "Heteroskedasticity (H):               0.60   Skew:                             0.00\n",
      "Prob(H) (two-sided):                  0.49   Kurtosis:                         1.99\n",
      "===================================================================================\n",
      "\n",
      "Warnings:\n",
      "[1] Covariance matrix calculated using the outer product of gradients (complex-step).\n"
     ]
    },
    {
     "data": {
      "image/png": "[encoded data removed]",
      "text/plain": [
       "<Figure size 432x288 with 1 Axes>"
      ]
     },
     "metadata": {
      "needs_background": "light"
     },
     "output_type": "display_data"
    },
    {
     "data": {
      "image/png": "[encoded data removed]",
      "text/plain": [
       "<Figure size 432x288 with 1 Axes>"
      ]
     },
     "metadata": {
      "needs_background": "light"
     },
     "output_type": "display_data"
    },
    {
     "name": "stdout",
     "output_type": "stream",
     "text": [
      "--------------------------------------------------------------------------------\n",
      "ARMA model for Gold ETF (GLD) in November\n",
      "                               SARIMAX Results                                \n",
      "==============================================================================\n",
      "Dep. Variable:         Adjusted_Price   No. Observations:                   20\n",
      "Model:                 ARIMA(3, 0, 3)   Log Likelihood                 -22.205\n",
      "Date:                Mon, 28 Jun 2021   AIC                             60.409\n",
      "Time:                        08:58:26   BIC                             68.375\n",
      "Sample:                             0   HQIC                            61.964\n",
      "                                 - 20                                         \n",
      "Covariance Type:                  opg                                         \n",
      "==============================================================================\n",
      "                 coef    std err          z      P>|z|      [0.025      0.975]\n",
      "------------------------------------------------------------------------------\n",
      "const        138.8145      0.871    159.316      0.000     137.107     140.522\n",
      "ar.L1          0.7245      0.352      2.060      0.039       0.035       1.414\n",
      "ar.L2          0.8184      0.470      1.740      0.082      -0.103       1.740\n",
      "ar.L3         -0.9038      0.230     -3.929      0.000      -1.355      -0.453\n",
      "ma.L1         -0.0451      3.010     -0.015      0.988      -5.945       5.855\n",
      "ma.L2         -0.3232      3.085     -0.105      0.917      -6.370       5.724\n",
      "ma.L3          0.6842      2.376      0.288      0.773      -3.972       5.340\n",
      "sigma2         0.4106      1.009      0.407      0.684      -1.566       2.388\n",
      "===================================================================================\n",
      "Ljung-Box (L1) (Q):                   0.00   Jarque-Bera (JB):                 0.47\n",
      "Prob(Q):                              1.00   Prob(JB):                         0.79\n",
      "Heteroskedasticity (H):               0.17   Skew:                             0.36\n",
      "Prob(H) (two-sided):                  0.03   Kurtosis:                         2.81\n",
      "===================================================================================\n",
      "\n",
      "Warnings:\n",
      "[1] Covariance matrix calculated using the outer product of gradients (complex-step).\n"
     ]
    },
    {
     "name": "stderr",
     "output_type": "stream",
     "text": [
      "/Users/nguynha/.asdf/installs/python/3.8.6/lib/python3.8/site-packages/statsmodels/tsa/base/tsa_model.py:581: ValueWarning: A date index has been provided, but it has no associated frequency information and so will be ignored when e.g. forecasting.\n",
      "  warnings.warn('A date index has been provided, but it has no'\n",
      "/Users/nguynha/.asdf/installs/python/3.8.6/lib/python3.8/site-packages/statsmodels/tsa/base/tsa_model.py:581: ValueWarning: A date index has been provided, but it has no associated frequency information and so will be ignored when e.g. forecasting.\n",
      "  warnings.warn('A date index has been provided, but it has no'\n",
      "/Users/nguynha/.asdf/installs/python/3.8.6/lib/python3.8/site-packages/statsmodels/tsa/base/tsa_model.py:581: ValueWarning: A date index has been provided, but it has no associated frequency information and so will be ignored when e.g. forecasting.\n",
      "  warnings.warn('A date index has been provided, but it has no'\n",
      "/Users/nguynha/.asdf/installs/python/3.8.6/lib/python3.8/site-packages/statsmodels/tsa/statespace/sarimax.py:966: UserWarning: Non-stationary starting autoregressive parameters found. Using zeros as starting parameters.\n",
      "  warn('Non-stationary starting autoregressive parameters'\n",
      "/Users/nguynha/.asdf/installs/python/3.8.6/lib/python3.8/site-packages/statsmodels/tsa/statespace/sarimax.py:978: UserWarning: Non-invertible starting MA parameters found. Using zeros as starting parameters.\n",
      "  warn('Non-invertible starting MA parameters found.'\n",
      "/Users/nguynha/.asdf/installs/python/3.8.6/lib/python3.8/site-packages/statsmodels/base/model.py:566: ConvergenceWarning: Maximum Likelihood optimization failed to converge. Check mle_retvals\n",
      "  warnings.warn(\"Maximum Likelihood optimization failed to \"\n"
     ]
    },
    {
     "data": {
      "image/png": "[encoded data removed]",
      "text/plain": [
       "<Figure size 432x288 with 1 Axes>"
      ]
     },
     "metadata": {
      "needs_background": "light"
     },
     "output_type": "display_data"
    },
    {
     "data": {
      "image/png": "[encoded data removed]",
      "text/plain": [
       "<Figure size 432x288 with 1 Axes>"
      ]
     },
     "metadata": {
      "needs_background": "light"
     },
     "output_type": "display_data"
    },
    {
     "name": "stdout",
     "output_type": "stream",
     "text": [
      "--------------------------------------------------------------------------------\n",
      "ARMA model for Equity ETF (INDA) in October\n",
      "                               SARIMAX Results                                \n",
      "==============================================================================\n",
      "Dep. Variable:         Adjusted_Price   No. Observations:                   23\n",
      "Model:                 ARIMA(3, 0, 3)   Log Likelihood                  -1.241\n",
      "Date:                Mon, 28 Jun 2021   AIC                             18.481\n",
      "Time:                        08:58:27   BIC                             27.565\n",
      "Sample:                    10-01-2019   HQIC                            20.766\n",
      "                         - 10-31-2019                                         \n",
      "Covariance Type:                  opg                                         \n",
      "==============================================================================\n",
      "                 coef    std err          z      P>|z|      [0.025      0.975]\n",
      "------------------------------------------------------------------------------\n",
      "const         33.4148      0.671     49.797      0.000      32.100      34.730\n",
      "ar.L1          0.2376      1.020      0.233      0.816      -1.761       2.236\n",
      "ar.L2          0.0863      0.525      0.164      0.869      -0.943       1.115\n",
      "ar.L3          0.5160      0.658      0.784      0.433      -0.774       1.806\n",
      "ma.L1          0.9949     12.132      0.082      0.935     -22.783      24.773\n",
      "ma.L2          1.0034     23.904      0.042      0.967     -45.848      47.854\n",
      "ma.L3          0.0072      0.782      0.009      0.993      -1.525       1.539\n",
      "sigma2         0.0517      1.189      0.044      0.965      -2.278       2.381\n",
      "===================================================================================\n",
      "Ljung-Box (L1) (Q):                   0.01   Jarque-Bera (JB):                 1.90\n",
      "Prob(Q):                              0.91   Prob(JB):                         0.39\n",
      "Heteroskedasticity (H):               0.85   Skew:                            -0.22\n",
      "Prob(H) (two-sided):                  0.82   Kurtosis:                         1.66\n",
      "===================================================================================\n",
      "\n",
      "Warnings:\n",
      "[1] Covariance matrix calculated using the outer product of gradients (complex-step).\n"
     ]
    },
    {
     "name": "stderr",
     "output_type": "stream",
     "text": [
      "/Users/nguynha/.asdf/installs/python/3.8.6/lib/python3.8/site-packages/statsmodels/tsa/base/tsa_model.py:524: ValueWarning: No frequency information was provided, so inferred frequency B will be used.\n",
      "  warnings.warn('No frequency information was'\n",
      "/Users/nguynha/.asdf/installs/python/3.8.6/lib/python3.8/site-packages/statsmodels/tsa/base/tsa_model.py:524: ValueWarning: No frequency information was provided, so inferred frequency B will be used.\n",
      "  warnings.warn('No frequency information was'\n",
      "/Users/nguynha/.asdf/installs/python/3.8.6/lib/python3.8/site-packages/statsmodels/tsa/base/tsa_model.py:524: ValueWarning: No frequency information was provided, so inferred frequency B will be used.\n",
      "  warnings.warn('No frequency information was'\n",
      "/Users/nguynha/.asdf/installs/python/3.8.6/lib/python3.8/site-packages/statsmodels/tsa/statespace/sarimax.py:966: UserWarning: Non-stationary starting autoregressive parameters found. Using zeros as starting parameters.\n",
      "  warn('Non-stationary starting autoregressive parameters'\n",
      "/Users/nguynha/.asdf/installs/python/3.8.6/lib/python3.8/site-packages/statsmodels/tsa/statespace/sarimax.py:978: UserWarning: Non-invertible starting MA parameters found. Using zeros as starting parameters.\n",
      "  warn('Non-invertible starting MA parameters found.'\n",
      "/Users/nguynha/.asdf/installs/python/3.8.6/lib/python3.8/site-packages/statsmodels/base/model.py:566: ConvergenceWarning: Maximum Likelihood optimization failed to converge. Check mle_retvals\n",
      "  warnings.warn(\"Maximum Likelihood optimization failed to \"\n"
     ]
    },
    {
     "data": {
      "image/png": "[encoded data removed]",
      "text/plain": [
       "<Figure size 432x288 with 1 Axes>"
      ]
     },
     "metadata": {
      "needs_background": "light"
     },
     "output_type": "display_data"
    },
    {
     "data": {
      "image/png": "[encoded data removed]",
      "text/plain": [
       "<Figure size 432x288 with 1 Axes>"
      ]
     },
     "metadata": {
      "needs_background": "light"
     },
     "output_type": "display_data"
    },
    {
     "name": "stdout",
     "output_type": "stream",
     "text": [
      "--------------------------------------------------------------------------------\n",
      "ARMA model for Equity ETF (INDA) in November\n",
      "                               SARIMAX Results                                \n",
      "==============================================================================\n",
      "Dep. Variable:         Adjusted_Price   No. Observations:                   20\n",
      "Model:                 ARIMA(3, 0, 3)   Log Likelihood                   1.945\n",
      "Date:                Mon, 28 Jun 2021   AIC                             12.111\n",
      "Time:                        08:58:27   BIC                             20.076\n",
      "Sample:                             0   HQIC                            13.666\n",
      "                                 - 20                                         \n",
      "Covariance Type:                  opg                                         \n",
      "==============================================================================\n",
      "                 coef    std err          z      P>|z|      [0.025      0.975]\n",
      "------------------------------------------------------------------------------\n",
      "const         34.2549      0.065    529.631      0.000      34.128      34.382\n",
      "ar.L1          0.8550      0.345      2.475      0.013       0.178       1.532\n",
      "ar.L2          0.8603      0.552      1.558      0.119      -0.222       1.943\n",
      "ar.L3         -0.9851      0.300     -3.288      0.001      -1.572      -0.398\n",
      "ma.L1         -0.9940     36.819     -0.027      0.978     -73.159      71.171\n",
      "ma.L2         -0.9333      2.853     -0.327      0.744      -6.526       4.659\n",
      "ma.L3          0.9674     36.622      0.026      0.979     -70.810      72.745\n",
      "sigma2         0.0293      1.117      0.026      0.979      -2.161       2.220\n",
      "===================================================================================\n",
      "Ljung-Box (L1) (Q):                   0.14   Jarque-Bera (JB):                 1.80\n",
      "Prob(Q):                              0.71   Prob(JB):                         0.41\n",
      "Heteroskedasticity (H):               1.93   Skew:                            -0.71\n",
      "Prob(H) (two-sided):                  0.41   Kurtosis:                         2.63\n",
      "===================================================================================\n",
      "\n",
      "Warnings:\n",
      "[1] Covariance matrix calculated using the outer product of gradients (complex-step).\n"
     ]
    },
    {
     "name": "stderr",
     "output_type": "stream",
     "text": [
      "/Users/nguynha/.asdf/installs/python/3.8.6/lib/python3.8/site-packages/statsmodels/tsa/base/tsa_model.py:581: ValueWarning: A date index has been provided, but it has no associated frequency information and so will be ignored when e.g. forecasting.\n",
      "  warnings.warn('A date index has been provided, but it has no'\n",
      "/Users/nguynha/.asdf/installs/python/3.8.6/lib/python3.8/site-packages/statsmodels/tsa/base/tsa_model.py:581: ValueWarning: A date index has been provided, but it has no associated frequency information and so will be ignored when e.g. forecasting.\n",
      "  warnings.warn('A date index has been provided, but it has no'\n",
      "/Users/nguynha/.asdf/installs/python/3.8.6/lib/python3.8/site-packages/statsmodels/tsa/base/tsa_model.py:581: ValueWarning: A date index has been provided, but it has no associated frequency information and so will be ignored when e.g. forecasting.\n",
      "  warnings.warn('A date index has been provided, but it has no'\n",
      "/Users/nguynha/.asdf/installs/python/3.8.6/lib/python3.8/site-packages/statsmodels/tsa/statespace/sarimax.py:966: UserWarning: Non-stationary starting autoregressive parameters found. Using zeros as starting parameters.\n",
      "  warn('Non-stationary starting autoregressive parameters'\n",
      "/Users/nguynha/.asdf/installs/python/3.8.6/lib/python3.8/site-packages/statsmodels/tsa/statespace/sarimax.py:978: UserWarning: Non-invertible starting MA parameters found. Using zeros as starting parameters.\n",
      "  warn('Non-invertible starting MA parameters found.'\n",
      "/Users/nguynha/.asdf/installs/python/3.8.6/lib/python3.8/site-packages/statsmodels/base/model.py:566: ConvergenceWarning: Maximum Likelihood optimization failed to converge. Check mle_retvals\n",
      "  warnings.warn(\"Maximum Likelihood optimization failed to \"\n"
     ]
    },
    {
     "data": {
      "image/png": "[encoded data removed]",
      "text/plain": [
       "<Figure size 432x288 with 1 Axes>"
      ]
     },
     "metadata": {
      "needs_background": "light"
     },
     "output_type": "display_data"
    },
    {
     "data": {
      "image/png": "[encoded data removed]",
      "text/plain": [
       "<Figure size 432x288 with 1 Axes>"
      ]
     },
     "metadata": {
      "needs_background": "light"
     },
     "output_type": "display_data"
    }
   ],
   "source": [
    "df_name = {0: \"Gold ETF (GLD)\", 1: \"Equity ETF (INDA)\"}\n",
    "month_name = {10: \"October\", 11: \"November\"}\n",
    "for index, df in enumerate([gold_df, india_df]):\n",
    "    for month in [10, 11]:\n",
    "        print(\"-\" * 78)\n",
    "        print('ARMA model for {} in {}'.format(df_name[index], month_name[month]))\n",
    "        data = get_data(df, month, \"Adjusted_Price\")\n",
    "        fit_arima(data)"
   ]
  },
  {
   "cell_type": "markdown",
   "metadata": {
    "pycharm": {
     "name": "#%% md\n"
    }
   },
   "source": [
    "# 7. Modelling Volatility"
   ]
  },
  {
   "cell_type": "code",
   "execution_count": 24,
   "metadata": {},
   "outputs": [],
   "source": [
    "def fit_garch(data):\n",
    "    garch = arch.arch_model(data, vol='garch', p=1, o=0, q=1)\n",
    "    garch_fitted = garch.fit()\n",
    "    print(garch_fitted.summary())"
   ]
  },
  {
   "cell_type": "code",
   "execution_count": 25,
   "metadata": {},
   "outputs": [
    {
     "name": "stdout",
     "output_type": "stream",
     "text": [
      "--------\n",
      "--------\n",
      "--------\n",
      "GARCH model for Gold ETF (GLD) in October\n",
      "Iteration:      1,   Func. Count:      6,   Neg. LLF: 2211987.449503363\n",
      "Iteration:      2,   Func. Count:     16,   Neg. LLF: -81.257589920448\n",
      "Optimization terminated successfully    (Exit mode 0)\n",
      "            Current function value: -81.25758995275967\n",
      "            Iterations: 6\n",
      "            Function evaluations: 16\n",
      "            Gradient evaluations: 2\n",
      "                     Constant Mean - GARCH Model Results                      \n",
      "==============================================================================\n",
      "Dep. Variable:           Daily Return   R-squared:                       0.000\n",
      "Mean Model:             Constant Mean   Adj. R-squared:                  0.000\n",
      "Vol Model:                      GARCH   Log-Likelihood:                81.2576\n",
      "Distribution:                  Normal   AIC:                          -154.515\n",
      "Method:            Maximum Likelihood   BIC:                          -150.151\n",
      "                                        No. Observations:                   22\n",
      "Date:                Mon, Jun 28 2021   Df Residuals:                       21\n",
      "Time:                        08:58:28   Df Model:                            1\n",
      "                                  Mean Model                                 \n",
      "=============================================================================\n",
      "                 coef    std err          t      P>|t|       95.0% Conf. Int.\n",
      "-----------------------------------------------------------------------------\n",
      "mu         8.7955e-04  1.323e-03      0.665      0.506 [-1.714e-03,3.473e-03]\n",
      "                               Volatility Model                              \n",
      "=============================================================================\n",
      "                 coef    std err          t      P>|t|       95.0% Conf. Int.\n",
      "-----------------------------------------------------------------------------\n",
      "omega      1.0914e-05  5.820e-10  1.875e+04      0.000  [1.091e-05,1.092e-05]\n",
      "alpha[1]   1.0000e-02  1.941e-02      0.515      0.606 [-2.805e-02,4.805e-02]\n",
      "beta[1]        0.6900  7.299e-02      9.454  3.273e-21      [  0.547,  0.833]\n",
      "=============================================================================\n",
      "\n",
      "Covariance estimator: robust\n",
      "--------\n",
      "--------\n",
      "--------\n",
      "GARCH model for Gold ETF (GLD) in November\n",
      "Iteration:      1,   Func. Count:      6,   Neg. LLF: 12684817.542295108\n",
      "Iteration:      2,   Func. Count:     16,   Neg. LLF: -73.97790009442136\n",
      "Optimization terminated successfully    (Exit mode 0)\n",
      "            Current function value: -73.9779001217992\n",
      "            Iterations: 6\n",
      "            Function evaluations: 16\n",
      "            Gradient evaluations: 2\n",
      "                     Constant Mean - GARCH Model Results                      \n",
      "==============================================================================\n",
      "Dep. Variable:           Daily Return   R-squared:                       0.000\n",
      "Mean Model:             Constant Mean   Adj. R-squared:                  0.000\n",
      "Vol Model:                      GARCH   Log-Likelihood:                73.9779\n",
      "Distribution:                  Normal   AIC:                          -139.956\n",
      "Method:            Maximum Likelihood   BIC:                          -135.973\n",
      "                                        No. Observations:                   20\n",
      "Date:                Mon, Jun 28 2021   Df Residuals:                       19\n",
      "Time:                        08:58:28   Df Model:                            1\n",
      "                                   Mean Model                                  \n",
      "===============================================================================\n",
      "                  coef    std err          t      P>|t|        95.0% Conf. Int.\n",
      "-------------------------------------------------------------------------------\n",
      "mu         -1.4838e-03  7.497e-07  -1979.293      0.000 [-1.485e-03,-1.482e-03]\n",
      "                              Volatility Model                              \n",
      "============================================================================\n",
      "                 coef    std err          t      P>|t|      95.0% Conf. Int.\n",
      "----------------------------------------------------------------------------\n",
      "omega      1.0913e-05  4.658e-11  2.343e+05      0.000 [1.091e-05,1.091e-05]\n",
      "alpha[1]       0.0500      0.274      0.183      0.855     [ -0.487,  0.587]\n",
      "beta[1]        0.6500      0.237      2.741  6.122e-03     [  0.185,  1.115]\n",
      "============================================================================\n",
      "\n",
      "Covariance estimator: robust\n",
      "--------\n",
      "--------\n",
      "--------\n",
      "GARCH model for Equity ETF (INDA) in October\n",
      "Iteration:      1,   Func. Count:      6,   Neg. LLF: 206586142.90232536\n",
      "Iteration:      2,   Func. Count:     17,   Neg. LLF: 8.947550562373781\n",
      "Iteration:      3,   Func. Count:     24,   Neg. LLF: -73.49557657461533\n",
      "Iteration:      4,   Func. Count:     30,   Neg. LLF: -76.36940371822519\n",
      "Iteration:      5,   Func. Count:     36,   Neg. LLF: -76.271144873251\n",
      "Iteration:      6,   Func. Count:     42,   Neg. LLF: -75.32491518226108\n",
      "Optimization terminated successfully    (Exit mode 0)\n",
      "            Current function value: -76.38431653076285\n",
      "            Iterations: 6\n",
      "            Function evaluations: 45\n",
      "            Gradient evaluations: 6\n",
      "                     Constant Mean - GARCH Model Results                      \n",
      "==============================================================================\n",
      "Dep. Variable:           Daily Return   R-squared:                       0.000\n",
      "Mean Model:             Constant Mean   Adj. R-squared:                  0.000\n",
      "Vol Model:                      GARCH   Log-Likelihood:                76.3843\n",
      "Distribution:                  Normal   AIC:                          -144.769\n",
      "Method:            Maximum Likelihood   BIC:                          -140.404\n",
      "                                        No. Observations:                   22\n",
      "Date:                Mon, Jun 28 2021   Df Residuals:                       21\n",
      "Time:                        08:58:28   Df Model:                            1\n",
      "                                  Mean Model                                 \n",
      "=============================================================================\n",
      "                 coef    std err          t      P>|t|       95.0% Conf. Int.\n",
      "-----------------------------------------------------------------------------\n",
      "mu         2.9006e-03  1.553e-03      1.868  6.173e-02 [-1.424e-04,5.944e-03]\n",
      "                              Volatility Model                              \n",
      "============================================================================\n",
      "                 coef    std err          t      P>|t|      95.0% Conf. Int.\n",
      "----------------------------------------------------------------------------\n",
      "omega      3.4713e-05  2.471e-06     14.046  8.186e-45 [2.987e-05,3.956e-05]\n",
      "alpha[1]       0.1662      0.199      0.833      0.405     [ -0.225,  0.557]\n",
      "beta[1]        0.2270      0.183      1.243      0.214     [ -0.131,  0.585]\n",
      "============================================================================\n",
      "\n",
      "Covariance estimator: robust\n",
      "--------\n",
      "--------\n",
      "--------\n",
      "GARCH model for Equity ETF (INDA) in November\n",
      "Iteration:      1,   Func. Count:      6,   Neg. LLF: 1385381.7027312918\n",
      "Iteration:      2,   Func. Count:     17,   Neg. LLF: 134145.05010772694\n",
      "Iteration:      3,   Func. Count:     27,   Neg. LLF: 42494.75023811098\n",
      "Iteration:      4,   Func. Count:     37,   Neg. LLF: 9773.602544589126\n",
      "Iteration:      5,   Func. Count:     47,   Neg. LLF: 99203509.26760912\n",
      "Iteration:      6,   Func. Count:     58,   Neg. LLF: 459117.0215573593\n",
      "Optimization terminated successfully    (Exit mode 0)\n",
      "            Current function value: -66.87030664244828\n",
      "            Iterations: 7\n",
      "            Function evaluations: 65\n",
      "            Gradient evaluations: 6\n",
      "                     Constant Mean - GARCH Model Results                      \n",
      "==============================================================================\n",
      "Dep. Variable:           Daily Return   R-squared:                       0.000\n",
      "Mean Model:             Constant Mean   Adj. R-squared:                  0.000\n",
      "Vol Model:                      GARCH   Log-Likelihood:                66.8703\n",
      "Distribution:                  Normal   AIC:                          -125.741\n",
      "Method:            Maximum Likelihood   BIC:                          -121.758\n",
      "                                        No. Observations:                   20\n",
      "Date:                Mon, Jun 28 2021   Df Residuals:                       19\n",
      "Time:                        08:58:28   Df Model:                            1\n",
      "                                   Mean Model                                  \n",
      "===============================================================================\n",
      "                  coef    std err          t      P>|t|        95.0% Conf. Int.\n",
      "-------------------------------------------------------------------------------\n",
      "mu         -2.2812e-04  9.429e-07   -241.932      0.000 [-2.300e-04,-2.263e-04]\n",
      "                              Volatility Model                              \n",
      "============================================================================\n",
      "                 coef    std err          t      P>|t|      95.0% Conf. Int.\n",
      "----------------------------------------------------------------------------\n",
      "omega      7.3498e-06  3.870e-11  1.899e+05      0.000 [7.350e-06,7.350e-06]\n",
      "alpha[1]   9.9996e-03      0.269  3.719e-02      0.970     [ -0.517,  0.537]\n",
      "beta[1]        0.8900      0.274      3.245  1.176e-03     [  0.352,  1.428]\n",
      "============================================================================\n",
      "\n",
      "Covariance estimator: robust\n"
     ]
    },
    {
     "name": "stderr",
     "output_type": "stream",
     "text": [
      "/Users/nguynha/.asdf/installs/python/3.8.6/lib/python3.8/site-packages/arch/univariate/base.py:316: DataScaleWarning: y is poorly scaled, which may affect convergence of the optimizer when\n",
      "estimating the model parameters. The scale of y is 3.638e-05. Parameter\n",
      "estimation work better when this value is between 1 and 1000. The recommended\n",
      "rescaling is 100 * y.\n",
      "\n",
      "This warning can be disabled by either rescaling y before initializing the\n",
      "model or by setting rescale=False.\n",
      "\n",
      "  warnings.warn(\n",
      "/Users/nguynha/.asdf/installs/python/3.8.6/lib/python3.8/site-packages/arch/univariate/base.py:316: DataScaleWarning: y is poorly scaled, which may affect convergence of the optimizer when\n",
      "estimating the model parameters. The scale of y is 3.638e-05. Parameter\n",
      "estimation work better when this value is between 1 and 1000. The recommended\n",
      "rescaling is 100 * y.\n",
      "\n",
      "This warning can be disabled by either rescaling y before initializing the\n",
      "model or by setting rescale=False.\n",
      "\n",
      "  warnings.warn(\n",
      "/Users/nguynha/.asdf/installs/python/3.8.6/lib/python3.8/site-packages/arch/univariate/base.py:316: DataScaleWarning: y is poorly scaled, which may affect convergence of the optimizer when\n",
      "estimating the model parameters. The scale of y is 5.704e-05. Parameter\n",
      "estimation work better when this value is between 1 and 1000. The recommended\n",
      "rescaling is 100 * y.\n",
      "\n",
      "This warning can be disabled by either rescaling y before initializing the\n",
      "model or by setting rescale=False.\n",
      "\n",
      "  warnings.warn(\n",
      "/Users/nguynha/.asdf/installs/python/3.8.6/lib/python3.8/site-packages/arch/univariate/base.py:316: DataScaleWarning: y is poorly scaled, which may affect convergence of the optimizer when\n",
      "estimating the model parameters. The scale of y is 7.308e-05. Parameter\n",
      "estimation work better when this value is between 1 and 1000. The recommended\n",
      "rescaling is 100 * y.\n",
      "\n",
      "This warning can be disabled by either rescaling y before initializing the\n",
      "model or by setting rescale=False.\n",
      "\n",
      "  warnings.warn(\n"
     ]
    }
   ],
   "source": [
    "for index, df in enumerate([gold_df, india_df]):\n",
    "    for month in [10, 11]:\n",
    "        print(\"-\" * 8)\n",
    "        print(\"-\" * 8)\n",
    "        print(\"-\" * 8)\n",
    "        print(f\"GARCH model for {df_name[index]} in {month_name[month]}\")\n",
    "        data = get_data(df, month, \"Daily Return\")\n",
    "        data = data.dropna()\n",
    "        fit_garch(data)"
   ]
  },
  {
   "cell_type": "markdown",
   "metadata": {
    "pycharm": {
     "name": "#%% md\n"
    }
   },
   "source": [
    "# 8. Correlation"
   ]
  },
  {
   "cell_type": "code",
   "execution_count": 26,
   "metadata": {},
   "outputs": [],
   "source": [
    "#October correlation"
   ]
  },
  {
   "cell_type": "code",
   "execution_count": 27,
   "metadata": {},
   "outputs": [
    {
     "name": "stdout",
     "output_type": "stream",
     "text": [
      "The correlation of gold and equity ETFs in October is -0.1715275917007279\n"
     ]
    }
   ],
   "source": [
    "corr_oct = stats.pearsonr(gold_df[(\"2019-10-01\" < gold_df.index) & (gold_df.index < \"2019-11-01\")][\"Daily Return\"], india_df[(\"2019-10-01\" < india_df.index) & (india_df.index < \"2019-11-01\")][\"Daily Return\"])[0]\n",
    "print('The correlation of gold and equity ETFs in October is {}'.format(corr_oct))"
   ]
  },
  {
   "cell_type": "code",
   "execution_count": 28,
   "metadata": {},
   "outputs": [],
   "source": [
    "#November correlation"
   ]
  },
  {
   "cell_type": "code",
   "execution_count": 29,
   "metadata": {
    "pycharm": {
     "name": "#%%\n"
    }
   },
   "outputs": [
    {
     "name": "stdout",
     "output_type": "stream",
     "text": [
      "The correlation of gold and equity ETFs in November is -0.1715275917007279\n"
     ]
    }
   ],
   "source": [
    "corr_nov = stats.pearsonr(gold_df[gold_df.index >= \"2019-11-01\"][\"Daily Return\"], india_df[india_df.index >= \"2019-11-01\"][\"Daily Return\"])[0]\n",
    "print('The correlation of gold and equity ETFs in November is {}'.format(corr_oct))"
   ]
  }
 ],
 "metadata": {
  "kernelspec": {
   "display_name": "Python 3",
   "language": "python",
   "name": "python3"
  },
  "language_info": {
   "codemirror_mode": {
    "name": "ipython",
    "version": 3
   },
   "file_extension": ".py",
   "mimetype": "text/x-python",
   "name": "python",
   "nbconvert_exporter": "python",
   "pygments_lexer": "ipython3",
   "version": "3.8.6"
  }
 },
 "nbformat": 4,
 "nbformat_minor": 5
}
